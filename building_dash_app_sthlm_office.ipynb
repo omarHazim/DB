{
 "cells": [
  {
   "cell_type": "code",
   "execution_count": 3,
   "metadata": {
    "collapsed": true
   },
   "outputs": [],
   "source": [
    "import dash\n",
    "import dash_core_components as dcc\n",
    "import dash_html_components as html\n",
    "import plotly.graph_objs as go\n",
    "import pandas as pd\n",
    "from geopy.geocoders import Nominatim \n",
    "import itertools\n",
    "from itertools import *\n",
    "import os\n",
    "import numpy as np\n",
    "from dash.dependencies import Input, Output\n",
    "import json\n"
   ]
  },
  {
   "cell_type": "code",
   "execution_count": 8,
   "metadata": {
    "collapsed": true
   },
   "outputs": [],
   "source": [
    "\n",
    "# Reading the dataset in '.xlsx' file \n",
    "def import_excel(\n",
    "    xlxs_file_nme, sheet_num ,col_nme = '' , sheet_idx=False, file_loc=True):\n",
    "    \"\"\"\n",
    "    Import and convert .xlxs file to a dataframe \n",
    "    Inputs:\n",
    "    ________________\n",
    "     - xlxs_file_nme: str\n",
    "         .xlxs file name\n",
    "     - sheet_num: int / str\n",
    "         name (or number) of the sheet inside .xlxs\n",
    "     - col_nme: str\n",
    "         when sheet_idx is \"True\", add column name to set dataframe index \n",
    "     - sheet_idx: bol\n",
    "         set dataframe index according to any specified column within the datframe , default \"False\" \n",
    "     - file_loc:\n",
    "    Outputs:\n",
    "    ________________\n",
    "     - dataframe of dataset\n",
    "    \"\"\"\n",
    "    if file_loc:\n",
    "        file_path = os.path.abspath(xlxs_file_nme)\n",
    "        xlsx = pd.ExcelFile(file_path)\n",
    "        sheet1 = xlsx.parse(sheet_num)\n",
    "        if sheet_idx:\n",
    "            sheet1.index = sheet1[col_nme]\n",
    "            new_df_beach_0 = sheet1.iloc[:]\n",
    "            new_df_beach_0.fillna(value= 'NaN', inplace=True)\n",
    "            return new_df_beach_0\n",
    "        else:\n",
    "            new_df_beach_0 = sheet1.iloc[:]\n",
    "            new_df_beach_0.reset_index(inplace= True)\n",
    "            new_df_beach_0.drop(['index'], axis=1, inplace = True)\n",
    "            new_df_beach_0.fillna(value= 'NaN', inplace=True)\n",
    "            return new_df_beach_0\n",
    "    else:\n",
    "        xlsx = pd.ExcelFile(xlxs_file_nme)\n",
    "        sheet1 = xlsx.parse(sheet_num)\n",
    "        if sheet_idx:\n",
    "            sheet1.index =  sheet1[col_nme]\n",
    "            new_df_beach_0 = sheet1.iloc[:]\n",
    "            new_df_beach_0.fillna(value= 'NaN', inplace=True)\n",
    "            return new_df_beach_0\n",
    "        else:\n",
    "            new_df_beach_0 = sheet1.iloc[:]\n",
    "            new_df_beach_0.reset_index(inplace= True)\n",
    "            new_df_beach_0.drop(['index'], axis=1, inplace = True)\n",
    "            new_df_beach_0.fillna(value= 'NaN', inplace=True)\n",
    "            return new_df_beach_0\n",
    "\n",
    "## Add different info to the map marker\n",
    "def df_map(\n",
    "    df, location_col, name_col, beach, proj, client, status, \n",
    "    deadline, code):\n",
    "    def poptext_3(\n",
    "        df, location_col, name_col, beach, proj, client, status, \n",
    "        deadline, code, x):\n",
    "    \n",
    "        new_df = df[\n",
    "            [location_col, name_col, beach, proj, client, status, \n",
    "             deadline, code]\n",
    "        ].groupby([location_col, name_col, beach, proj, client, status, \n",
    "                   deadline, code]).count()\n",
    "        info_lst = []\n",
    "        for info in new_df.index:\n",
    "            if info[0] == x:\n",
    "                yield 'Name: {0} , Beach: {1} , Project: {2}, Client: {3},\\\n",
    "                Status: {4}, Deadline: {5} , Case code: {6}'.format(\n",
    "                    info[1], info[2], info[3], info[4], info[5], \n",
    "                    info[6].date(), info[7])\n",
    "                \n",
    "    geolocator = Nominatim()        \n",
    "    countries = pd.DataFrame({'country': list(set(df[location_col]))})\n",
    "    countries['lat'] = countries['country'].apply(\n",
    "    lambda x: geolocator.geocode(x, timeout=15).latitude)\n",
    "    countries['lon'] = countries['country'].apply(\n",
    "    lambda x: geolocator.geocode(x, timeout=15).longitude)\n",
    "    countries['Avrg_Days_till_Deadline'] = df.groupby(['Location'])[\n",
    "        'Days until DL'].mean().round(decimals=0).values\n",
    "    countries['info'] = countries['country'].apply(lambda i: list(poptext_3(\n",
    "    new_df_beach,location_col, name_col, beach, proj, client, status, \n",
    "        deadline, code, i)))\n",
    "    return countries"
   ]
  },
  {
   "cell_type": "code",
   "execution_count": 9,
   "metadata": {},
   "outputs": [
    {
     "data": {
      "text/html": [
       "<div>\n",
       "<style>\n",
       "    .dataframe thead tr:only-child th {\n",
       "        text-align: right;\n",
       "    }\n",
       "\n",
       "    .dataframe thead th {\n",
       "        text-align: left;\n",
       "    }\n",
       "\n",
       "    .dataframe tbody tr th {\n",
       "        vertical-align: top;\n",
       "    }\n",
       "</style>\n",
       "<table border=\"1\" class=\"dataframe\">\n",
       "  <thead>\n",
       "    <tr style=\"text-align: right;\">\n",
       "      <th></th>\n",
       "      <th>country</th>\n",
       "      <th>lat</th>\n",
       "      <th>lon</th>\n",
       "      <th>Avrg_Days_till_Deadline</th>\n",
       "      <th>info</th>\n",
       "    </tr>\n",
       "  </thead>\n",
       "  <tbody>\n",
       "    <tr>\n",
       "      <th>0</th>\n",
       "      <td>United Kingdom</td>\n",
       "      <td>25.223228</td>\n",
       "      <td>55.159493</td>\n",
       "      <td>162.0</td>\n",
       "      <td>[Name: Anders , Beach: yes  , Project: NaN, Cl...</td>\n",
       "    </tr>\n",
       "    <tr>\n",
       "      <th>1</th>\n",
       "      <td>Italy</td>\n",
       "      <td>42.638426</td>\n",
       "      <td>12.674297</td>\n",
       "      <td>137.0</td>\n",
       "      <td>[Name: Axel , Beach: yes  , Project: NaN, Clie...</td>\n",
       "    </tr>\n",
       "    <tr>\n",
       "      <th>2</th>\n",
       "      <td>Sweden</td>\n",
       "      <td>59.674971</td>\n",
       "      <td>14.520858</td>\n",
       "      <td>142.0</td>\n",
       "      <td>[Name: Alexander , Beach: yes  , Project: NaN,...</td>\n",
       "    </tr>\n",
       "    <tr>\n",
       "      <th>3</th>\n",
       "      <td>Denmark</td>\n",
       "      <td>55.670249</td>\n",
       "      <td>10.333328</td>\n",
       "      <td>142.0</td>\n",
       "      <td>[Name: Erik H , Beach: yes  , Project: NaN, Cl...</td>\n",
       "    </tr>\n",
       "    <tr>\n",
       "      <th>4</th>\n",
       "      <td>United States</td>\n",
       "      <td>39.783730</td>\n",
       "      <td>-100.445882</td>\n",
       "      <td>142.0</td>\n",
       "      <td>[Name: Emelie , Beach: yes  , Project: NaN, Cl...</td>\n",
       "    </tr>\n",
       "    <tr>\n",
       "      <th>5</th>\n",
       "      <td>Germany</td>\n",
       "      <td>51.083420</td>\n",
       "      <td>10.423447</td>\n",
       "      <td>162.0</td>\n",
       "      <td>[Name: Andreas , Beach: yes  , Project: NaN, C...</td>\n",
       "    </tr>\n",
       "    <tr>\n",
       "      <th>6</th>\n",
       "      <td>Russian Federation</td>\n",
       "      <td>64.686314</td>\n",
       "      <td>97.745306</td>\n",
       "      <td>142.0</td>\n",
       "      <td>[Name: Emil , Beach: no , Project: NaN, Client...</td>\n",
       "    </tr>\n",
       "    <tr>\n",
       "      <th>7</th>\n",
       "      <td>Finland</td>\n",
       "      <td>63.246778</td>\n",
       "      <td>25.920916</td>\n",
       "      <td>142.0</td>\n",
       "      <td>[Name: Erik R , Beach: no , Project: NaN, Clie...</td>\n",
       "    </tr>\n",
       "    <tr>\n",
       "      <th>8</th>\n",
       "      <td>France</td>\n",
       "      <td>46.603354</td>\n",
       "      <td>1.888334</td>\n",
       "      <td>142.0</td>\n",
       "      <td>[Name: Artin , Beach: no , Project: NaN, Clien...</td>\n",
       "    </tr>\n",
       "    <tr>\n",
       "      <th>9</th>\n",
       "      <td>Spain</td>\n",
       "      <td>40.002803</td>\n",
       "      <td>-4.003104</td>\n",
       "      <td>162.0</td>\n",
       "      <td>[Name: Daniel , Beach: no , Project: NaN, Clie...</td>\n",
       "    </tr>\n",
       "  </tbody>\n",
       "</table>\n",
       "</div>"
      ],
      "text/plain": [
       "              country        lat         lon  Avrg_Days_till_Deadline  \\\n",
       "0      United Kingdom  25.223228   55.159493                    162.0   \n",
       "1               Italy  42.638426   12.674297                    137.0   \n",
       "2              Sweden  59.674971   14.520858                    142.0   \n",
       "3             Denmark  55.670249   10.333328                    142.0   \n",
       "4       United States  39.783730 -100.445882                    142.0   \n",
       "5             Germany  51.083420   10.423447                    162.0   \n",
       "6  Russian Federation  64.686314   97.745306                    142.0   \n",
       "7             Finland  63.246778   25.920916                    142.0   \n",
       "8              France  46.603354    1.888334                    142.0   \n",
       "9               Spain  40.002803   -4.003104                    162.0   \n",
       "\n",
       "                                                info  \n",
       "0  [Name: Anders , Beach: yes  , Project: NaN, Cl...  \n",
       "1  [Name: Axel , Beach: yes  , Project: NaN, Clie...  \n",
       "2  [Name: Alexander , Beach: yes  , Project: NaN,...  \n",
       "3  [Name: Erik H , Beach: yes  , Project: NaN, Cl...  \n",
       "4  [Name: Emelie , Beach: yes  , Project: NaN, Cl...  \n",
       "5  [Name: Andreas , Beach: yes  , Project: NaN, C...  \n",
       "6  [Name: Emil , Beach: no , Project: NaN, Client...  \n",
       "7  [Name: Erik R , Beach: no , Project: NaN, Clie...  \n",
       "8  [Name: Artin , Beach: no , Project: NaN, Clien...  \n",
       "9  [Name: Daniel , Beach: no , Project: NaN, Clie...  "
      ]
     },
     "execution_count": 9,
     "metadata": {},
     "output_type": "execute_result"
    }
   ],
   "source": [
    "# Builidng Dash/plotly app ´\n",
    "new_df_beach = import_excel(\n",
    "    'Copy of Beach Work HTMLversion.xlsx', sheet_num=0, sheet_idx = False, \n",
    ") #, sheet_idx='Name'\n",
    "\n",
    "converted_df = df_map(new_df_beach,'Location', 'Name','Beach','Project' , \n",
    "                     'Client', 'Status' , 'Deadline', 'Case code')\n",
    "\n",
    "converted_df"
   ]
  },
  {
   "cell_type": "code",
   "execution_count": null,
   "metadata": {},
   "outputs": [
    {
     "name": "stderr",
     "output_type": "stream",
     "text": [
      " * Running on http://127.0.0.1:8050/ (Press CTRL+C to quit)\n",
      "127.0.0.1 - - [29/Jan/2018 13:40:48] \"GET / HTTP/1.1\" 200 -\n",
      "127.0.0.1 - - [29/Jan/2018 13:40:48] \"GET /_dash-layout HTTP/1.1\" 200 -\n",
      "127.0.0.1 - - [29/Jan/2018 13:40:48] \"GET /_dash-dependencies HTTP/1.1\" 200 -\n",
      "[2018-01-29 13:40:48,974] ERROR in app: Exception on /_dash-update-component [POST]\n",
      "Traceback (most recent call last):\n",
      "  File \"/Users/omar/anaconda3/lib/python3.6/site-packages/flask/app.py\", line 1982, in wsgi_app\n",
      "    response = self.full_dispatch_request()\n",
      "  File \"/Users/omar/anaconda3/lib/python3.6/site-packages/flask/app.py\", line 1614, in full_dispatch_request\n",
      "    rv = self.handle_user_exception(e)\n",
      "  File \"/Users/omar/anaconda3/lib/python3.6/site-packages/flask/app.py\", line 1517, in handle_user_exception\n",
      "    reraise(exc_type, exc_value, tb)\n",
      "  File \"/Users/omar/anaconda3/lib/python3.6/site-packages/flask/_compat.py\", line 33, in reraise\n",
      "    raise value\n",
      "  File \"/Users/omar/anaconda3/lib/python3.6/site-packages/flask/app.py\", line 1612, in full_dispatch_request\n",
      "    rv = self.dispatch_request()\n",
      "  File \"/Users/omar/anaconda3/lib/python3.6/site-packages/flask/app.py\", line 1598, in dispatch_request\n",
      "    return self.view_functions[rule.endpoint](**req.view_args)\n",
      "  File \"/Users/omar/anaconda3/lib/python3.6/site-packages/dash/dash.py\", line 551, in dispatch\n",
      "    return self.callback_map[target_id]['callback'](*args)\n",
      "  File \"/Users/omar/anaconda3/lib/python3.6/site-packages/dash/dash.py\", line 508, in add_context\n",
      "    output_value = func(*args, **kwargs)\n",
      "  File \"<ipython-input-4-2dd8f7bbfc4c>\", line 39, in update_text\n",
      "    s = converted_df[converted_df['country'] == hoverData['points'][0]['customdata']]\n",
      "TypeError: 'NoneType' object is not subscriptable\n",
      "127.0.0.1 - - [29/Jan/2018 13:40:48] \"POST /_dash-update-component HTTP/1.1\" 500 -\n",
      "127.0.0.1 - - [29/Jan/2018 13:40:50] \"POST /_dash-update-component HTTP/1.1\" 200 -\n",
      "127.0.0.1 - - [29/Jan/2018 13:40:51] \"POST /_dash-update-component HTTP/1.1\" 200 -\n",
      "127.0.0.1 - - [29/Jan/2018 13:40:51] \"POST /_dash-update-component HTTP/1.1\" 200 -\n"
     ]
    }
   ],
   "source": [
    "# 1- Building and deploying the Dash App\n",
    "\n",
    "app = dash.Dash()\n",
    "\n",
    "mapbox_access_token = 'pk.eyJ1Ijoib21hcmhhemltIiwiYSI6ImNqY2s5cHk3MzNyZDEycm1tanV6c3pzdGUifQ.hLOK6z98WohsI19MmNBiHw'\n",
    "\n",
    "\n",
    "app.layout = html.Div([\n",
    "    html.H1('Team Location'),\n",
    "    html.Div(id='text-content'),\n",
    "    dcc.Graph(id='map', figure={\n",
    "        'data': [{\n",
    "            'lat': converted_df['lat'],\n",
    "            'lon': converted_df['lon'],\n",
    "            'marker': {\n",
    "                'size': 8,\n",
    "                'opacity': 0.6,\n",
    "                'color': 'red'\n",
    "            },\n",
    "            'customdata': converted_df['country'],\n",
    "            'type': 'scattermapbox'\n",
    "        }],\n",
    "        'layout': {\n",
    "            'mapbox': {\n",
    "                'accesstoken': mapbox_access_token,\n",
    "            },\n",
    "            'hovermode': 'closest',\n",
    "            'margin': {'l': 20, 'r': 20, 'b': 20, 't': 60},\n",
    "            'autosize': True\n",
    "        }\n",
    "    })\n",
    "])\n",
    "\n",
    "\n",
    "@app.callback(\n",
    "    dash.dependencies.Output('text-content', 'children'),\n",
    "    [dash.dependencies.Input('map', 'hoverData')])\n",
    "def update_text(hoverData):\n",
    "    s = converted_df[converted_df['country'] == hoverData['points'][0]['customdata']]\n",
    "    return html.H3(\n",
    "        '{}, {} {}'.format(\n",
    "            s.iloc[0]['country'],\n",
    "            s.iloc[0]['info'],\n",
    "            s.iloc[0]['Avrg_Days_till_Deadline']\n",
    "        )\n",
    "    )\n",
    "\n",
    "app.css.append_css({\n",
    "    'external_url': 'https://codepen.io/chriddyp/pen/bWLwgP.css'\n",
    "})\n",
    "\n",
    "if __name__ == '__main__':\n",
    "    app.run_server()"
   ]
  },
  {
   "cell_type": "code",
   "execution_count": null,
   "metadata": {
    "collapsed": true
   },
   "outputs": [],
   "source": []
  },
  {
   "cell_type": "code",
   "execution_count": null,
   "metadata": {},
   "outputs": [
    {
     "name": "stderr",
     "output_type": "stream",
     "text": [
      " * Running on http://127.0.0.1:8050/ (Press CTRL+C to quit)\n",
      "127.0.0.1 - - [26/Jan/2018 19:21:34] \"GET / HTTP/1.1\" 200 -\n",
      "127.0.0.1 - - [26/Jan/2018 19:21:35] \"GET /_dash-layout HTTP/1.1\" 200 -\n",
      "127.0.0.1 - - [26/Jan/2018 19:21:35] \"GET /_dash-dependencies HTTP/1.1\" 200 -\n",
      "127.0.0.1 - - [26/Jan/2018 19:21:35] \"POST /_dash-update-component HTTP/1.1\" 200 -\n"
     ]
    }
   ],
   "source": [
    "new_df_beach = import_excel(\n",
    "    'Copy of Beach Work HTMLversion.xlsx', sheet_num=0, sheet_idx = False)\n",
    "geolocator = Nominatim()\n",
    "new_df_beach['Lat'] = list(itertools.chain(new_df_beach['Location'].apply(lambda x: geolocator.geocode(x, timeout=15).latitude)))\n",
    "new_df_beach['Lon'] = list(itertools.chain(new_df_beach['Location'].apply(lambda x: [geolocator.geocode(x, timeout=15).longitude])))\n",
    "cities = list(itertools.chain(new_df_beach['Location'].values))\n",
    "info_1 = new_df_beach['Location'].apply(lambda i: poptext_2(new_df_beach, 'Location', 'Name', i))\n",
    "\n",
    "\n",
    "app = dash.Dash()\n",
    "mapbox_access_token = 'pk.eyJ1Ijoib21hcmhhemltIiwiYSI6ImNqY2s5cHk3MzNyZDEycm1tanV6c3pzdGUifQ.hLOK6z98WohsI19MmNBiHw'\n",
    "\n",
    "\n",
    "app.layout = html.Div([\n",
    "    html.Div(\n",
    "        html.Pre(id='lasso', style={'overflowY': 'scroll', 'height': '100vh'}),\n",
    "        className=\"three columns\"\n",
    "    ),\n",
    "\n",
    "    html.Div(\n",
    "        className=\"nine columns\",\n",
    "        children=dcc.Graph(\n",
    "            id='graph',\n",
    "            figure={\n",
    "                'data': [{\n",
    "                    'lat': new_df_beach.Lat, 'lon': new_df_beach.Lon, 'type': 'scattermapbox'\n",
    "                }],\n",
    "                'layout': {\n",
    "                    'mapbox': {\n",
    "                        'accesstoken': (\n",
    "                            mapbox_access_token\n",
    "                        )\n",
    "                    },\n",
    "                    'margin': {\n",
    "                        'l': 20, 'r': 20, 'b': 20, 't': 60\n",
    "                    },\n",
    "                }\n",
    "            }\n",
    "        )\n",
    "    )\n",
    "], className=\"row\")\n",
    "\n",
    "\n",
    "app.css.append_css({\n",
    "    'external_url': 'https://codepen.io/chriddyp/pen/bWLwgP.css'\n",
    "})\n",
    "\n",
    "\n",
    "@app.callback(\n",
    "    Output('lasso', 'children'),\n",
    "    [Input('graph', 'selectedData')])\n",
    "def display_data(selectedData):\n",
    "    return json.dumps(selectedData, indent=2)\n",
    "\n",
    "\n",
    "if __name__ == '__main__':\n",
    "    app.run_server(debug=False)"
   ]
  },
  {
   "cell_type": "code",
   "execution_count": 13,
   "metadata": {
    "collapsed": true,
    "scrolled": false
   },
   "outputs": [],
   "source": [
    "new_df_beach = import_excel(\n",
    "    'Copy of Beach Work HTMLversion.xlsx', sheet_num=0, sheet_idx = False)\n",
    "geolocator = Nominatim()\n",
    "new_df_beach['Lat'] = list(itertools.chain(new_df_beach['Location'].apply(lambda x: geolocator.geocode(x, timeout=15).latitude)))\n",
    "new_df_beach['Lon'] = list(itertools.chain(new_df_beach['Location'].apply(lambda x: [geolocator.geocode(x, timeout=15).longitude])))\n",
    "new_df_beach['idx'] = list(i+1 for i in new_df_beach.index)\n",
    "cities = list(itertools.chain(new_df_beach['Location'].values))\n",
    "info_1 = new_df_beach['Location'].apply(lambda i: poptext_2(new_df_beach, 'Location', 'Name','Deadline', i))\n",
    "lat = list(itertools.chain(set(new_df_beach['Location'].apply(lambda x: geolocator.geocode(x, timeout=15).latitude))))\n",
    "lon = list(itertools.chain(set(new_df_beach['Location'].apply(lambda x: geolocator.geocode(x, timeout=15).longitude))))\n"
   ]
  },
  {
   "cell_type": "code",
   "execution_count": null,
   "metadata": {},
   "outputs": [
    {
     "name": "stderr",
     "output_type": "stream",
     "text": [
      " * Running on http://127.0.0.1:8050/ (Press CTRL+C to quit)\n",
      "127.0.0.1 - - [26/Jan/2018 22:04:48] \"GET / HTTP/1.1\" 200 -\n",
      "127.0.0.1 - - [26/Jan/2018 22:04:49] \"GET /_dash-layout HTTP/1.1\" 200 -\n",
      "127.0.0.1 - - [26/Jan/2018 22:04:49] \"GET /_dash-dependencies HTTP/1.1\" 200 -\n",
      "127.0.0.1 - - [26/Jan/2018 22:04:50] \"GET /favicon.ico HTTP/1.1\" 200 -\n"
     ]
    }
   ],
   "source": [
    "\n",
    "app = dash.Dash()\n",
    "\n",
    "app.layout = html.Div([\n",
    "    html.H1('STHLM Office Team Map'),\n",
    "    html.Div(id='text-content'),\n",
    "    dcc.Graph(id='map', figure={\n",
    "        'data': [{\n",
    "            'lat': lat,\n",
    "            'lon': lon,\n",
    "            'marker': {\n",
    "                #'color': new_df_beach['Deadline'],\n",
    "                'size': 8,\n",
    "                'opacity': 0.6\n",
    "            },\n",
    "            'customdata': list(set(cities)),\n",
    "            'type': 'scattermapbox'\n",
    "        }],\n",
    "        'layout': {\n",
    "            'mapbox': {\n",
    "                'accesstoken': 'pk.eyJ1Ijoib21hcmhhemltIiwiYSI6ImNqY2s5cHk3MzNyZDEycm1tanV6c3pzdGUifQ.hLOK6z98WohsI19MmNBiHw',\n",
    "                'center': {'lat': np.mean(lat), 'lon': np.mean(lon)}\n",
    "            },\n",
    "            'hovermode': 'closest',\n",
    "            'margin': {'l': 20, 'r': 20, 'b': 20, 't': 60}\n",
    "        }\n",
    "    })\n",
    "])\n",
    "\n",
    "\n",
    "app.css.append_css({\n",
    "    'external_url': 'https://codepen.io/chriddyp/pen/bWLwgP.css'\n",
    "})\n",
    "\n",
    "if __name__ == '__main__':\n",
    "    app.run_server(debug=False)"
   ]
  },
  {
   "cell_type": "code",
   "execution_count": 21,
   "metadata": {
    "collapsed": true
   },
   "outputs": [],
   "source": [
    "\n"
   ]
  },
  {
   "cell_type": "code",
   "execution_count": 221,
   "metadata": {},
   "outputs": [
    {
     "data": {
      "text/plain": [
       "0    ['Russian Federation'].['Emil', 'Olle', 'Sean B']\n",
       "1           ['France'].['Artin', 'Justin', 'Rikard S']\n",
       "2         ['Germany'].['Andreas', 'Jonas', 'Rikard L']\n",
       "3                      ['Finland'].['Erik R', 'Oscar']\n",
       "4              ['Denmark'].['Erik H', 'Omar', 'Sofia']\n",
       "5       ['United Kingdom'].['Anders', 'Johan', 'Paul']\n",
       "6         ['Spain'].['Daniel', 'Kristoffer', 'Sara H']\n",
       "7      ['United States'].['Emelie', 'Mikko', 'Sara J']\n",
       "8         ['Sweden'].['Alexander', 'Jennifer', 'Otto']\n",
       "9              ['Italy'].['Axel', 'Kristin', 'Samuel']\n",
       "Name: info, dtype: object"
      ]
     },
     "execution_count": 221,
     "metadata": {},
     "output_type": "execute_result"
    }
   ],
   "source": []
  },
  {
   "cell_type": "code",
   "execution_count": null,
   "metadata": {
    "collapsed": true
   },
   "outputs": [],
   "source": []
  },
  {
   "cell_type": "code",
   "execution_count": null,
   "metadata": {
    "collapsed": true,
    "lang": "en"
   },
   "outputs": [],
   "source": []
  },
  {
   "cell_type": "code",
   "execution_count": null,
   "metadata": {
    "collapsed": true,
    "lang": "fr"
   },
   "outputs": [],
   "source": []
  },
  {
   "cell_type": "code",
   "execution_count": 7,
   "metadata": {
    "collapsed": true
   },
   "outputs": [],
   "source": [
    "\n"
   ]
  },
  {
   "cell_type": "code",
   "execution_count": 8,
   "metadata": {},
   "outputs": [
    {
     "ename": "NameError",
     "evalue": "name 'geolocator' is not defined",
     "output_type": "error",
     "traceback": [
      "\u001b[0;31m---------------------------------------------------------------------------\u001b[0m",
      "\u001b[0;31mNameError\u001b[0m                                 Traceback (most recent call last)",
      "\u001b[0;32m<ipython-input-8-31b5d538f529>\u001b[0m in \u001b[0;36m<module>\u001b[0;34m()\u001b[0m\n\u001b[1;32m      1\u001b[0m df_map(new_df_beach,'Location', 'Name','Beach','Project' , 'Client', 'Status'\n\u001b[0;32m----> 2\u001b[0;31m        , 'Deadline', 'Case code')\n\u001b[0m\u001b[1;32m      3\u001b[0m \u001b[0;34m\u001b[0m\u001b[0m\n",
      "\u001b[0;32m<ipython-input-7-3a4a4d7dd769>\u001b[0m in \u001b[0;36mdf_map\u001b[0;34m(df, location_col, name_col, beach, proj, client, status, deadline, code)\u001b[0m\n\u001b[1;32m     21\u001b[0m     \u001b[0mcountries\u001b[0m \u001b[0;34m=\u001b[0m \u001b[0mpd\u001b[0m\u001b[0;34m.\u001b[0m\u001b[0mDataFrame\u001b[0m\u001b[0;34m(\u001b[0m\u001b[0;34m{\u001b[0m\u001b[0;34m'country'\u001b[0m\u001b[0;34m:\u001b[0m \u001b[0mlist\u001b[0m\u001b[0;34m(\u001b[0m\u001b[0mset\u001b[0m\u001b[0;34m(\u001b[0m\u001b[0mdf\u001b[0m\u001b[0;34m[\u001b[0m\u001b[0mlocation_col\u001b[0m\u001b[0;34m]\u001b[0m\u001b[0;34m)\u001b[0m\u001b[0;34m)\u001b[0m\u001b[0;34m}\u001b[0m\u001b[0;34m)\u001b[0m\u001b[0;34m\u001b[0m\u001b[0m\n\u001b[1;32m     22\u001b[0m     countries['lat'] = countries['country'].apply(\n\u001b[0;32m---> 23\u001b[0;31m     lambda x: geolocator.geocode(x, timeout=15).latitude)\n\u001b[0m\u001b[1;32m     24\u001b[0m     countries['lon'] = countries['country'].apply(\n\u001b[1;32m     25\u001b[0m     lambda x: geolocator.geocode(x, timeout=15).longitude)\n",
      "\u001b[0;32m~/anaconda3/lib/python3.6/site-packages/pandas/core/series.py\u001b[0m in \u001b[0;36mapply\u001b[0;34m(self, func, convert_dtype, args, **kwds)\u001b[0m\n\u001b[1;32m   2353\u001b[0m             \u001b[0;32melse\u001b[0m\u001b[0;34m:\u001b[0m\u001b[0;34m\u001b[0m\u001b[0m\n\u001b[1;32m   2354\u001b[0m                 \u001b[0mvalues\u001b[0m \u001b[0;34m=\u001b[0m \u001b[0mself\u001b[0m\u001b[0;34m.\u001b[0m\u001b[0masobject\u001b[0m\u001b[0;34m\u001b[0m\u001b[0m\n\u001b[0;32m-> 2355\u001b[0;31m                 \u001b[0mmapped\u001b[0m \u001b[0;34m=\u001b[0m \u001b[0mlib\u001b[0m\u001b[0;34m.\u001b[0m\u001b[0mmap_infer\u001b[0m\u001b[0;34m(\u001b[0m\u001b[0mvalues\u001b[0m\u001b[0;34m,\u001b[0m \u001b[0mf\u001b[0m\u001b[0;34m,\u001b[0m \u001b[0mconvert\u001b[0m\u001b[0;34m=\u001b[0m\u001b[0mconvert_dtype\u001b[0m\u001b[0;34m)\u001b[0m\u001b[0;34m\u001b[0m\u001b[0m\n\u001b[0m\u001b[1;32m   2356\u001b[0m \u001b[0;34m\u001b[0m\u001b[0m\n\u001b[1;32m   2357\u001b[0m         \u001b[0;32mif\u001b[0m \u001b[0mlen\u001b[0m\u001b[0;34m(\u001b[0m\u001b[0mmapped\u001b[0m\u001b[0;34m)\u001b[0m \u001b[0;32mand\u001b[0m \u001b[0misinstance\u001b[0m\u001b[0;34m(\u001b[0m\u001b[0mmapped\u001b[0m\u001b[0;34m[\u001b[0m\u001b[0;36m0\u001b[0m\u001b[0;34m]\u001b[0m\u001b[0;34m,\u001b[0m \u001b[0mSeries\u001b[0m\u001b[0;34m)\u001b[0m\u001b[0;34m:\u001b[0m\u001b[0;34m\u001b[0m\u001b[0m\n",
      "\u001b[0;32mpandas/_libs/src/inference.pyx\u001b[0m in \u001b[0;36mpandas._libs.lib.map_infer\u001b[0;34m()\u001b[0m\n",
      "\u001b[0;32m<ipython-input-7-3a4a4d7dd769>\u001b[0m in \u001b[0;36m<lambda>\u001b[0;34m(x)\u001b[0m\n\u001b[1;32m     21\u001b[0m     \u001b[0mcountries\u001b[0m \u001b[0;34m=\u001b[0m \u001b[0mpd\u001b[0m\u001b[0;34m.\u001b[0m\u001b[0mDataFrame\u001b[0m\u001b[0;34m(\u001b[0m\u001b[0;34m{\u001b[0m\u001b[0;34m'country'\u001b[0m\u001b[0;34m:\u001b[0m \u001b[0mlist\u001b[0m\u001b[0;34m(\u001b[0m\u001b[0mset\u001b[0m\u001b[0;34m(\u001b[0m\u001b[0mdf\u001b[0m\u001b[0;34m[\u001b[0m\u001b[0mlocation_col\u001b[0m\u001b[0;34m]\u001b[0m\u001b[0;34m)\u001b[0m\u001b[0;34m)\u001b[0m\u001b[0;34m}\u001b[0m\u001b[0;34m)\u001b[0m\u001b[0;34m\u001b[0m\u001b[0m\n\u001b[1;32m     22\u001b[0m     countries['lat'] = countries['country'].apply(\n\u001b[0;32m---> 23\u001b[0;31m     lambda x: geolocator.geocode(x, timeout=15).latitude)\n\u001b[0m\u001b[1;32m     24\u001b[0m     countries['lon'] = countries['country'].apply(\n\u001b[1;32m     25\u001b[0m     lambda x: geolocator.geocode(x, timeout=15).longitude)\n",
      "\u001b[0;31mNameError\u001b[0m: name 'geolocator' is not defined"
     ]
    }
   ],
   "source": [
    "\n"
   ]
  },
  {
   "cell_type": "code",
   "execution_count": null,
   "metadata": {
    "collapsed": true
   },
   "outputs": [],
   "source": []
  },
  {
   "cell_type": "code",
   "execution_count": null,
   "metadata": {
    "collapsed": true
   },
   "outputs": [],
   "source": []
  },
  {
   "cell_type": "code",
   "execution_count": 11,
   "metadata": {},
   "outputs": [
    {
     "data": {
      "text/plain": [
       "0    161.666667\n",
       "1    137.000000\n",
       "2    142.000000\n",
       "3    142.000000\n",
       "4    142.000000\n",
       "5    161.666667\n",
       "6    142.000000\n",
       "7    142.000000\n",
       "8    142.000000\n",
       "9    161.666667\n",
       "Name: Avrg_Days_till_Deadline, dtype: float64"
      ]
     },
     "execution_count": 11,
     "metadata": {},
     "output_type": "execute_result"
    }
   ],
   "source": [
    "converted_df.Avrg_Days_till_Deadline\n",
    "\n"
   ]
  },
  {
   "cell_type": "code",
   "execution_count": null,
   "metadata": {
    "collapsed": true
   },
   "outputs": [],
   "source": [
    "\n"
   ]
  },
  {
   "cell_type": "code",
   "execution_count": null,
   "metadata": {
    "collapsed": true
   },
   "outputs": [],
   "source": [
    "\n"
   ]
  },
  {
   "cell_type": "code",
   "execution_count": null,
   "metadata": {
    "collapsed": true
   },
   "outputs": [],
   "source": []
  }
 ],
 "metadata": {
  "kernelspec": {
   "display_name": "Python 3",
   "language": "python",
   "name": "python3"
  },
  "language_info": {
   "codemirror_mode": {
    "name": "ipython",
    "version": 3
   },
   "file_extension": ".py",
   "mimetype": "text/x-python",
   "name": "python",
   "nbconvert_exporter": "python",
   "pygments_lexer": "ipython3",
   "version": "3.6.3"
  },
  "latex_envs": {
   "LaTeX_envs_menu_present": true,
   "autoclose": false,
   "autocomplete": true,
   "bibliofile": "biblio.bib",
   "cite_by": "apalike",
   "current_citInitial": 1,
   "eqLabelWithNumbers": true,
   "eqNumInitial": 1,
   "hotkeys": {
    "equation": "Ctrl-E",
    "itemize": "Ctrl-I"
   },
   "labels_anchors": false,
   "latex_user_defs": false,
   "report_style_numbering": false,
   "user_envs_cfg": false
  },
  "nbTranslate": {
   "displayLangs": [
    "*"
   ],
   "hotkey": "alt-t",
   "langInMainMenu": true,
   "sourceLang": "en",
   "targetLang": "fr",
   "useGoogleTranslate": true
  },
  "toc": {
   "nav_menu": {},
   "number_sections": true,
   "sideBar": true,
   "skip_h1_title": false,
   "toc_cell": false,
   "toc_position": {},
   "toc_section_display": "block",
   "toc_window_display": false
  }
 },
 "nbformat": 4,
 "nbformat_minor": 2
}
