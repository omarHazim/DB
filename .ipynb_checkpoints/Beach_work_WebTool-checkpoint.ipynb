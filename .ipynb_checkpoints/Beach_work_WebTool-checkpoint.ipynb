{
 "cells": [
  {
   "cell_type": "markdown",
   "metadata": {
    "extensions": {
     "jupyter_dashboards": {
      "version": 1,
      "views": {
       "grid_default": {
        "col": 0,
        "height": 4,
        "hidden": false,
        "row": 0,
        "width": 12
       },
       "report_default": {}
      }
     }
    }
   },
   "source": [
    "# Beach Resources OW VisTool/STHLM office"
   ]
  },
  {
   "cell_type": "code",
   "execution_count": 4,
   "metadata": {
    "collapsed": true,
    "extensions": {
     "jupyter_dashboards": {
      "version": 1,
      "views": {
       "grid_default": {
        "hidden": true
       },
       "report_default": {}
      }
     }
    }
   },
   "outputs": [],
   "source": [
    "## set up Dash with classes for all of the visual components of the application\n",
    "import pandas as pd\n",
    "import numpy as np\n",
    "import matplotlib.pyplot as plt\n",
    "from geopy.geocoders import Nominatim \n",
    "from itertools import count\n",
    "from datetime import datetime\n",
    "import itertools\n",
    "import plotly \n",
    "import plotly.plotly as py\n",
    "from plotly.graph_objs import *\n",
    "import os\n",
    "import folium\n"
   ]
  },
  {
   "cell_type": "code",
   "execution_count": 5,
   "metadata": {
    "extensions": {
     "jupyter_dashboards": {
      "version": 1,
      "views": {
       "grid_default": {
        "col": 0,
        "height": 10,
        "hidden": false,
        "row": 4,
        "width": 12
       },
       "report_default": {}
      }
     }
    },
    "scrolled": false
   },
   "outputs": [
    {
     "data": {
      "text/html": [
       "<div>\n",
       "<style>\n",
       "    .dataframe thead tr:only-child th {\n",
       "        text-align: right;\n",
       "    }\n",
       "\n",
       "    .dataframe thead th {\n",
       "        text-align: left;\n",
       "    }\n",
       "\n",
       "    .dataframe tbody tr th {\n",
       "        vertical-align: top;\n",
       "    }\n",
       "</style>\n",
       "<table border=\"1\" class=\"dataframe\">\n",
       "  <thead>\n",
       "    <tr style=\"text-align: right;\">\n",
       "      <th></th>\n",
       "      <th>Name</th>\n",
       "      <th>Beach</th>\n",
       "      <th>Location</th>\n",
       "      <th>Responsible</th>\n",
       "      <th>Case code</th>\n",
       "      <th>Priority</th>\n",
       "      <th>Client</th>\n",
       "      <th>Project</th>\n",
       "      <th>Deadline/End date</th>\n",
       "      <th>Days until DL</th>\n",
       "      <th>Status</th>\n",
       "      <th>Comment</th>\n",
       "    </tr>\n",
       "  </thead>\n",
       "  <tbody>\n",
       "    <tr>\n",
       "      <th>NaN</th>\n",
       "      <td>Alexander</td>\n",
       "      <td>yes</td>\n",
       "      <td>Stockholm</td>\n",
       "      <td>NaN</td>\n",
       "      <td>Carl - FSP31001</td>\n",
       "      <td>Internal - Firm building</td>\n",
       "      <td>Bank A</td>\n",
       "      <td>NaN</td>\n",
       "      <td>2018-04-14</td>\n",
       "      <td>85</td>\n",
       "      <td>Ongoing</td>\n",
       "      <td>NaN</td>\n",
       "    </tr>\n",
       "    <tr>\n",
       "      <th>NaN</th>\n",
       "      <td>Anders</td>\n",
       "      <td>yes</td>\n",
       "      <td>London</td>\n",
       "      <td>NaN</td>\n",
       "      <td>Sean - FSP03201</td>\n",
       "      <td>Internal - Business development</td>\n",
       "      <td>Bank B</td>\n",
       "      <td>NaN</td>\n",
       "      <td>2018-04-14</td>\n",
       "      <td>85</td>\n",
       "      <td>Ongoing</td>\n",
       "      <td>NaN</td>\n",
       "    </tr>\n",
       "    <tr>\n",
       "      <th>NaN</th>\n",
       "      <td>Andreas</td>\n",
       "      <td>yes</td>\n",
       "      <td>Germany</td>\n",
       "      <td>NaN</td>\n",
       "      <td>Bo - N/A</td>\n",
       "      <td>Project - Soft start</td>\n",
       "      <td>Bank A</td>\n",
       "      <td>NaN</td>\n",
       "      <td>2018-04-14</td>\n",
       "      <td>85</td>\n",
       "      <td>Ongoing</td>\n",
       "      <td>NaN</td>\n",
       "    </tr>\n",
       "    <tr>\n",
       "      <th>NaN</th>\n",
       "      <td>Artin</td>\n",
       "      <td>no</td>\n",
       "      <td>France</td>\n",
       "      <td>NaN</td>\n",
       "      <td>Nader - FSP11101</td>\n",
       "      <td>Project - Delivery risk / WLB</td>\n",
       "      <td>Bank B</td>\n",
       "      <td>NaN</td>\n",
       "      <td>2018-04-14</td>\n",
       "      <td>85</td>\n",
       "      <td>NaN</td>\n",
       "      <td>NaN</td>\n",
       "    </tr>\n",
       "    <tr>\n",
       "      <th>NaN</th>\n",
       "      <td>Axel</td>\n",
       "      <td>yes</td>\n",
       "      <td>Italy</td>\n",
       "      <td>NaN</td>\n",
       "      <td>Martin - FSP32601</td>\n",
       "      <td>Project - General help</td>\n",
       "      <td>Bank A</td>\n",
       "      <td>NaN</td>\n",
       "      <td>2018-04-14</td>\n",
       "      <td>85</td>\n",
       "      <td>Ongoing</td>\n",
       "      <td>NaN</td>\n",
       "    </tr>\n",
       "  </tbody>\n",
       "</table>\n",
       "</div>"
      ],
      "text/plain": [
       "          Name Beach   Location  Responsible          Case code  \\\n",
       "NaN  Alexander  yes   Stockholm          NaN    Carl - FSP31001   \n",
       "NaN     Anders  yes      London          NaN    Sean - FSP03201   \n",
       "NaN    Andreas  yes     Germany          NaN           Bo - N/A   \n",
       "NaN      Artin    no     France          NaN   Nader - FSP11101   \n",
       "NaN       Axel  yes       Italy          NaN  Martin - FSP32601   \n",
       "\n",
       "                            Priority  Client  Project Deadline/End date  \\\n",
       "NaN         Internal - Firm building  Bank A      NaN        2018-04-14   \n",
       "NaN  Internal - Business development  Bank B      NaN        2018-04-14   \n",
       "NaN             Project - Soft start  Bank A      NaN        2018-04-14   \n",
       "NaN    Project - Delivery risk / WLB  Bank B      NaN        2018-04-14   \n",
       "NaN           Project - General help  Bank A      NaN        2018-04-14   \n",
       "\n",
       "     Days until DL   Status  Comment  \n",
       "NaN             85  Ongoing      NaN  \n",
       "NaN             85  Ongoing      NaN  \n",
       "NaN             85  Ongoing      NaN  \n",
       "NaN             85      NaN      NaN  \n",
       "NaN             85  Ongoing      NaN  "
      ]
     },
     "execution_count": 5,
     "metadata": {},
     "output_type": "execute_result"
    }
   ],
   "source": [
    "# Reading '.xlsx' file \n",
    "def import_excel(xlxs_file_nme, sheet_num,sheet_idx=False, file_loc=True):\n",
    "    if file_loc:\n",
    "        file_path = os.path.abspath(xlxs_file_nme)\n",
    "        xlsx = pd.ExcelFile(file_path)\n",
    "        sheet1 = xlsx.parse(sheet_num)\n",
    "        if sheet_idx:\n",
    "            sheet1.index = sheet1['Name']\n",
    "            new_df_beach_0 = sheet1.iloc[:]\n",
    "            return new_df_beach_0\n",
    "        else:\n",
    "            new_df_beach_0 = sheet1.iloc[:]\n",
    "            return new_df_beach_0\n",
    "    else:\n",
    "        xlsx = pd.ExcelFile(xlxs_file_nme)\n",
    "        sheet1 = xlsx.parse(sheet_num)\n",
    "        if sheet_idx:\n",
    "            sheet1.index = sheet1['Name']\n",
    "            new_df_beach_0 = sheet1.iloc[:]\n",
    "            return new_df_beach_0\n",
    "        else:\n",
    "            new_df_beach_0 = sheet1.iloc[:]\n",
    "            return new_df_beach_0\n",
    "\n",
    "new_df_beach = import_excel(\n",
    "    'Copy of Beach Work HTMLversion.xlsx', sheet_num=0, sheet_idx=False\n",
    ") #, sheet_idx='Name'\n",
    "new_df_beach.head()\n"
   ]
  },
  {
   "cell_type": "code",
   "execution_count": 6,
   "metadata": {
    "collapsed": true,
    "extensions": {
     "jupyter_dashboards": {
      "version": 1,
      "views": {
       "grid_default": {
        "hidden": true
       },
       "report_default": {}
      }
     }
    },
    "scrolled": true
   },
   "outputs": [],
   "source": [
    "# Building a pivot table to plot the beach resources\n",
    "#new_df_beach['Deadline/End date'].value_counts()\n",
    "#\n",
    "## 1D counting given one feature to DF\n",
    "uniq, count = np.unique(new_df_beach['Priority'], return_counts=True)\n",
    "_1D_count = dict(zip(uniq, count))\n",
    "\n",
    "## 2D counting given 2 features to DF\n",
    "df_grop = new_df_beach.groupby(['Beach','Deadline/End date', 'Name'])\n",
    "#list(zip(*df_grop)).sum()\n",
    "plt_df = df_grop.count()\n",
    "new_plt_df = pd.DataFrame(np.array(list(zip(*df_grop.Beach))[0]), columns=['Beach','Deadline/End date', 'Name'])\n",
    "#pd.to_datetime(new_plt_df[1])\n",
    "new_plt_df.replace(pd.to_datetime(new_plt_df['Deadline/End date'], format='%Y%m%d'), new_df_beach['Deadline/End date'])\n",
    "#plt.bar(x=plt_df['Days until DL'], y=plt_df['Deadline/End date'])\n",
    "counts = new_plt_df['Deadline/End date'].value_counts()\n",
    "beach = new_plt_df['Beach'].value_counts()"
   ]
  },
  {
   "cell_type": "code",
   "execution_count": 7,
   "metadata": {
    "collapsed": true,
    "extensions": {
     "jupyter_dashboards": {
      "version": 1,
      "views": {
       "grid_default": {
        "hidden": true
       },
       "report_default": {}
      }
     }
    }
   },
   "outputs": [],
   "source": [
    "################ plotting using bokeh##############\n",
    "#source = ColumnDataSource(data = dict(x=counts.index,count=counts.values))\n",
    "#data = pd.DataFrame(counts)\n",
    "#output_file(\"test.html\")\n",
    "##Creating plots using bokeh\n",
    "#date = [datetime.strftime(x, format='%Y-%m-%d') for x in counts.index]\n",
    "#source = ColumnDataSource(data=dict(x_1=date, counts=list(counts.values)))\n",
    "#p = figure()\n",
    "#p = figure(x_range=date,plot_height=250,toolbar_location=None, title=\"Beach resources Deadline\")\n",
    "#p.background_fill_color = \"whitesmoke\"\n",
    "#p.background_fill_alpha = .9\n",
    "#p.vbar(x='x_1',width=.4, top='counts', source=source, legend=\"Beach Res. count\")\n",
    "#p.border_fill_color = \"whitesmoke\"\n",
    "#p.min_border_left = 10\n",
    "#p.xgrid.grid_line_color = None\n",
    "#p.ygrid.grid_line_alpha = 0.9\n",
    "#p.ygrid.grid_line_dash = [6, 4]\n",
    "#show(p)\n",
    "################ plotting using matplotlib##############\n",
    "## set up a plot frame \n",
    "#fig, axs = plt.subplots(1,2, figsize=(13,5))\n",
    "#for ax in axs:\n",
    "   # ax.tick_params(color='white', labelcolor='white')\n",
    "    #for spine in ax.spines.values():\n",
    "        #spine.set_edgecolor('white')\n",
    "#axs[0].bar(counts.index, counts.values)\n",
    "\n",
    "#axs[1].pie(new_df_beach['Priority'].value_counts().values, \n",
    "        #labels=new_df_beach['Priority'].value_counts().index)\n",
    "\n",
    "\n"
   ]
  },
  {
   "cell_type": "code",
   "execution_count": 21,
   "metadata": {
    "collapsed": true,
    "extensions": {
     "jupyter_dashboards": {
      "version": 1,
      "views": {
       "grid_default": {
        "hidden": true
       },
       "report_default": {}
      }
     }
    }
   },
   "outputs": [],
   "source": [
    "# GeoSpotting for all resource \n",
    "def poptext_2(df,location_col,name_col, x):\n",
    "    \"\"\"\n",
    "    Supporting func to show info for each marker on the map\n",
    "        Inputs:\n",
    "        _______________\n",
    "        - df: DataFrame\n",
    "            dataset as a dataframe \n",
    "        - location_col: str\n",
    "            location column within dataset df (e.g. city)\n",
    "        - name_col: str\n",
    "            names column within dataset df \n",
    "        - x: str\n",
    "           location iterator (in case of run this func with df.apply)\n",
    "        Outputs:\n",
    "        ______________\n",
    "        set of int and str for aggregations from main dataset df\n",
    "    \"\"\"\n",
    "    new_df = new_df_beach[[location_col, name_col]].groupby([location_col,name_col]).count()\n",
    "    nme_lst = []\n",
    "    for item in new_df.index:\n",
    "        if item[0] == x:\n",
    "            nme_lst.append(item[1])\n",
    "    \n",
    "    #'Country : {0} \\n Num of resources : {1} \\n Names : {2}'.format([x],[df[location_col].value_counts()[x]],nme_lst)\n",
    "    return 'Country : {0} \\n Names : {1}'.format([x] ,nme_lst)\n",
    "\n",
    "## Creat a func to count number of resources per country\n",
    "def poptext_1(df,location_col,name_col, x):\n",
    "    \"\"\"\n",
    "    Supporting func to show info for each marker on the map\n",
    "        Inputs:\n",
    "        _______________\n",
    "        - df: DataFrame\n",
    "            dataset as a dataframe \n",
    "        - location_col: str\n",
    "            location column within dataset df (e.g. city)\n",
    "        - name_col: str\n",
    "            names column within dataset df \n",
    "        - x: str\n",
    "           location iterator (in case of run this func with df.apply)\n",
    "        Outputs:\n",
    "        ______________\n",
    "        set of int and str for aggregations from main dataset df\n",
    "    \"\"\"\n",
    "    #info_df = pd.DataFrame()\n",
    "    new_df = new_df_beach[[location_col, name_col]].groupby([location_col,name_col]).count()\n",
    "    nme_lst = []\n",
    "    for item in new_df.index:\n",
    "        if item[0] == x:\n",
    "            nme_lst.append(item[1])\n",
    "            \n",
    "    return 'Country : {0} \\n Num of resources : {1} \\n Names : {2}'.format([x],[df[location_col].value_counts()[x]],nme_lst)\n",
    "\n",
    "## Creat a map \n",
    "## creating latitude/longtitude func\n",
    "def PlotPoint(df, location_col, name_col):\n",
    "    \"\"\"\n",
    "    Plotting coordinations points an a map\n",
    "    Inputs:\n",
    "    _______________\n",
    "      - df: dataframe \n",
    "          the inputs dataset\n",
    "      - location_col: str\n",
    "          location column within dataset df (e.g. city)\n",
    "      - name_col: str\n",
    "          names column within dataset\n",
    "    Outputs:\n",
    "    _______________\n",
    "        Geomap specifies team location \n",
    "    \"\"\"   \n",
    "    # converting location to a coordinate equivalents\n",
    "    \n",
    "    geolocator = Nominatim()\n",
    "    Lat = list(itertools.chain(df[location_col].apply(lambda x: geolocator.geocode(x, timeout=15).latitude)))\n",
    "    Long = list(itertools.chain(df[location_col].apply(lambda x: [geolocator.geocode(x, timeout=15).longitude])))\n",
    "    location = np.mean(Lat), np.mean(Long)\n",
    "    ResMap = folium.Map(location=location, zoom_start=7)\n",
    "    LongLat = df[location_col].apply(\n",
    "    lambda x: folium.Marker(\n",
    "        location=[geolocator.geocode(x, timeout=15).latitude, geolocator.geocode(x, timeout=15).longitude],\n",
    "        popup=folium.Popup(poptext_1(df, location_col,name_col, x), parse_html=True), \n",
    "        icon=folium.Icon(color='red',icon='info-sign', angle=10)).add_to(ResMap)\n",
    "    if x == 'Stockholm' else folium.Marker(\n",
    "        location=[geolocator.geocode(x, timeout=15).latitude, geolocator.geocode(x, timeout=15).longitude],\n",
    "        popup=folium.Popup(poptext_1(df, location_col,name_col, x), parse_html=True), \n",
    "        icon=folium.Icon(icon='info-sign')).add_to(ResMap)\n",
    "    )\n",
    "\n",
    "    #Set the zoom to the maximum possible\n",
    "    ResMap.fit_bounds(ResMap.get_bounds())\n",
    "    return ResMap\n",
    "\n",
    "\n",
    "    # Plotting coordinations on the map\n",
    "    #folium.CircleMarker(location=[geolocator.geocode(x, timeout=15).latitude, geolocator.geocode(x, timeout=15).longitude]).add_to(ResMap)"
   ]
  },
  {
   "cell_type": "code",
   "execution_count": 22,
   "metadata": {
    "extensions": {
     "jupyter_dashboards": {
      "version": 1,
      "views": {
       "grid_default": {
        "col": 0,
        "height": 12,
        "hidden": false,
        "row": 14,
        "width": 12
       },
       "report_default": {}
      }
     }
    },
    "scrolled": false
   },
   "outputs": [
    {
     "data": {
      "text/html": [
       "<div style=\"width:100%;\"><div style=\"position:relative;width:100%;height:0;padding-bottom:60%;\"><iframe src=\"data:text/html;charset=utf-8;base64,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\" style=\"position:absolute;width:100%;height:100%;left:0;top:0;border:none !important;\" allowfullscreen webkitallowfullscreen mozallowfullscreen></iframe></div></div>"
      ],
      "text/plain": [
       "<folium.folium.Map at 0x109e9a4a8>"
      ]
     },
     "execution_count": 22,
     "metadata": {},
     "output_type": "execute_result"
    }
   ],
   "source": [
    "\n",
    "PlotPoint(new_df_beach, 'Location', 'Name')\n"
   ]
  },
  {
   "cell_type": "markdown",
   "metadata": {
    "extensions": {
     "jupyter_dashboards": {
      "version": 1,
      "views": {
       "grid_default": {
        "col": 0,
        "height": 4,
        "hidden": false,
        "row": 45,
        "width": 12
       },
       "report_default": {}
      }
     }
    }
   },
   "source": [
    "## Appex"
   ]
  },
  {
   "cell_type": "code",
   "execution_count": 10,
   "metadata": {
    "collapsed": true,
    "extensions": {
     "jupyter_dashboards": {
      "version": 1,
      "views": {
       "grid_default": {
        "hidden": true
       },
       "report_default": {}
      }
     }
    }
   },
   "outputs": [],
   "source": [
    "#df_location = pd.DataFrame(list(new_df_beach.groupby(['Location']).Location))\n",
    "#df_location.set_index(df_location[0], inplace=True)\n",
    "#np.array(list(zip(*new_df_beach.groupby(['Location', 'Name']).Location)))[0]\n",
    "#new_df_beach['Location_eql_sthlm'] = np.where(new_df_beach['Location']==\"Stockholm\", True, False)\n",
    "## setting up map to the center:\n",
    "    # 1- location = df['Latitude'].mean(), df['Longitude'].mean()\n",
    "    # 2- locationlist = df[[\"Latitude\",\"Longitude\"]].values.tolist()\n",
    "    # 3- labels = df[\"xxx\"].values.tolist()\n",
    "    # 4- m = folium.Map(location=location, zoom_start=14)\n",
    "    # 5- for point in range(len(locationlist)):\n",
    "        #popup = folium.Popup(labels[point], parse_html=True)\n",
    "        #folium.Marker(locationlist[point], popup=popup).add_to(m)\n",
    " "
   ]
  },
  {
   "cell_type": "markdown",
   "metadata": {
    "extensions": {
     "jupyter_dashboards": {
      "version": 1,
      "views": {
       "grid_default": {
        "col": 8,
        "height": 4,
        "hidden": true,
        "row": 45,
        "width": 4
       },
       "report_default": {}
      }
     }
    }
   },
   "source": [
    "###  - Beach resources visualization: GeoMap"
   ]
  },
  {
   "cell_type": "code",
   "execution_count": 11,
   "metadata": {
    "extensions": {
     "jupyter_dashboards": {
      "version": 1,
      "views": {
       "grid_default": {
        "col": 0,
        "height": 19,
        "hidden": false,
        "row": 26,
        "width": 12
       },
       "report_default": {}
      }
     }
    },
    "scrolled": false
   },
   "outputs": [
    {
     "data": {
      "text/plain": [
       "\"\\n#plotly.tools.set_credentials_file(username='omar.hazim', api_key='UnoUlwMh8vwec5ezDXzB')\\n#mapbox_access_token = 'pk.eyJ1Ijoib21hcmhhemltIiwiYSI6ImNqY2s5cHk3MzNyZDEycm1tanV6c3pzdGUifQ.hLOK6z98WohsI19MmNBiHw'\\n\\n## Converting location colunms to a cooredinations figures\\n#geolocator = Nominatim()\\n#Lat = list(itertools.chain(new_df_beach['Location'].apply(lambda x: geolocator.geocode(x, timeout=15).latitude)))\\n#Long = list(itertools.chain(new_df_beach['Location'].apply(lambda x: [geolocator.geocode(x, timeout=15).longitude])))\\n#cities = list(itertools.chain(new_df_beach['Location'].values))\\n\\ninfo_1 = new_df_beach['Location'].apply(lambda i: poptext_2(new_df_beach, 'Location', 'Name', i))\\n\\n## Map all coordinations\\ndata_beach = Data([ \\n    Scattermapbox(\\n        lat=Lat,\\n        lon=Long,\\n        mode='markers',\\n        marker = Marker(\\n            size = 8,\\n            opacity = 0.8,\\n        ),\\n       text = info_1,\\n    )\\n])\\n\\nlayout_beach = Layout(\\n    autosize=True,\\n    hovermode='closest',\\n    mapbox=dict(\\n        accesstoken=mapbox_access_token,\\n        bearing=0,\\n        center=dict(\\n            lat=0,\\n            lon=0\\n        ),\\n        pitch=0,\\n        zoom=0.25\\n    ),\\n)\\n\\nfig_beach = dict(data=data_beach, layout=layout_beach)\\npy.iplot(fig_beach, filename='Beach Resources Mapbox')\\n\""
      ]
     },
     "execution_count": 11,
     "metadata": {},
     "output_type": "execute_result"
    }
   ],
   "source": [
    "############################ Plotting using Plotly & Dash ##########################################\n",
    "## Running credentials \n",
    "\"\"\"\n",
    "#plotly.tools.set_credentials_file(username='omar.hazim', api_key='UnoUlwMh8vwec5ezDXzB')\n",
    "#mapbox_access_token = 'pk.eyJ1Ijoib21hcmhhemltIiwiYSI6ImNqY2s5cHk3MzNyZDEycm1tanV6c3pzdGUifQ.hLOK6z98WohsI19MmNBiHw'\n",
    "\n",
    "## Converting location colunms to a cooredinations figures\n",
    "#geolocator = Nominatim()\n",
    "#Lat = list(itertools.chain(new_df_beach['Location'].apply(lambda x: geolocator.geocode(x, timeout=15).latitude)))\n",
    "#Long = list(itertools.chain(new_df_beach['Location'].apply(lambda x: [geolocator.geocode(x, timeout=15).longitude])))\n",
    "#cities = list(itertools.chain(new_df_beach['Location'].values))\n",
    "\n",
    "info_1 = new_df_beach['Location'].apply(lambda i: poptext_2(new_df_beach, 'Location', 'Name', i))\n",
    "\n",
    "## Map all coordinations\n",
    "data_beach = Data([ \n",
    "    Scattermapbox(\n",
    "        lat=Lat,\n",
    "        lon=Long,\n",
    "        mode='markers',\n",
    "        marker = Marker(\n",
    "            size = 8,\n",
    "            opacity = 0.8,\n",
    "        ),\n",
    "       text = info_1,\n",
    "    )\n",
    "])\n",
    "\n",
    "layout_beach = Layout(\n",
    "    autosize=True,\n",
    "    hovermode='closest',\n",
    "    mapbox=dict(\n",
    "        accesstoken=mapbox_access_token,\n",
    "        bearing=0,\n",
    "        center=dict(\n",
    "            lat=0,\n",
    "            lon=0\n",
    "        ),\n",
    "        pitch=0,\n",
    "        zoom=0.25\n",
    "    ),\n",
    ")\n",
    "\n",
    "fig_beach = dict(data=data_beach, layout=layout_beach)\n",
    "py.iplot(fig_beach, filename='Beach Resources Mapbox')\n",
    "\"\"\""
   ]
  },
  {
   "cell_type": "code",
   "execution_count": null,
   "metadata": {
    "collapsed": true,
    "extensions": {
     "jupyter_dashboards": {
      "version": 1,
      "views": {
       "grid_default": {
        "hidden": true
       },
       "report_default": {}
      }
     }
    }
   },
   "outputs": [],
   "source": []
  },
  {
   "cell_type": "code",
   "execution_count": null,
   "metadata": {
    "collapsed": true,
    "extensions": {
     "jupyter_dashboards": {
      "version": 1,
      "views": {
       "grid_default": {
        "hidden": true
       },
       "report_default": {}
      }
     }
    }
   },
   "outputs": [],
   "source": []
  },
  {
   "cell_type": "code",
   "execution_count": null,
   "metadata": {
    "collapsed": true,
    "extensions": {
     "jupyter_dashboards": {
      "version": 1,
      "views": {
       "grid_default": {
        "hidden": true
       },
       "report_default": {}
      }
     }
    },
    "scrolled": true
   },
   "outputs": [],
   "source": []
  },
  {
   "cell_type": "code",
   "execution_count": null,
   "metadata": {
    "collapsed": true,
    "extensions": {
     "jupyter_dashboards": {
      "version": 1,
      "views": {
       "grid_default": {
        "hidden": true
       },
       "report_default": {}
      }
     }
    }
   },
   "outputs": [],
   "source": []
  },
  {
   "cell_type": "code",
   "execution_count": null,
   "metadata": {
    "collapsed": true,
    "extensions": {
     "jupyter_dashboards": {
      "version": 1,
      "views": {
       "grid_default": {
        "hidden": true
       },
       "report_default": {}
      }
     }
    }
   },
   "outputs": [],
   "source": []
  },
  {
   "cell_type": "code",
   "execution_count": null,
   "metadata": {
    "collapsed": true,
    "extensions": {
     "jupyter_dashboards": {
      "version": 1,
      "views": {
       "grid_default": {
        "hidden": true
       },
       "report_default": {}
      }
     }
    }
   },
   "outputs": [],
   "source": []
  }
 ],
 "metadata": {
  "extensions": {
   "jupyter_dashboards": {
    "activeView": "grid_default",
    "version": 1,
    "views": {
     "grid_default": {
      "cellMargin": 10,
      "defaultCellHeight": 20,
      "maxColumns": 12,
      "name": "grid",
      "type": "grid"
     },
     "report_default": {
      "name": "report",
      "type": "report"
     }
    }
   }
  },
  "kernelspec": {
   "display_name": "Python 3",
   "language": "python",
   "name": "python3"
  },
  "language_info": {
   "codemirror_mode": {
    "name": "ipython",
    "version": 3
   },
   "file_extension": ".py",
   "mimetype": "text/x-python",
   "name": "python",
   "nbconvert_exporter": "python",
   "pygments_lexer": "ipython3",
   "version": "3.6.3"
  },
  "latex_envs": {
   "LaTeX_envs_menu_present": true,
   "autoclose": false,
   "autocomplete": true,
   "bibliofile": "biblio.bib",
   "cite_by": "apalike",
   "current_citInitial": 1,
   "eqLabelWithNumbers": true,
   "eqNumInitial": 1,
   "hotkeys": {
    "equation": "Ctrl-E",
    "itemize": "Ctrl-I"
   },
   "labels_anchors": false,
   "latex_user_defs": false,
   "report_style_numbering": false,
   "user_envs_cfg": false
  },
  "nbTranslate": {
   "displayLangs": [
    "*"
   ],
   "hotkey": "alt-t",
   "langInMainMenu": true,
   "sourceLang": "en",
   "targetLang": "fr",
   "useGoogleTranslate": true
  },
  "toc": {
   "nav_menu": {},
   "number_sections": true,
   "sideBar": true,
   "skip_h1_title": false,
   "toc_cell": false,
   "toc_position": {},
   "toc_section_display": "block",
   "toc_window_display": false
  }
 },
 "nbformat": 4,
 "nbformat_minor": 2
}
