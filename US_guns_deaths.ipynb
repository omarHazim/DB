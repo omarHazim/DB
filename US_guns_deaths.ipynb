{
 "cells": [
  {
   "cell_type": "code",
   "execution_count": 1,
   "metadata": {
    "collapsed": false,
    "scrolled": false
   },
   "outputs": [
    {
     "name": "stdout",
     "output_type": "stream",
     "text": [
      "[['', 'year', 'month', 'intent', 'police', 'sex', 'age', 'race', 'hispanic', 'place', 'education'], ['1', '2012', '01', 'Suicide', '0', 'M', '34', 'Asian/Pacific Islander', '100', 'Home', '4'], ['2', '2012', '01', 'Suicide', '0', 'F', '21', 'White', '100', 'Street', '3'], ['3', '2012', '01', 'Suicide', '0', 'M', '60', 'White', '100', 'Other specified', '4'], ['4', '2012', '02', 'Suicide', '0', 'M', '64', 'White', '100', 'Home', '4']]\n"
     ]
    }
   ],
   "source": [
    "import csv\n",
    "f = open(\"guns.csv\",\"r\")\n",
    "data_read = csv.reader(f)\n",
    "data = list(data_read)\n",
    "print(data[:5])\n"
   ]
  },
  {
   "cell_type": "code",
   "execution_count": 2,
   "metadata": {
    "collapsed": false
   },
   "outputs": [
    {
     "name": "stdout",
     "output_type": "stream",
     "text": [
      "[['1', '2012', '01', 'Suicide', '0', 'M', '34', 'Asian/Pacific Islander', '100', 'Home', '4'], ['2', '2012', '01', 'Suicide', '0', 'F', '21', 'White', '100', 'Street', '3'], ['3', '2012', '01', 'Suicide', '0', 'M', '60', 'White', '100', 'Other specified', '4'], ['4', '2012', '02', 'Suicide', '0', 'M', '64', 'White', '100', 'Home', '4'], ['5', '2012', '02', 'Suicide', '0', 'M', '31', 'White', '100', 'Other specified', '2']]\n"
     ]
    }
   ],
   "source": [
    "### Dealing with headers:\n",
    "headers = data[0]\n",
    "guns_data = data[1:len(data)]\n",
    "print(guns_data[:5])"
   ]
  },
  {
   "cell_type": "code",
   "execution_count": 3,
   "metadata": {
    "collapsed": false
   },
   "outputs": [
    {
     "name": "stdout",
     "output_type": "stream",
     "text": [
      "{'2013': 33636, '2012': 33563, '2014': 33599}\n"
     ]
    }
   ],
   "source": [
    "### Exploring number of gun deaths per year:\n",
    "years = [row[1] for row in guns_data]\n",
    "year_count = {}\n",
    "for key,value in enumerate(years):\n",
    "    if value in year_count:\n",
    "        year_count[value] = year_count[value] + 1\n",
    "    else:\n",
    "        year_count[value] = 1\n",
    "print(year_count)   \n",
    "    "
   ]
  },
  {
   "cell_type": "code",
   "execution_count": 4,
   "metadata": {
    "collapsed": false
   },
   "outputs": [
    {
     "data": {
      "text/plain": [
       "{datetime.datetime(2012, 1, 1, 0, 0): 2758,\n",
       " datetime.datetime(2012, 2, 1, 0, 0): 2357,\n",
       " datetime.datetime(2012, 3, 1, 0, 0): 2743,\n",
       " datetime.datetime(2012, 4, 1, 0, 0): 2795,\n",
       " datetime.datetime(2012, 5, 1, 0, 0): 2999,\n",
       " datetime.datetime(2012, 6, 1, 0, 0): 2826,\n",
       " datetime.datetime(2012, 7, 1, 0, 0): 3026,\n",
       " datetime.datetime(2012, 8, 1, 0, 0): 2954,\n",
       " datetime.datetime(2012, 9, 1, 0, 0): 2852,\n",
       " datetime.datetime(2012, 10, 1, 0, 0): 2733,\n",
       " datetime.datetime(2012, 11, 1, 0, 0): 2729,\n",
       " datetime.datetime(2012, 12, 1, 0, 0): 2791,\n",
       " datetime.datetime(2013, 1, 1, 0, 0): 2864,\n",
       " datetime.datetime(2013, 2, 1, 0, 0): 2375,\n",
       " datetime.datetime(2013, 3, 1, 0, 0): 2862,\n",
       " datetime.datetime(2013, 4, 1, 0, 0): 2798,\n",
       " datetime.datetime(2013, 5, 1, 0, 0): 2806,\n",
       " datetime.datetime(2013, 6, 1, 0, 0): 2920,\n",
       " datetime.datetime(2013, 7, 1, 0, 0): 3079,\n",
       " datetime.datetime(2013, 8, 1, 0, 0): 2859,\n",
       " datetime.datetime(2013, 9, 1, 0, 0): 2742,\n",
       " datetime.datetime(2013, 10, 1, 0, 0): 2808,\n",
       " datetime.datetime(2013, 11, 1, 0, 0): 2758,\n",
       " datetime.datetime(2013, 12, 1, 0, 0): 2765,\n",
       " datetime.datetime(2014, 1, 1, 0, 0): 2651,\n",
       " datetime.datetime(2014, 2, 1, 0, 0): 2361,\n",
       " datetime.datetime(2014, 3, 1, 0, 0): 2684,\n",
       " datetime.datetime(2014, 4, 1, 0, 0): 2862,\n",
       " datetime.datetime(2014, 5, 1, 0, 0): 2864,\n",
       " datetime.datetime(2014, 6, 1, 0, 0): 2931,\n",
       " datetime.datetime(2014, 7, 1, 0, 0): 2884,\n",
       " datetime.datetime(2014, 8, 1, 0, 0): 2970,\n",
       " datetime.datetime(2014, 9, 1, 0, 0): 2914,\n",
       " datetime.datetime(2014, 10, 1, 0, 0): 2865,\n",
       " datetime.datetime(2014, 11, 1, 0, 0): 2756,\n",
       " datetime.datetime(2014, 12, 1, 0, 0): 2857}"
      ]
     },
     "execution_count": 4,
     "metadata": {},
     "output_type": "execute_result"
    }
   ],
   "source": [
    "### Exploring the gun deaths by month/year:\n",
    "import datetime\n",
    "year = [int(row[1]) for row in guns_data]\n",
    "month = [int(row[2]) for row in guns_data]\n",
    "dates = [datetime.datetime(year=year[i], month=month[i], day=1) for i,value in enumerate(year)]\n",
    "\n",
    "date_count = {}\n",
    "for key,value in enumerate(dates):\n",
    "    if value in date_count:\n",
    "        date_count[value] = date_count[value] + 1\n",
    "    else:\n",
    "        date_count[value] = 1\n",
    "        \n",
    "date_count"
   ]
  },
  {
   "cell_type": "code",
   "execution_count": 5,
   "metadata": {
    "collapsed": false
   },
   "outputs": [
    {
     "data": {
      "text/plain": [
       "{'Asian/Pacific Islander': 1326,\n",
       " 'Black': 23296,\n",
       " 'Hispanic': 9022,\n",
       " 'Native American/Native Alaskan': 917,\n",
       " 'White': 66237}"
      ]
     },
     "execution_count": 5,
     "metadata": {},
     "output_type": "execute_result"
    }
   ],
   "source": [
    "### Exploring gun deaths by race and sex:\n",
    "def fata_count(input_lst,col_int):\n",
    "    count_lst = {}\n",
    "    col_lst = [row[col_int] for row in input_lst]\n",
    "    for row in col_lst:\n",
    "        if row in count_lst:\n",
    "            count_lst[row] = count_lst[row] + 1\n",
    "        else:\n",
    "            count_lst[row] = 1\n",
    "    return count_lst\n",
    "\n",
    "sex_fata = fata_count(guns_data,5)\n",
    "race_fata = fata_count(guns_data,7)\n",
    "race_fata"
   ]
  },
  {
   "cell_type": "code",
   "execution_count": 6,
   "metadata": {
    "collapsed": false
   },
   "outputs": [],
   "source": [
    "###Reading the 2nd dataset to calc. race fatality per 100000 people\n",
    "f_data = open(\"census.csv\",\"r\")\n",
    "census_data = list(csv.reader(f_data))"
   ]
  },
  {
   "cell_type": "code",
   "execution_count": 7,
   "metadata": {
    "collapsed": false
   },
   "outputs": [],
   "source": [
    "###Maping and computing guns deaths per race\n",
    "census_name = census_data[0][10:len(census_data[0])-1]\n",
    "census_values = [int(row) for row in census_data[1][10:len(census_data[1])-1]]"
   ]
  },
  {
   "cell_type": "code",
   "execution_count": 8,
   "metadata": {
    "collapsed": false
   },
   "outputs": [
    {
     "data": {
      "text/plain": [
       "[['Race Alone - White', 197318956],\n",
       " ['Race Alone - Hispanic', 44618105],\n",
       " ['Race Alone - Black or African American', 40250635],\n",
       " ['Race Alone - American Indian and Alaska Native', 3739506],\n",
       " ['Race Alone - Asian Race Alone - Native Hawaiian and Other Pacific Islander',\n",
       "  15834141]]"
      ]
     },
     "execution_count": 8,
     "metadata": {},
     "output_type": "execute_result"
    }
   ],
   "source": [
    "### summing up the Asian with Native Hawaiian race figures:\n",
    "new_census_dtset = []\n",
    "for i,v in enumerate(census_values):\n",
    "    if i == 4:\n",
    "        i_4 = v\n",
    "        i_n_4 = census_name [i]\n",
    "    elif i == 5:\n",
    "        i_5 = v\n",
    "        i_n_5 = census_name [i]\n",
    "        i_45 = i_4 + i_5\n",
    "        new_census_dtset.append([i_n_4+\" \"+i_n_5,i_45])\n",
    "    else:\n",
    "        new_census_dtset.append([census_name[i],v])\n",
    "new_census_dtset"
   ]
  },
  {
   "cell_type": "code",
   "execution_count": 9,
   "metadata": {
    "collapsed": false
   },
   "outputs": [
    {
     "data": {
      "text/plain": [
       "{'Asian/Pacific Islander': 15834141,\n",
       " 'Black': 40250635,\n",
       " 'Hispanic': 44618105,\n",
       " 'Native American/Native Alaskan': 3739506,\n",
       " 'White': 197318956}"
      ]
     },
     "execution_count": 9,
     "metadata": {},
     "output_type": "execute_result"
    }
   ],
   "source": [
    "###Re-arrange the census by race dataset to map the death data with census dataset\n",
    "mapping = fata_count(guns_data,7)\n",
    "mapping['Asian/Pacific Islander'] = 15834141\n",
    "mapping['Black'] = 40250635\n",
    "mapping['Hispanic'] = 44618105\n",
    "mapping['Native American/Native Alaskan'] = 3739506\n",
    "mapping['White'] = 197318956\n",
    "\n",
    "mapping"
   ]
  },
  {
   "cell_type": "code",
   "execution_count": 10,
   "metadata": {
    "collapsed": false
   },
   "outputs": [
    {
     "data": {
      "text/plain": [
       "{'Asian/Pacific Islander': 8.374309664161762,\n",
       " 'Black': 57.8773477735196,\n",
       " 'Hispanic': 20.220491210910907,\n",
       " 'Native American/Native Alaskan': 24.521955573811088,\n",
       " 'White': 33.56849303419181}"
      ]
     },
     "execution_count": 10,
     "metadata": {},
     "output_type": "execute_result"
    }
   ],
   "source": [
    "### Computing gun deaths per 100000 people\n",
    "race_per_hundredk = {}\n",
    "for i,v in race_fata.items():\n",
    "    x = (race_fata[i]/mapping[i])*100000\n",
    "    race_per_hundredk[i] = x    \n",
    "race_per_hundredk"
   ]
  },
  {
   "cell_type": "code",
   "execution_count": 11,
   "metadata": {
    "collapsed": false
   },
   "outputs": [
    {
     "data": {
      "text/plain": [
       "{'Asian/Pacific Islander': 559,\n",
       " 'Black': 19510,\n",
       " 'Hispanic': 5634,\n",
       " 'Native American/Native Alaskan': 326,\n",
       " 'White': 9147}"
      ]
     },
     "execution_count": 11,
     "metadata": {},
     "output_type": "execute_result"
    }
   ],
   "source": [
    "### Filtring guns deaths by intent (\"Homicide\"):\n",
    "homicide_race_counts ={}\n",
    "intents = [row[3] for row in guns_data]\n",
    "races = [row[7] for row in guns_data]\n",
    "\n",
    "for i,v in enumerate(races):\n",
    "    if intents[i] == \"Homicide\":\n",
    "        if v in homicide_race_counts:\n",
    "            homicide_race_counts[v] = homicide_race_counts[v] + 1\n",
    "        else:\n",
    "            homicide_race_counts[v] = 1\n",
    "\n",
    "homicide_race_counts    \n",
    "   "
   ]
  },
  {
   "cell_type": "code",
   "execution_count": 12,
   "metadata": {
    "collapsed": false
   },
   "outputs": [
    {
     "data": {
      "text/plain": [
       "{'Asian/Pacific Islander': 3.530346230970155,\n",
       " 'Black': 48.471284987180944,\n",
       " 'Hispanic': 12.627161104219914,\n",
       " 'Native American/Native Alaskan': 8.717729026240365,\n",
       " 'White': 4.6356417981453335}"
      ]
     },
     "execution_count": 12,
     "metadata": {},
     "output_type": "execute_result"
    }
   ],
   "source": [
    " ### Computing gun deaths per 100000 people filterd by \"Homicide\" intent:\n",
    "race_homicide_per_hundredk = {}\n",
    "for i,v in homicide_race_counts.items():\n",
    "    x = (homicide_race_counts[i]/mapping[i])*100000\n",
    "    race_homicide_per_hundredk[i] = x    \n",
    "race_homicide_per_hundredk"
   ]
  },
  {
   "cell_type": "code",
   "execution_count": 13,
   "metadata": {
    "collapsed": false,
    "scrolled": false
   },
   "outputs": [
    {
     "data": {
      "text/plain": [
       "[['Suicide',\n",
       "  {'Asian/Pacific Islander': 4.705023152187416,\n",
       "   'Black': 8.278130270491385,\n",
       "   'Hispanic': 7.106980451097149,\n",
       "   'Native American/Native Alaskan': 14.841532544673013,\n",
       "   'White': 28.06217969245692}],\n",
       " ['Undetermined',\n",
       "  {'Asian/Pacific Islander': 0.0631546731837237,\n",
       "   'Black': 0.3130385396404305,\n",
       "   'Hispanic': 0.16136947098044616,\n",
       "   'Native American/Native Alaskan': 0.3743810011268868,\n",
       "   'White': 0.2964743032595409}],\n",
       " ['NA', {'White': 0.0005067936807855399}],\n",
       " ['Homicide',\n",
       "  {'Asian/Pacific Islander': 3.530346230970155,\n",
       "   'Black': 48.471284987180944,\n",
       "   'Hispanic': 12.627161104219914,\n",
       "   'Native American/Native Alaskan': 8.717729026240365,\n",
       "   'White': 4.6356417981453335}],\n",
       " ['Accidental',\n",
       "  {'Asian/Pacific Islander': 0.07578560782046845,\n",
       "   'Black': 0.814893976206835,\n",
       "   'Hispanic': 0.3249801846133985,\n",
       "   'Native American/Native Alaskan': 0.5883130017708221,\n",
       "   'White': 0.5736904466492313}]]"
      ]
     },
     "execution_count": 13,
     "metadata": {},
     "output_type": "execute_result"
    }
   ],
   "source": [
    "### Filtring guns deaths per intent rate for all race catigoreis :\n",
    "def race_count(input_lst,criteria):\n",
    "    homicide_race_counts ={}\n",
    "    intents = [row[3] for row in input_lst]\n",
    "    races = [row[7] for row in input_lst]\n",
    "\n",
    "    for i,v in enumerate(races):\n",
    "        if intents[i] == criteria:\n",
    "            if v in homicide_race_counts:\n",
    "                homicide_race_counts[v] = homicide_race_counts[v] + 1\n",
    "            else:\n",
    "                homicide_race_counts[v] = 1\n",
    "    return homicide_race_counts\n",
    "\n",
    "all_race_deaths_figur = []\n",
    "intent_lst = list(set(intents))\n",
    "for row in intent_lst:\n",
    "    rce_figur = race_count(guns_data,row)\n",
    "    for g,h in rce_figur.items():\n",
    "        rate = (rce_figur[g]/mapping[g])*100000\n",
    "        rce_figur[g] = rate\n",
    "    all_race_deaths_figur.append([row,rce_figur])\n",
    "all_race_deaths_figur        "
   ]
  },
  {
   "cell_type": "markdown",
   "metadata": {
    "collapsed": false,
    "scrolled": true
   },
   "source": [
    "#### Key findings:\n",
    "- High despersion of deaths per 100K people among race categories \n",
    "- Per 100K people, deaths are higher for \"Balck\" race, while its minimum for \"Asian/Pacific Islander\" race\n",
    "- \"Homicide\" and \"Suicide\" explains most deaths rates comparing to other categories\n",
    "- \"White\" deaths are more explained by \"Suicide\" than any other intent category"
   ]
  },
  {
   "cell_type": "code",
   "execution_count": 14,
   "metadata": {
    "collapsed": false
   },
   "outputs": [],
   "source": [
    "### Link between months and homicide rate:\n",
    "month_homicide_counts = {}\n",
    "for i,v in enumerate(month):\n",
    "    if intents[i] == \"Homicide\":\n",
    "        if v in month_homicide_counts:\n",
    "            month_homicide_counts[v] = month_homicide_counts[v] + 1\n",
    "        else:\n",
    "            month_homicide_counts[v] = 1\n",
    "            \n",
    "month_homicide_rate = []           \n",
    "for i,v in month_homicide_counts.items():\n",
    "    total_homicide_deaths = sum([v for i,v in homicide_race_counts.items()])\n",
    "    rates_0 = month_homicide_counts[i]/total_homicide_deaths\n",
    "    month_homicide_rate.append([i,month_homicide_counts[i],rates_0])\n",
    "    \n"
   ]
  },
  {
   "cell_type": "code",
   "execution_count": 15,
   "metadata": {
    "collapsed": false
   },
   "outputs": [],
   "source": [
    "### Exploring the homicide rate by gender :\n",
    "gender_homicide_counts = {}\n",
    "gender = [row[5] for row in guns_data]\n",
    "for i,v in enumerate(gender):\n",
    "    if intents[i] == \"Homicide\":\n",
    "        if v in gender_homicide_counts:\n",
    "            gender_homicide_counts[v] = gender_homicide_counts[v] + 1\n",
    "        else:\n",
    "            gender_homicide_counts[v] = 1\n",
    "            \n",
    "\n",
    "gender_homicide_rate = []           \n",
    "for i,v in gender_homicide_counts.items():\n",
    "    total_homicide_deaths = sum([v for i,v in homicide_race_counts.items()])\n",
    "    rates_1 = gender_homicide_counts[i]/total_homicide_deaths\n",
    "    gender_homicide_rate.append([i,gender_homicide_counts[i],rates_1])\n"
   ]
  },
  {
   "cell_type": "code",
   "execution_count": 16,
   "metadata": {
    "collapsed": false
   },
   "outputs": [
    {
     "data": {
      "text/plain": [
       "[['M', 1421, 0.04039686149647487], ['F', 218, 0.006197407323174892]]"
      ]
     },
     "execution_count": 16,
     "metadata": {},
     "output_type": "execute_result"
    }
   ],
   "source": [
    "### Exploring the rates of other intents, like Accidental, by gender and race:\n",
    "\n",
    "##Accidental, by race:\n",
    "race_Accidental_counts = {}\n",
    "gender = [row[5] for row in guns_data]\n",
    "for i,v in enumerate(races):\n",
    "    if intents[i] == \"Accidental\":\n",
    "        if v in race_Accidental_counts:\n",
    "            race_Accidental_counts[v] = race_Accidental_counts[v] + 1\n",
    "        else:\n",
    "            race_Accidental_counts[v] = 1\n",
    "            \n",
    "race_Accidental_rate = []           \n",
    "for i,v in race_Accidental_counts.items():\n",
    "    total_Accidental_deaths = sum([v for i,v in race_Accidental_counts.items()])\n",
    "    rates_3 = race_Accidental_counts[i]/total_homicide_deaths\n",
    "    race_Accidental_rate.append([i,race_Accidental_counts[i],rates_3])\n",
    "\n",
    "##Accidental deaths, by gender:\n",
    "gender_Accidental_counts = {}\n",
    "gender = [row[5] for row in guns_data]\n",
    "for i,v in enumerate(gender):\n",
    "    if intents[i] == \"Accidental\":\n",
    "        if v in gender_Accidental_counts:\n",
    "            gender_Accidental_counts[v] = gender_Accidental_counts[v] + 1\n",
    "        else:\n",
    "            gender_Accidental_counts[v] = 1\n",
    "gender_Accidental_rate = []           \n",
    "for i,v in gender_Accidental_counts.items():\n",
    "    total_Accidental_deaths = sum([v for i,v in race_Accidental_counts.items()])\n",
    "    rates_2 = gender_Accidental_counts[i]/total_homicide_deaths\n",
    "    gender_Accidental_rate.append([i,gender_Accidental_counts[i],rates_2])\n",
    "    \n",
    "    \n",
    "race_Accidental_rate \n",
    "gender_Accidental_rate"
   ]
  },
  {
   "cell_type": "code",
   "execution_count": 17,
   "metadata": {
    "collapsed": false
   },
   "outputs": [
    {
     "data": {
      "text/plain": [
       "{'1': 21823, '2': 42927, '3': 21680, '4': 12946, '5': 1369, 'NA': 53}"
      ]
     },
     "execution_count": 17,
     "metadata": {},
     "output_type": "execute_result"
    }
   ],
   "source": [
    "### Correlation between gun death ratea and location ,education:\n",
    "## Guns death rates by location:\n",
    "def death_location_count(input_lst):\n",
    "    location_counts ={}\n",
    "    location = [row[9] for row in input_lst]\n",
    "    for i,v in enumerate(location):\n",
    "        if v in location_counts:\n",
    "            location_counts[v] = location_counts[v] + 1\n",
    "        else:\n",
    "            location_counts[v] = 1\n",
    "    return location_counts\n",
    "\n",
    "## Guns death rates by education:\n",
    "def death_education_count(input_lst):\n",
    "    edu_counts ={}\n",
    "    edu = [row[10] for row in input_lst]\n",
    "    for i,v in enumerate(edu):\n",
    "        if v in edu_counts:\n",
    "            edu_counts[v] = edu_counts[v] + 1\n",
    "        else:\n",
    "            edu_counts[v] = 1\n",
    "    return edu_counts\n",
    "\n",
    "education_counts = death_education_count(guns_data)\n",
    "education_counts"
   ]
  },
  {
   "cell_type": "code",
   "execution_count": 18,
   "metadata": {
    "collapsed": false
   },
   "outputs": [
    {
     "data": {
      "text/plain": [
       "{'Farm': 470,\n",
       " 'Home': 60486,\n",
       " 'Industrial/construction': 248,\n",
       " 'NA': 1384,\n",
       " 'Other specified': 13751,\n",
       " 'Other unspecified': 8867,\n",
       " 'Residential institution': 203,\n",
       " 'School/instiution': 671,\n",
       " 'Sports': 128,\n",
       " 'Street': 11151,\n",
       " 'Trade/service area': 3439}"
      ]
     },
     "execution_count": 18,
     "metadata": {},
     "output_type": "execute_result"
    }
   ],
   "source": [
    "location_deaths = death_location_count(guns_data)\n",
    "location_deaths"
   ]
  },
  {
   "cell_type": "code",
   "execution_count": 19,
   "metadata": {
    "collapsed": false
   },
   "outputs": [
    {
     "name": "stdout",
     "output_type": "stream",
     "text": [
      "[['M', {'2': 37339, '3': 17750, '4': 10600, 'NA': 34, '1': 19444, '5': 1182}], ['F', {'2': 5588, '3': 3930, '4': 2346, 'NA': 19, '1': 2379, '5': 187}]]\n"
     ]
    }
   ],
   "source": [
    "##Guns death rates by gender and education:\n",
    "def gen_edu_count(input_lst,gen_str):\n",
    "    gen_edu_counts ={}\n",
    "    gender = [row[5] for row in input_lst]\n",
    "    edu = [row[10] for row in input_lst]\n",
    "    \n",
    "    for i,v in enumerate(edu):\n",
    "        if gender[i] == gen_str:\n",
    "            if v in gen_edu_counts:\n",
    "                gen_edu_counts[v] = gen_edu_counts[v] + 1\n",
    "            else:\n",
    "                gen_edu_counts[v] = 1\n",
    "    return gen_edu_counts\n",
    "\n",
    "m_f_gender = list(set(gender))\n",
    "mf_gen_edu_count = []\n",
    "for i,v in enumerate(m_f_gender):\n",
    "    gen_edu = gen_edu_count(guns_data,m_f_gender[i])\n",
    "    mf_gen_edu_count.append([v,gen_edu])\n",
    "print(mf_gen_edu_count)    "
   ]
  },
  {
   "cell_type": "code",
   "execution_count": null,
   "metadata": {
    "collapsed": false
   },
   "outputs": [],
   "source": []
  },
  {
   "cell_type": "code",
   "execution_count": 20,
   "metadata": {
    "collapsed": false,
    "scrolled": true
   },
   "outputs": [
    {
     "data": {
      "text/plain": [
       "{0: 33,\n",
       " 1: 38,\n",
       " 2: 50,\n",
       " 3: 66,\n",
       " 4: 54,\n",
       " 5: 43,\n",
       " 6: 50,\n",
       " 7: 43,\n",
       " 8: 32,\n",
       " 9: 47,\n",
       " 10: 53,\n",
       " 11: 61,\n",
       " 12: 117,\n",
       " 13: 229,\n",
       " 14: 364,\n",
       " 15: 561,\n",
       " 16: 864,\n",
       " 17: 1185,\n",
       " 18: 1753,\n",
       " 19: 2065,\n",
       " 20: 2219,\n",
       " 21: 2504,\n",
       " 22: 2712,\n",
       " 23: 2472,\n",
       " 24: 2437,\n",
       " 25: 2230,\n",
       " 26: 2231,\n",
       " 27: 2070,\n",
       " 28: 1986,\n",
       " 29: 1955,\n",
       " 30: 1869,\n",
       " 31: 1833,\n",
       " 32: 1824,\n",
       " 33: 1700,\n",
       " 34: 1699,\n",
       " 35: 1631,\n",
       " 36: 1512,\n",
       " 37: 1500,\n",
       " 38: 1491,\n",
       " 39: 1389,\n",
       " 40: 1414,\n",
       " 41: 1485,\n",
       " 42: 1492,\n",
       " 43: 1527,\n",
       " 44: 1449,\n",
       " 45: 1372,\n",
       " 46: 1437,\n",
       " 47: 1532,\n",
       " 48: 1621,\n",
       " 49: 1669,\n",
       " 50: 1674,\n",
       " 51: 1755,\n",
       " 52: 1715,\n",
       " 53: 1708,\n",
       " 54: 1684,\n",
       " 55: 1596,\n",
       " 56: 1625,\n",
       " 57: 1472,\n",
       " 58: 1510,\n",
       " 59: 1430,\n",
       " 60: 1361,\n",
       " 61: 1306,\n",
       " 62: 1099,\n",
       " 63: 1041,\n",
       " 64: 1126,\n",
       " 65: 1039,\n",
       " 66: 998,\n",
       " 67: 865,\n",
       " 68: 868,\n",
       " 69: 879,\n",
       " 70: 883,\n",
       " 71: 791,\n",
       " 72: 736,\n",
       " 73: 737,\n",
       " 74: 671,\n",
       " 75: 676,\n",
       " 76: 582,\n",
       " 77: 575,\n",
       " 78: 598,\n",
       " 79: 573,\n",
       " 80: 546,\n",
       " 81: 563,\n",
       " 82: 520,\n",
       " 83: 552,\n",
       " 84: 490,\n",
       " 85: 440,\n",
       " 86: 407,\n",
       " 87: 312,\n",
       " 88: 340,\n",
       " 89: 245,\n",
       " 90: 208,\n",
       " 91: 176,\n",
       " 92: 128,\n",
       " 93: 103,\n",
       " 94: 64,\n",
       " 95: 55,\n",
       " 96: 40,\n",
       " 97: 20,\n",
       " 98: 16,\n",
       " 99: 6,\n",
       " 100: 1,\n",
       " 101: 2,\n",
       " 102: 2,\n",
       " 107: 1,\n",
       " 1000: 18}"
      ]
     },
     "execution_count": 20,
     "metadata": {},
     "output_type": "execute_result"
    }
   ],
   "source": [
    "### Exploring deaths by age:\n",
    "age = [row[6] for row in guns_data]\n",
    "age_int = []\n",
    "for row in age:\n",
    "    if row =='NA':\n",
    "        row = 1000 ## 'NA' been converted to 1000 to be able to apply itn() to all age rows ('NA'=1000\n",
    "    else:\n",
    "        row = int(row)\n",
    "    age_int.append(row)\n",
    "\n",
    "set(age_int)\n",
    "    \n",
    "\n",
    "\n",
    "age_counts ={}\n",
    "for i,v in enumerate(age_int):\n",
    "    if v in age_counts:\n",
    "         age_counts[v] = age_counts[v] + 1\n",
    "    else:\n",
    "         age_counts[v] = 1\n",
    "age_counts   "
   ]
  },
  {
   "cell_type": "code",
   "execution_count": 21,
   "metadata": {
    "collapsed": false
   },
   "outputs": [
    {
     "data": {
      "text/plain": [
       "[[['>=5-<=10', 268]],\n",
       " [['>=10-<=20', 9471]],\n",
       " [['>=20-<=30', 24685]],\n",
       " [['>=30-<=40', 17862]],\n",
       " [['>=40-<=50', 16672]],\n",
       " [['>=50-<=60', 17530]],\n",
       " [['>=60-<=70', 11465]],\n",
       " [['>=70-<=80', 7368]],\n",
       " [['>=80-<=90', 4623]],\n",
       " [['>=90-<=100', 817]]]"
      ]
     },
     "execution_count": 21,
     "metadata": {},
     "output_type": "execute_result"
    }
   ],
   "source": [
    "###Clasify deaths by age brackets:\n",
    "\n",
    "def final_age_bracket(input_lst,low_int,hi_int):\n",
    "    age_bracket_1 = []\n",
    "    age_bracket = []\n",
    "    for i,v in input_lst.items():\n",
    "        if i>=low_int and i <= hi_int:\n",
    "            age_bracket.append(v)\n",
    "            y = sum(age_bracket)\n",
    "            y_1 = \">=\"+ str(low_int) +\"-\"+\"<=\" + str(hi_int)\n",
    "    age_bracket_1.append([y_1,y])\n",
    "    return age_bracket_1\n",
    "\n",
    "int_age_brackes_1 = []\n",
    "int_age_brackes = [5,10,20,30,40,50,60,70,80,90,100]\n",
    "new_int =int_age_brackes[1:len(int_age_brackes)]\n",
    "\n",
    "for r,t in enumerate(int_age_brackes):\n",
    "    try:\n",
    "        x_0 = int_age_brackes[r]\n",
    "        x_1 = new_int[r]\n",
    "        df_1 = final_age_bracket(age_counts,x_0,x_1)\n",
    "        int_age_brackes_1.append(df_1)\n",
    "    except Exception:\n",
    "        pass\n",
    "int_age_brackes_1\n",
    "    "
   ]
  },
  {
   "cell_type": "code",
   "execution_count": null,
   "metadata": {
    "collapsed": false
   },
   "outputs": [],
   "source": []
  },
  {
   "cell_type": "code",
   "execution_count": 25,
   "metadata": {
    "collapsed": false
   },
   "outputs": [
    {
     "data": {
      "text/plain": [
       "[['M', {'0': 85010, '1': 1339}], ['F', {'0': 14386, '1': 63}]]"
      ]
     },
     "execution_count": 25,
     "metadata": {},
     "output_type": "execute_result"
    }
   ],
   "source": [
    "### Exploring police intervention:    \n",
    "def gen_polic_count(input_lst,gen_str):\n",
    "    police_gen_counts ={}\n",
    "    gender = [row[5] for row in input_lst]\n",
    "    police = [row[4] for row in input_lst]\n",
    "    \n",
    "    for i,v in enumerate(police):\n",
    "        if gender[i] == gen_str:\n",
    "            if v in police_gen_counts:\n",
    "                police_gen_counts[v] = police_gen_counts[v] + 1\n",
    "            else:\n",
    "                police_gen_counts[v] = 1\n",
    "    return police_gen_counts\n",
    "police_gender_counts = []\n",
    "police = [row[4] for row in guns_data]\n",
    "for i,v in enumerate(set(gender)):\n",
    "    police_intr = gen_polic_count(guns_data,v)\n",
    "    police_gender_counts.append([v, police_intr])\n",
    "\n",
    "police_gender_counts"
   ]
  },
  {
   "cell_type": "code",
   "execution_count": null,
   "metadata": {
    "collapsed": true
   },
   "outputs": [],
   "source": []
  },
  {
   "cell_type": "code",
   "execution_count": null,
   "metadata": {
    "collapsed": true
   },
   "outputs": [],
   "source": []
  }
 ],
 "metadata": {
  "kernelspec": {
   "display_name": "Python 3",
   "language": "python",
   "name": "python3"
  },
  "language_info": {
   "codemirror_mode": {
    "name": "ipython",
    "version": 3
   },
   "file_extension": ".py",
   "mimetype": "text/x-python",
   "name": "python",
   "nbconvert_exporter": "python",
   "pygments_lexer": "ipython3",
   "version": "3.4.3"
  }
 },
 "nbformat": 4,
 "nbformat_minor": 0
}
