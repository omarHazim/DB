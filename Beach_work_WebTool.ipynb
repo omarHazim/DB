{
 "cells": [
  {
   "cell_type": "markdown",
   "metadata": {},
   "source": [
    "# Beach Resources OW VisTool/STHLM office"
   ]
  },
  {
   "cell_type": "code",
   "execution_count": 62,
   "metadata": {},
   "outputs": [],
   "source": [
    "## set up Dash with classes for all of the visual components of the application\n",
    "import pandas as pd\n",
    "import numpy as np\n",
    "import matplotlib.pyplot as plt\n",
    "from bokeh.io import output_notebook, show\n",
    "from bokeh.plotting import figure, output_file, show\n",
    "from bokeh.models import ColumnDataSource\n",
    "from geopy.geocoders import Nominatim \n",
    "import folium\n",
    "from itertools import count\n",
    "from datetime import datetime\n",
    "import itertools\n",
    "import plotly \n",
    "import plotly.plotly as py\n",
    "from plotly.graph_objs import *\n",
    "\n",
    "#output_notebook() ## run all polts within jopyter notebook "
   ]
  },
  {
   "cell_type": "code",
   "execution_count": 63,
   "metadata": {},
   "outputs": [
    {
     "data": {
      "text/html": [
       "<div>\n",
       "<style>\n",
       "    .dataframe thead tr:only-child th {\n",
       "        text-align: right;\n",
       "    }\n",
       "\n",
       "    .dataframe thead th {\n",
       "        text-align: left;\n",
       "    }\n",
       "\n",
       "    .dataframe tbody tr th {\n",
       "        vertical-align: top;\n",
       "    }\n",
       "</style>\n",
       "<table border=\"1\" class=\"dataframe\">\n",
       "  <thead>\n",
       "    <tr style=\"text-align: right;\">\n",
       "      <th></th>\n",
       "      <th>Name</th>\n",
       "      <th>Beach</th>\n",
       "      <th>Location</th>\n",
       "      <th>Responsible</th>\n",
       "      <th>Case code</th>\n",
       "      <th>Priority</th>\n",
       "      <th>Client</th>\n",
       "      <th>Project</th>\n",
       "      <th>Deadline/End date</th>\n",
       "      <th>Days until DL</th>\n",
       "      <th>Status</th>\n",
       "      <th>Comment</th>\n",
       "    </tr>\n",
       "    <tr>\n",
       "      <th>Name</th>\n",
       "      <th></th>\n",
       "      <th></th>\n",
       "      <th></th>\n",
       "      <th></th>\n",
       "      <th></th>\n",
       "      <th></th>\n",
       "      <th></th>\n",
       "      <th></th>\n",
       "      <th></th>\n",
       "      <th></th>\n",
       "      <th></th>\n",
       "      <th></th>\n",
       "    </tr>\n",
       "  </thead>\n",
       "  <tbody>\n",
       "    <tr>\n",
       "      <th>Alexander</th>\n",
       "      <td>Alexander</td>\n",
       "      <td>yes</td>\n",
       "      <td>Stockholm</td>\n",
       "      <td>NaN</td>\n",
       "      <td>Carl - FSP31001</td>\n",
       "      <td>Internal - Firm building</td>\n",
       "      <td>Bank A</td>\n",
       "      <td>NaN</td>\n",
       "      <td>2018-04-14</td>\n",
       "      <td>88</td>\n",
       "      <td>Ongoing</td>\n",
       "      <td>NaN</td>\n",
       "    </tr>\n",
       "    <tr>\n",
       "      <th>Anders</th>\n",
       "      <td>Anders</td>\n",
       "      <td>yes</td>\n",
       "      <td>London</td>\n",
       "      <td>NaN</td>\n",
       "      <td>Sean - FSP03201</td>\n",
       "      <td>Internal - Business development</td>\n",
       "      <td>Bank B</td>\n",
       "      <td>NaN</td>\n",
       "      <td>2018-04-14</td>\n",
       "      <td>88</td>\n",
       "      <td>Ongoing</td>\n",
       "      <td>NaN</td>\n",
       "    </tr>\n",
       "    <tr>\n",
       "      <th>Andreas</th>\n",
       "      <td>Andreas</td>\n",
       "      <td>yes</td>\n",
       "      <td>Germany</td>\n",
       "      <td>NaN</td>\n",
       "      <td>Bo - N/A</td>\n",
       "      <td>Project - Soft start</td>\n",
       "      <td>Bank A</td>\n",
       "      <td>NaN</td>\n",
       "      <td>2018-04-14</td>\n",
       "      <td>88</td>\n",
       "      <td>Ongoing</td>\n",
       "      <td>NaN</td>\n",
       "    </tr>\n",
       "    <tr>\n",
       "      <th>Artin</th>\n",
       "      <td>Artin</td>\n",
       "      <td>no</td>\n",
       "      <td>France</td>\n",
       "      <td>NaN</td>\n",
       "      <td>Nader - FSP11101</td>\n",
       "      <td>Project - Delivery risk / WLB</td>\n",
       "      <td>Bank B</td>\n",
       "      <td>NaN</td>\n",
       "      <td>2018-04-14</td>\n",
       "      <td>88</td>\n",
       "      <td>NaN</td>\n",
       "      <td>NaN</td>\n",
       "    </tr>\n",
       "    <tr>\n",
       "      <th>Axel</th>\n",
       "      <td>Axel</td>\n",
       "      <td>yes</td>\n",
       "      <td>Italy</td>\n",
       "      <td>NaN</td>\n",
       "      <td>Martin - FSP32601</td>\n",
       "      <td>Project - General help</td>\n",
       "      <td>Bank A</td>\n",
       "      <td>NaN</td>\n",
       "      <td>2018-04-14</td>\n",
       "      <td>88</td>\n",
       "      <td>Ongoing</td>\n",
       "      <td>NaN</td>\n",
       "    </tr>\n",
       "  </tbody>\n",
       "</table>\n",
       "</div>"
      ],
      "text/plain": [
       "                Name Beach   Location  Responsible          Case code  \\\n",
       "Name                                                                    \n",
       "Alexander  Alexander  yes   Stockholm          NaN    Carl - FSP31001   \n",
       "Anders        Anders  yes      London          NaN    Sean - FSP03201   \n",
       "Andreas      Andreas  yes     Germany          NaN           Bo - N/A   \n",
       "Artin          Artin    no     France          NaN   Nader - FSP11101   \n",
       "Axel            Axel  yes       Italy          NaN  Martin - FSP32601   \n",
       "\n",
       "                                  Priority  Client  Project Deadline/End date  \\\n",
       "Name                                                                            \n",
       "Alexander         Internal - Firm building  Bank A      NaN        2018-04-14   \n",
       "Anders     Internal - Business development  Bank B      NaN        2018-04-14   \n",
       "Andreas               Project - Soft start  Bank A      NaN        2018-04-14   \n",
       "Artin        Project - Delivery risk / WLB  Bank B      NaN        2018-04-14   \n",
       "Axel                Project - General help  Bank A      NaN        2018-04-14   \n",
       "\n",
       "           Days until DL   Status  Comment  \n",
       "Name                                        \n",
       "Alexander             88  Ongoing      NaN  \n",
       "Anders                88  Ongoing      NaN  \n",
       "Andreas               88  Ongoing      NaN  \n",
       "Artin                 88      NaN      NaN  \n",
       "Axel                  88  Ongoing      NaN  "
      ]
     },
     "execution_count": 63,
     "metadata": {},
     "output_type": "execute_result"
    }
   ],
   "source": [
    "# Reading '.xlsx' file \n",
    "def import_excel(xlxs_file, sheet_num,sheet_idx=False):\n",
    "    xlsx = pd.ExcelFile(xlxs_file)\n",
    "    sheet1 = xlsx.parse(sheet_num)\n",
    "    if sheet_idx:\n",
    "        sheet1.index = sheet1['Name']\n",
    "        new_df_beach_0 = sheet1.iloc[:]\n",
    "        return new_df_beach_0\n",
    "    else:\n",
    "        new_df_beach_0 = sheet1.iloc[:]\n",
    "        return new_df_beach_0\n",
    "\n",
    "new_df_beach = import_excel(\n",
    "    r'C:\\Users\\omar.hazim\\Desktop\\Copy of Beach Work HTMLversion.xlsx', sheet_num=0, sheet_idx=True\n",
    ") #, sheet_idx='Name'\n",
    "new_df_beach.head()"
   ]
  },
  {
   "cell_type": "code",
   "execution_count": 64,
   "metadata": {
    "scrolled": true
   },
   "outputs": [
    {
     "name": "stderr",
     "output_type": "stream",
     "text": [
      "c:\\users\\omar.hazim\\appdata\\local\\programs\\python\\python35\\lib\\site-packages\\ipykernel_launcher.py:9: FutureWarning:\n",
      "\n",
      "'Name' is both a column name and an index level.\n",
      "Defaulting to column but this will raise an ambiguity error in a future version\n",
      "\n"
     ]
    }
   ],
   "source": [
    "# Building a pivot table to plot the beach resources\n",
    "#new_df_beach['Deadline/End date'].value_counts()\n",
    "#\n",
    "## 1D counting given one feature to DF\n",
    "uniq, count = np.unique(new_df_beach['Priority'], return_counts=True)\n",
    "_1D_count = dict(zip(uniq, count))\n",
    "\n",
    "## 2D counting given 2 features to DF\n",
    "df_grop = new_df_beach.groupby(['Beach','Deadline/End date', 'Name'])\n",
    "#list(zip(*df_grop)).sum()\n",
    "plt_df = df_grop.count()\n",
    "new_plt_df = pd.DataFrame(np.array(list(zip(*df_grop.Beach))[0]), columns=['Beach','Deadline/End date', 'Name'])\n",
    "#pd.to_datetime(new_plt_df[1])\n",
    "new_plt_df.replace(pd.to_datetime(new_plt_df['Deadline/End date'], format='%Y%m%d'), new_df_beach['Deadline/End date'])\n",
    "#plt.bar(x=plt_df['Days until DL'], y=plt_df['Deadline/End date'])\n",
    "counts = new_plt_df['Deadline/End date'].value_counts()\n",
    "beach = new_plt_df['Beach'].value_counts()"
   ]
  },
  {
   "cell_type": "code",
   "execution_count": 65,
   "metadata": {},
   "outputs": [
    {
     "name": "stderr",
     "output_type": "stream",
     "text": [
      "c:\\users\\omar.hazim\\appdata\\local\\programs\\python\\python35\\lib\\site-packages\\bokeh\\core\\json_encoder.py:80: FutureWarning:\n",
      "\n",
      "Conversion of the second argument of issubdtype from `float` to `np.floating` is deprecated. In future, it will be treated as `np.float64 == np.dtype(float).type`.\n",
      "\n"
     ]
    }
   ],
   "source": [
    "################ plotting using bokeh##############\n",
    "#source = ColumnDataSource(data = dict(x=counts.index,count=counts.values))\n",
    "#data = pd.DataFrame(counts)\n",
    "#output_file(\"test.html\")\n",
    "##Creating plots using bokeh\n",
    "date = [datetime.strftime(x, format='%Y-%m-%d') for x in counts.index]\n",
    "source = ColumnDataSource(data=dict(x_1=date, counts=list(counts.values)))\n",
    "#p = figure()\n",
    "p = figure(x_range=date,plot_height=250,toolbar_location=None, title=\"Beach resources Deadline\")\n",
    "p.background_fill_color = \"whitesmoke\"\n",
    "p.background_fill_alpha = .9\n",
    "p.vbar(x='x_1',width=.4, top='counts', source=source, legend=\"Beach Res. count\")\n",
    "p.border_fill_color = \"whitesmoke\"\n",
    "p.min_border_left = 10\n",
    "p.xgrid.grid_line_color = None\n",
    "p.ygrid.grid_line_alpha = 0.9\n",
    "p.ygrid.grid_line_dash = [6, 4]\n",
    "show(p)\n",
    "################ plotting using matplotlib##############\n",
    "## set up a plot frame \n",
    "#fig, axs = plt.subplots(1,2, figsize=(13,5))\n",
    "#for ax in axs:\n",
    "   # ax.tick_params(color='white', labelcolor='white')\n",
    "    #for spine in ax.spines.values():\n",
    "        #spine.set_edgecolor('white')\n",
    "#axs[0].bar(counts.index, counts.values)\n",
    "\n",
    "#axs[1].pie(new_df_beach['Priority'].value_counts().values, \n",
    "        #labels=new_df_beach['Priority'].value_counts().index)\n",
    "\n",
    "\n"
   ]
  },
  {
   "cell_type": "code",
   "execution_count": 100,
   "metadata": {},
   "outputs": [],
   "source": [
    "# GeoSpotting for all resource \n",
    "def poptext_2(df,location_col,name_col, x):\n",
    "    \"\"\"\n",
    "    Supporting func to show info for each marker on the map\n",
    "        Inputs:\n",
    "        _______________\n",
    "        - df: DataFrame\n",
    "            dataset as a dataframe \n",
    "        - location_col: str\n",
    "            location column within dataset df (e.g. city)\n",
    "        - name_col: str\n",
    "            names column within dataset df \n",
    "        - x: str\n",
    "           location iterator (in case of run this func with df.apply)\n",
    "        Outputs:\n",
    "        ______________\n",
    "        set of int and str for aggregations from main dataset df\n",
    "    \"\"\"\n",
    "    new_df = new_df_beach[[location_col, name_col]].groupby([location_col,name_col]).count()\n",
    "    nme_lst = []\n",
    "    for item in new_df.index:\n",
    "        if item[0] == x:\n",
    "            nme_lst.append(item[1])\n",
    "    df = pd.DataFrame({'city': x, 'Names':nme_lst})\n",
    "    \n",
    "    #'Country : {0} \\n Num of resources : {1} \\n Names : {2}'.format([x],[df[location_col].value_counts()[x]],nme_lst)\n",
    "    return df #pd.DataFrame('city':x,[df[location_col].value_counts()[x]],nme_lst)\n",
    "\n",
    "## Creat a func to count number of resources per country\n",
    "def poptext_1(df,location_col,name_col, x):\n",
    "    \"\"\"\n",
    "    Supporting func to show info for each marker on the map\n",
    "        Inputs:\n",
    "        _______________\n",
    "        - df: DataFrame\n",
    "            dataset as a dataframe \n",
    "        - location_col: str\n",
    "            location column within dataset df (e.g. city)\n",
    "        - name_col: str\n",
    "            names column within dataset df \n",
    "        - x: str\n",
    "           location iterator (in case of run this func with df.apply)\n",
    "        Outputs:\n",
    "        ______________\n",
    "        set of int and str for aggregations from main dataset df\n",
    "    \"\"\"\n",
    "    #info_df = pd.DataFrame()\n",
    "    new_df = new_df_beach[[location_col, name_col]].groupby([location_col,name_col]).count()\n",
    "    nme_lst = []\n",
    "    for item in new_df.index:\n",
    "        if item[0] == x:\n",
    "            nme_lst.append(item[1])\n",
    "            \n",
    "    return 'Country : {0} \\n Num of resources : {1} \\n Names : {2}'.format([x],[df[location_col].value_counts()[x]],nme_lst)\n",
    "\n",
    "## Creat a map \n",
    "## creating latitude/longtitude func\n",
    "def PlotPoint(df, location_col, name_col):\n",
    "    \"\"\"\n",
    "    Plotting coordinations points an a map\n",
    "    Inputs:\n",
    "    _______________\n",
    "      - df: dataframe \n",
    "          the inputs dataset\n",
    "      - location_col: str\n",
    "            location column within dataset df (e.g. city)\n",
    "        - name_col: str\n",
    "            names column within dataset  \n",
    "    \"\"\"\n",
    "    # converting location to a coordinate equivalents\n",
    "    ResMap = folium.Map(prefer_canvas=False)\n",
    "    geolocator = Nominatim()\n",
    "    LongLat = df[location_col].apply(\n",
    "    lambda x: folium.Marker(\n",
    "        location=[geolocator.geocode(x, timeout=15).latitude, geolocator.geocode(x, timeout=15).longitude],\n",
    "        popup=poptext_1(df, location_col,name_col, x), icon=folium.Icon(color='red',icon='info-sign', angle=10)).add_to(ResMap)\n",
    "    if x == 'Stockholm' else folium.Marker(\n",
    "        location=[geolocator.geocode(x, timeout=15).latitude, geolocator.geocode(x, timeout=15).longitude],\n",
    "        popup=poptext_1(df, location_col,name_col, x), icon=folium.Icon(icon='info-sign')).add_to(ResMap)\n",
    "    )\n",
    "\n",
    "    #Set the zoom to the maximum possible\n",
    "    ResMap.fit_bounds(ResMap.get_bounds())\n",
    "    return ResMap\n",
    "\n",
    "\n",
    "    # Plotting coordinations on the map\n",
    "    #folium.CircleMarker(location=[geolocator.geocode(x, timeout=15).latitude, geolocator.geocode(x, timeout=15).longitude]).add_to(ResMap)\n",
    "\n"
   ]
  },
  {
   "cell_type": "code",
   "execution_count": 67,
   "metadata": {
    "scrolled": true
   },
   "outputs": [
    {
     "name": "stderr",
     "output_type": "stream",
     "text": [
      "c:\\users\\omar.hazim\\appdata\\local\\programs\\python\\python35\\lib\\site-packages\\ipykernel_launcher.py:22: FutureWarning:\n",
      "\n",
      "'Name' is both a column name and an index level.\n",
      "Defaulting to column but this will raise an ambiguity error in a future version\n",
      "\n"
     ]
    },
    {
     "data": {
      "text/html": [
       "<div style=\"width:100%;\"><div style=\"position:relative;width:100%;height:0;padding-bottom:60%;\"><iframe src=\"data:text/html;charset=utf-8;base64,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\" style=\"position:absolute;width:100%;height:100%;left:0;top:0;border:none !important;\" allowfullscreen webkitallowfullscreen mozallowfullscreen></iframe></div></div>"
      ],
      "text/plain": [
       "<folium.folium.Map at 0x1ab41a58>"
      ]
     },
     "execution_count": 67,
     "metadata": {},
     "output_type": "execute_result"
    }
   ],
   "source": [
    "PlotPoint(new_df_beach, 'Location', 'Name')\n"
   ]
  },
  {
   "cell_type": "markdown",
   "metadata": {},
   "source": [
    "## Appex"
   ]
  },
  {
   "cell_type": "code",
   "execution_count": 68,
   "metadata": {},
   "outputs": [],
   "source": [
    "#df_location = pd.DataFrame(list(new_df_beach.groupby(['Location']).Location))\n",
    "#df_location.set_index(df_location[0], inplace=True)\n",
    "#np.array(list(zip(*new_df_beach.groupby(['Location', 'Name']).Location)))[0]\n",
    "#new_df_beach['Location_eql_sthlm'] = np.where(new_df_beach['Location']==\"Stockholm\", True, False)"
   ]
  },
  {
   "cell_type": "markdown",
   "metadata": {},
   "source": [
    "###  - Beach resources visualization: GeoMap"
   ]
  },
  {
   "cell_type": "code",
   "execution_count": 101,
   "metadata": {
    "scrolled": false
   },
   "outputs": [
    {
     "name": "stderr",
     "output_type": "stream",
     "text": [
      "c:\\users\\omar.hazim\\appdata\\local\\programs\\python\\python35\\lib\\site-packages\\ipykernel_launcher.py:19: FutureWarning:\n",
      "\n",
      "'Name' is both a column name and an index level.\n",
      "Defaulting to column but this will raise an ambiguity error in a future version\n",
      "\n"
     ]
    },
    {
     "ename": "TypeError",
     "evalue": "       Names       city\n0  Alexander  Stockholm\n1   Jennifer  Stockholm\n2       Otto  Stockholm is not JSON serializable",
     "output_type": "error",
     "traceback": [
      "\u001b[1;31m---------------------------------------------------------------------------\u001b[0m",
      "\u001b[1;31mTypeError\u001b[0m                                 Traceback (most recent call last)",
      "\u001b[1;32m<ipython-input-101-5240390374e8>\u001b[0m in \u001b[0;36m<module>\u001b[1;34m()\u001b[0m\n\u001b[0;32m     46\u001b[0m \u001b[1;33m\u001b[0m\u001b[0m\n\u001b[0;32m     47\u001b[0m \u001b[0mfig_beach\u001b[0m \u001b[1;33m=\u001b[0m \u001b[0mdict\u001b[0m\u001b[1;33m(\u001b[0m\u001b[0mdata\u001b[0m\u001b[1;33m=\u001b[0m\u001b[0mdata_beach\u001b[0m\u001b[1;33m,\u001b[0m \u001b[0mlayout\u001b[0m\u001b[1;33m=\u001b[0m\u001b[0mlayout_beach\u001b[0m\u001b[1;33m)\u001b[0m\u001b[1;33m\u001b[0m\u001b[0m\n\u001b[1;32m---> 48\u001b[1;33m \u001b[0mpy\u001b[0m\u001b[1;33m.\u001b[0m\u001b[0miplot\u001b[0m\u001b[1;33m(\u001b[0m\u001b[0mfig_beach\u001b[0m\u001b[1;33m,\u001b[0m \u001b[0mfilename\u001b[0m\u001b[1;33m=\u001b[0m\u001b[1;34m'Beach Resources Mapbox'\u001b[0m\u001b[1;33m)\u001b[0m\u001b[1;33m\u001b[0m\u001b[0m\n\u001b[0m",
      "\u001b[1;32mc:\\users\\omar.hazim\\appdata\\local\\programs\\python\\python35\\lib\\site-packages\\plotly\\plotly\\plotly.py\u001b[0m in \u001b[0;36miplot\u001b[1;34m(figure_or_data, **plot_options)\u001b[0m\n\u001b[0;32m    138\u001b[0m     \u001b[1;32mif\u001b[0m \u001b[1;34m'auto_open'\u001b[0m \u001b[1;32mnot\u001b[0m \u001b[1;32min\u001b[0m \u001b[0mplot_options\u001b[0m\u001b[1;33m:\u001b[0m\u001b[1;33m\u001b[0m\u001b[0m\n\u001b[0;32m    139\u001b[0m         \u001b[0mplot_options\u001b[0m\u001b[1;33m[\u001b[0m\u001b[1;34m'auto_open'\u001b[0m\u001b[1;33m]\u001b[0m \u001b[1;33m=\u001b[0m \u001b[1;32mFalse\u001b[0m\u001b[1;33m\u001b[0m\u001b[0m\n\u001b[1;32m--> 140\u001b[1;33m     \u001b[0murl\u001b[0m \u001b[1;33m=\u001b[0m \u001b[0mplot\u001b[0m\u001b[1;33m(\u001b[0m\u001b[0mfigure_or_data\u001b[0m\u001b[1;33m,\u001b[0m \u001b[1;33m**\u001b[0m\u001b[0mplot_options\u001b[0m\u001b[1;33m)\u001b[0m\u001b[1;33m\u001b[0m\u001b[0m\n\u001b[0m\u001b[0;32m    141\u001b[0m \u001b[1;33m\u001b[0m\u001b[0m\n\u001b[0;32m    142\u001b[0m     \u001b[1;32mif\u001b[0m \u001b[0misinstance\u001b[0m\u001b[1;33m(\u001b[0m\u001b[0mfigure_or_data\u001b[0m\u001b[1;33m,\u001b[0m \u001b[0mdict\u001b[0m\u001b[1;33m)\u001b[0m\u001b[1;33m:\u001b[0m\u001b[1;33m\u001b[0m\u001b[0m\n",
      "\u001b[1;32mc:\\users\\omar.hazim\\appdata\\local\\programs\\python\\python35\\lib\\site-packages\\plotly\\plotly\\plotly.py\u001b[0m in \u001b[0;36mplot\u001b[1;34m(figure_or_data, validate, **plot_options)\u001b[0m\n\u001b[0;32m    231\u001b[0m     \u001b[0mdata\u001b[0m \u001b[1;33m=\u001b[0m \u001b[0mfig\u001b[0m\u001b[1;33m.\u001b[0m\u001b[0mget\u001b[0m\u001b[1;33m(\u001b[0m\u001b[1;34m'data'\u001b[0m\u001b[1;33m,\u001b[0m \u001b[1;33m[\u001b[0m\u001b[1;33m]\u001b[0m\u001b[1;33m)\u001b[0m\u001b[1;33m\u001b[0m\u001b[0m\n\u001b[0;32m    232\u001b[0m     \u001b[0mplot_options\u001b[0m\u001b[1;33m[\u001b[0m\u001b[1;34m'layout'\u001b[0m\u001b[1;33m]\u001b[0m \u001b[1;33m=\u001b[0m \u001b[0mfig\u001b[0m\u001b[1;33m.\u001b[0m\u001b[0mget\u001b[0m\u001b[1;33m(\u001b[0m\u001b[1;34m'layout'\u001b[0m\u001b[1;33m,\u001b[0m \u001b[1;33m{\u001b[0m\u001b[1;33m}\u001b[0m\u001b[1;33m)\u001b[0m\u001b[1;33m\u001b[0m\u001b[0m\n\u001b[1;32m--> 233\u001b[1;33m     \u001b[0mresponse\u001b[0m \u001b[1;33m=\u001b[0m \u001b[0mv1\u001b[0m\u001b[1;33m.\u001b[0m\u001b[0mclientresp\u001b[0m\u001b[1;33m(\u001b[0m\u001b[0mdata\u001b[0m\u001b[1;33m,\u001b[0m \u001b[1;33m**\u001b[0m\u001b[0mplot_options\u001b[0m\u001b[1;33m)\u001b[0m\u001b[1;33m\u001b[0m\u001b[0m\n\u001b[0m\u001b[0;32m    234\u001b[0m \u001b[1;33m\u001b[0m\u001b[0m\n\u001b[0;32m    235\u001b[0m     \u001b[1;31m# Check if the url needs a secret key\u001b[0m\u001b[1;33m\u001b[0m\u001b[1;33m\u001b[0m\u001b[0m\n",
      "\u001b[1;32mc:\\users\\omar.hazim\\appdata\\local\\programs\\python\\python35\\lib\\site-packages\\plotly\\api\\v1\\clientresp.py\u001b[0m in \u001b[0;36mclientresp\u001b[1;34m(data, **kwargs)\u001b[0m\n\u001b[0;32m     27\u001b[0m     payload = {\n\u001b[0;32m     28\u001b[0m         \u001b[1;34m'platform'\u001b[0m\u001b[1;33m:\u001b[0m \u001b[1;34m'python'\u001b[0m\u001b[1;33m,\u001b[0m \u001b[1;34m'version'\u001b[0m\u001b[1;33m:\u001b[0m \u001b[0mversion\u001b[0m\u001b[1;33m.\u001b[0m\u001b[0m__version__\u001b[0m\u001b[1;33m,\u001b[0m\u001b[1;33m\u001b[0m\u001b[0m\n\u001b[1;32m---> 29\u001b[1;33m         \u001b[1;34m'args'\u001b[0m\u001b[1;33m:\u001b[0m \u001b[0m_json\u001b[0m\u001b[1;33m.\u001b[0m\u001b[0mdumps\u001b[0m\u001b[1;33m(\u001b[0m\u001b[0mdata\u001b[0m\u001b[1;33m,\u001b[0m \u001b[1;33m**\u001b[0m\u001b[0mdumps_kwargs\u001b[0m\u001b[1;33m)\u001b[0m\u001b[1;33m,\u001b[0m\u001b[1;33m\u001b[0m\u001b[0m\n\u001b[0m\u001b[0;32m     30\u001b[0m         \u001b[1;34m'un'\u001b[0m\u001b[1;33m:\u001b[0m \u001b[0mcreds\u001b[0m\u001b[1;33m[\u001b[0m\u001b[1;34m'username'\u001b[0m\u001b[1;33m]\u001b[0m\u001b[1;33m,\u001b[0m \u001b[1;34m'key'\u001b[0m\u001b[1;33m:\u001b[0m \u001b[0mcreds\u001b[0m\u001b[1;33m[\u001b[0m\u001b[1;34m'api_key'\u001b[0m\u001b[1;33m]\u001b[0m\u001b[1;33m,\u001b[0m \u001b[1;34m'origin'\u001b[0m\u001b[1;33m:\u001b[0m \u001b[1;34m'plot'\u001b[0m\u001b[1;33m,\u001b[0m\u001b[1;33m\u001b[0m\u001b[0m\n\u001b[0;32m     31\u001b[0m         \u001b[1;34m'kwargs'\u001b[0m\u001b[1;33m:\u001b[0m \u001b[0m_json\u001b[0m\u001b[1;33m.\u001b[0m\u001b[0mdumps\u001b[0m\u001b[1;33m(\u001b[0m\u001b[0mkwargs\u001b[0m\u001b[1;33m,\u001b[0m \u001b[1;33m**\u001b[0m\u001b[0mdumps_kwargs\u001b[0m\u001b[1;33m)\u001b[0m\u001b[1;33m\u001b[0m\u001b[0m\n",
      "\u001b[1;32mc:\\users\\omar.hazim\\appdata\\local\\programs\\python\\python35\\lib\\site-packages\\simplejson\\__init__.py\u001b[0m in \u001b[0;36mdumps\u001b[1;34m(obj, skipkeys, ensure_ascii, check_circular, allow_nan, cls, indent, separators, encoding, default, use_decimal, namedtuple_as_object, tuple_as_array, bigint_as_string, sort_keys, item_sort_key, for_json, ignore_nan, int_as_string_bitcount, iterable_as_array, **kw)\u001b[0m\n\u001b[0;32m    395\u001b[0m         \u001b[0mignore_nan\u001b[0m\u001b[1;33m=\u001b[0m\u001b[0mignore_nan\u001b[0m\u001b[1;33m,\u001b[0m\u001b[1;33m\u001b[0m\u001b[0m\n\u001b[0;32m    396\u001b[0m         \u001b[0mint_as_string_bitcount\u001b[0m\u001b[1;33m=\u001b[0m\u001b[0mint_as_string_bitcount\u001b[0m\u001b[1;33m,\u001b[0m\u001b[1;33m\u001b[0m\u001b[0m\n\u001b[1;32m--> 397\u001b[1;33m         **kw).encode(obj)\n\u001b[0m\u001b[0;32m    398\u001b[0m \u001b[1;33m\u001b[0m\u001b[0m\n\u001b[0;32m    399\u001b[0m \u001b[1;33m\u001b[0m\u001b[0m\n",
      "\u001b[1;32mc:\\users\\omar.hazim\\appdata\\local\\programs\\python\\python35\\lib\\site-packages\\plotly\\utils.py\u001b[0m in \u001b[0;36mencode\u001b[1;34m(self, o)\u001b[0m\n\u001b[0;32m    134\u001b[0m \u001b[1;33m\u001b[0m\u001b[0m\n\u001b[0;32m    135\u001b[0m         \u001b[1;31m# this will raise errors in a normal-expected way\u001b[0m\u001b[1;33m\u001b[0m\u001b[1;33m\u001b[0m\u001b[0m\n\u001b[1;32m--> 136\u001b[1;33m         \u001b[0mencoded_o\u001b[0m \u001b[1;33m=\u001b[0m \u001b[0msuper\u001b[0m\u001b[1;33m(\u001b[0m\u001b[0mPlotlyJSONEncoder\u001b[0m\u001b[1;33m,\u001b[0m \u001b[0mself\u001b[0m\u001b[1;33m)\u001b[0m\u001b[1;33m.\u001b[0m\u001b[0mencode\u001b[0m\u001b[1;33m(\u001b[0m\u001b[0mo\u001b[0m\u001b[1;33m)\u001b[0m\u001b[1;33m\u001b[0m\u001b[0m\n\u001b[0m\u001b[0;32m    137\u001b[0m \u001b[1;33m\u001b[0m\u001b[0m\n\u001b[0;32m    138\u001b[0m         \u001b[1;31m# now:\u001b[0m\u001b[1;33m\u001b[0m\u001b[1;33m\u001b[0m\u001b[0m\n",
      "\u001b[1;32mc:\\users\\omar.hazim\\appdata\\local\\programs\\python\\python35\\lib\\site-packages\\simplejson\\encoder.py\u001b[0m in \u001b[0;36mencode\u001b[1;34m(self, o)\u001b[0m\n\u001b[0;32m    289\u001b[0m         \u001b[1;31m# exceptions aren't as detailed.  The list call should be roughly\u001b[0m\u001b[1;33m\u001b[0m\u001b[1;33m\u001b[0m\u001b[0m\n\u001b[0;32m    290\u001b[0m         \u001b[1;31m# equivalent to the PySequence_Fast that ''.join() would do.\u001b[0m\u001b[1;33m\u001b[0m\u001b[1;33m\u001b[0m\u001b[0m\n\u001b[1;32m--> 291\u001b[1;33m         \u001b[0mchunks\u001b[0m \u001b[1;33m=\u001b[0m \u001b[0mself\u001b[0m\u001b[1;33m.\u001b[0m\u001b[0miterencode\u001b[0m\u001b[1;33m(\u001b[0m\u001b[0mo\u001b[0m\u001b[1;33m,\u001b[0m \u001b[0m_one_shot\u001b[0m\u001b[1;33m=\u001b[0m\u001b[1;32mTrue\u001b[0m\u001b[1;33m)\u001b[0m\u001b[1;33m\u001b[0m\u001b[0m\n\u001b[0m\u001b[0;32m    292\u001b[0m         \u001b[1;32mif\u001b[0m \u001b[1;32mnot\u001b[0m \u001b[0misinstance\u001b[0m\u001b[1;33m(\u001b[0m\u001b[0mchunks\u001b[0m\u001b[1;33m,\u001b[0m \u001b[1;33m(\u001b[0m\u001b[0mlist\u001b[0m\u001b[1;33m,\u001b[0m \u001b[0mtuple\u001b[0m\u001b[1;33m)\u001b[0m\u001b[1;33m)\u001b[0m\u001b[1;33m:\u001b[0m\u001b[1;33m\u001b[0m\u001b[0m\n\u001b[0;32m    293\u001b[0m             \u001b[0mchunks\u001b[0m \u001b[1;33m=\u001b[0m \u001b[0mlist\u001b[0m\u001b[1;33m(\u001b[0m\u001b[0mchunks\u001b[0m\u001b[1;33m)\u001b[0m\u001b[1;33m\u001b[0m\u001b[0m\n",
      "\u001b[1;32mc:\\users\\omar.hazim\\appdata\\local\\programs\\python\\python35\\lib\\site-packages\\simplejson\\encoder.py\u001b[0m in \u001b[0;36miterencode\u001b[1;34m(self, o, _one_shot)\u001b[0m\n\u001b[0;32m    371\u001b[0m                 self.iterable_as_array, Decimal=decimal.Decimal)\n\u001b[0;32m    372\u001b[0m         \u001b[1;32mtry\u001b[0m\u001b[1;33m:\u001b[0m\u001b[1;33m\u001b[0m\u001b[0m\n\u001b[1;32m--> 373\u001b[1;33m             \u001b[1;32mreturn\u001b[0m \u001b[0m_iterencode\u001b[0m\u001b[1;33m(\u001b[0m\u001b[0mo\u001b[0m\u001b[1;33m,\u001b[0m \u001b[1;36m0\u001b[0m\u001b[1;33m)\u001b[0m\u001b[1;33m\u001b[0m\u001b[0m\n\u001b[0m\u001b[0;32m    374\u001b[0m         \u001b[1;32mfinally\u001b[0m\u001b[1;33m:\u001b[0m\u001b[1;33m\u001b[0m\u001b[0m\n\u001b[0;32m    375\u001b[0m             \u001b[0mkey_memo\u001b[0m\u001b[1;33m.\u001b[0m\u001b[0mclear\u001b[0m\u001b[1;33m(\u001b[0m\u001b[1;33m)\u001b[0m\u001b[1;33m\u001b[0m\u001b[0m\n",
      "\u001b[1;32mc:\\users\\omar.hazim\\appdata\\local\\programs\\python\\python35\\lib\\site-packages\\plotly\\utils.py\u001b[0m in \u001b[0;36mdefault\u001b[1;34m(self, obj)\u001b[0m\n\u001b[0;32m    202\u001b[0m             \u001b[1;32mexcept\u001b[0m \u001b[0mNotEncodable\u001b[0m\u001b[1;33m:\u001b[0m\u001b[1;33m\u001b[0m\u001b[0m\n\u001b[0;32m    203\u001b[0m                 \u001b[1;32mpass\u001b[0m\u001b[1;33m\u001b[0m\u001b[0m\n\u001b[1;32m--> 204\u001b[1;33m         \u001b[1;32mreturn\u001b[0m \u001b[0m_json\u001b[0m\u001b[1;33m.\u001b[0m\u001b[0mJSONEncoder\u001b[0m\u001b[1;33m.\u001b[0m\u001b[0mdefault\u001b[0m\u001b[1;33m(\u001b[0m\u001b[0mself\u001b[0m\u001b[1;33m,\u001b[0m \u001b[0mobj\u001b[0m\u001b[1;33m)\u001b[0m\u001b[1;33m\u001b[0m\u001b[0m\n\u001b[0m\u001b[0;32m    205\u001b[0m \u001b[1;33m\u001b[0m\u001b[0m\n\u001b[0;32m    206\u001b[0m     \u001b[1;33m@\u001b[0m\u001b[0mstaticmethod\u001b[0m\u001b[1;33m\u001b[0m\u001b[0m\n",
      "\u001b[1;32mc:\\users\\omar.hazim\\appdata\\local\\programs\\python\\python35\\lib\\site-packages\\simplejson\\encoder.py\u001b[0m in \u001b[0;36mdefault\u001b[1;34m(self, o)\u001b[0m\n\u001b[0;32m    266\u001b[0m \u001b[1;33m\u001b[0m\u001b[0m\n\u001b[0;32m    267\u001b[0m         \"\"\"\n\u001b[1;32m--> 268\u001b[1;33m         \u001b[1;32mraise\u001b[0m \u001b[0mTypeError\u001b[0m\u001b[1;33m(\u001b[0m\u001b[0mrepr\u001b[0m\u001b[1;33m(\u001b[0m\u001b[0mo\u001b[0m\u001b[1;33m)\u001b[0m \u001b[1;33m+\u001b[0m \u001b[1;34m\" is not JSON serializable\"\u001b[0m\u001b[1;33m)\u001b[0m\u001b[1;33m\u001b[0m\u001b[0m\n\u001b[0m\u001b[0;32m    269\u001b[0m \u001b[1;33m\u001b[0m\u001b[0m\n\u001b[0;32m    270\u001b[0m     \u001b[1;32mdef\u001b[0m \u001b[0mencode\u001b[0m\u001b[1;33m(\u001b[0m\u001b[0mself\u001b[0m\u001b[1;33m,\u001b[0m \u001b[0mo\u001b[0m\u001b[1;33m)\u001b[0m\u001b[1;33m:\u001b[0m\u001b[1;33m\u001b[0m\u001b[0m\n",
      "\u001b[1;31mTypeError\u001b[0m:        Names       city\n0  Alexander  Stockholm\n1   Jennifer  Stockholm\n2       Otto  Stockholm is not JSON serializable"
     ]
    }
   ],
   "source": [
    "############################ Plotting using Plotly & Dash ##########################################\n",
    "## Running credentials \n",
    "plotly.tools.set_credentials_file(username='omar.hazim', api_key='UnoUlwMh8vwec5ezDXzB')\n",
    "mapbox_access_token = 'pk.eyJ1Ijoib21hcmhhemltIiwiYSI6ImNqY2s5cHk3MzNyZDEycm1tanV6c3pzdGUifQ.hLOK6z98WohsI19MmNBiHw'\n",
    "\n",
    "## Converting location colunms to a cooredinations figures\n",
    "geolocator = Nominatim()\n",
    "Lat = list(itertools.chain(new_df_beach['Location'].apply(lambda x: geolocator.geocode(x, timeout=15).latitude)))\n",
    "Long = list(itertools.chain(new_df_beach['Location'].apply(lambda x: [geolocator.geocode(x, timeout=15).longitude])))\n",
    "cities = list(itertools.chain(new_df_beach['Location'].values))\n",
    "#info_0 = list(itertools.chain(\n",
    "    #new_df_beach['Location'] +' '+\n",
    "    #new_df_beach['Name'] +' '+\n",
    "    #new_df_beach['Beach'] +' '+  \n",
    "    #new_df_beach['Deadline/End date'].astype(str))) \n",
    "info_1 = new_df_beach['Location'].apply(lambda i: poptext_2(new_df_beach, 'Location', 'Name', i))\n",
    "\n",
    "## Map all coordinations\n",
    "data_beach = Data([ \n",
    "    Scattermapbox(\n",
    "        lat=Lat,\n",
    "        lon=Long,\n",
    "        mode='markers',\n",
    "        marker=Marker(\n",
    "            size=14\n",
    "        ),\n",
    "        text = info_1,\n",
    "        hoverinfo = True\n",
    "    )\n",
    "])\n",
    "\n",
    "layout_beach = Layout(\n",
    "    autosize=True,\n",
    "    hovermode='closest',\n",
    "    mapbox=dict(\n",
    "        accesstoken=mapbox_access_token,\n",
    "        bearing=0,\n",
    "        center=dict(\n",
    "            lat=Lat,\n",
    "            lon=Long\n",
    "        ),\n",
    "        pitch=0,\n",
    "        zoom=0\n",
    "    ),\n",
    ")\n",
    "\n",
    "fig_beach = dict(data=data_beach, layout=layout_beach)\n",
    "py.iplot(fig_beach, filename='Beach Resources Mapbox')\n"
   ]
  },
  {
   "cell_type": "code",
   "execution_count": 75,
   "metadata": {},
   "outputs": [
    {
     "name": "stderr",
     "output_type": "stream",
     "text": [
      "c:\\users\\omar.hazim\\appdata\\local\\programs\\python\\python35\\lib\\site-packages\\ipykernel_launcher.py:22: FutureWarning:\n",
      "\n",
      "'Name' is both a column name and an index level.\n",
      "Defaulting to column but this will raise an ambiguity error in a future version\n",
      "\n"
     ]
    },
    {
     "data": {
      "text/plain": [
       "\"Country : ['Stockholm'] \\n Num of resources : [3] \\n Names : ['Alexander', 'Jennifer', 'Otto']\""
      ]
     },
     "execution_count": 75,
     "metadata": {},
     "output_type": "execute_result"
    }
   ],
   "source": []
  },
  {
   "cell_type": "code",
   "execution_count": 91,
   "metadata": {},
   "outputs": [],
   "source": []
  },
  {
   "cell_type": "code",
   "execution_count": 92,
   "metadata": {
    "scrolled": true
   },
   "outputs": [
    {
     "name": "stderr",
     "output_type": "stream",
     "text": [
      "c:\\users\\omar.hazim\\appdata\\local\\programs\\python\\python35\\lib\\site-packages\\ipykernel_launcher.py:18: FutureWarning:\n",
      "\n",
      "'Name' is both a column name and an index level.\n",
      "Defaulting to column but this will raise an ambiguity error in a future version\n",
      "\n"
     ]
    }
   ],
   "source": [
    "info_1 = new_df_beach['Location'].apply(lambda i: poptext_2(new_df_beach, 'Location', 'Name', i))\n"
   ]
  },
  {
   "cell_type": "code",
   "execution_count": 99,
   "metadata": {},
   "outputs": [
    {
     "data": {
      "text/html": [
       "<div>\n",
       "<style>\n",
       "    .dataframe thead tr:only-child th {\n",
       "        text-align: right;\n",
       "    }\n",
       "\n",
       "    .dataframe thead th {\n",
       "        text-align: left;\n",
       "    }\n",
       "\n",
       "    .dataframe tbody tr th {\n",
       "        vertical-align: top;\n",
       "    }\n",
       "</style>\n",
       "<table border=\"1\" class=\"dataframe\">\n",
       "  <thead>\n",
       "    <tr style=\"text-align: right;\">\n",
       "      <th></th>\n",
       "      <th>Names</th>\n",
       "      <th>city</th>\n",
       "    </tr>\n",
       "  </thead>\n",
       "  <tbody>\n",
       "    <tr>\n",
       "      <th>0</th>\n",
       "      <td>Anders</td>\n",
       "      <td>London</td>\n",
       "    </tr>\n",
       "    <tr>\n",
       "      <th>1</th>\n",
       "      <td>Johan</td>\n",
       "      <td>London</td>\n",
       "    </tr>\n",
       "    <tr>\n",
       "      <th>2</th>\n",
       "      <td>Paul</td>\n",
       "      <td>London</td>\n",
       "    </tr>\n",
       "  </tbody>\n",
       "</table>\n",
       "</div>"
      ],
      "text/plain": [
       "    Names    city\n",
       "0  Anders  London\n",
       "1   Johan  London\n",
       "2    Paul  London"
      ]
     },
     "execution_count": 99,
     "metadata": {},
     "output_type": "execute_result"
    }
   ],
   "source": [
    "info_1[1]"
   ]
  },
  {
   "cell_type": "code",
   "execution_count": null,
   "metadata": {},
   "outputs": [],
   "source": []
  },
  {
   "cell_type": "code",
   "execution_count": null,
   "metadata": {},
   "outputs": [],
   "source": []
  }
 ],
 "metadata": {
  "kernelspec": {
   "display_name": "Python 3",
   "language": "python",
   "name": "python3"
  },
  "language_info": {
   "codemirror_mode": {
    "name": "ipython",
    "version": 3
   },
   "file_extension": ".py",
   "mimetype": "text/x-python",
   "name": "python",
   "nbconvert_exporter": "python",
   "pygments_lexer": "ipython3",
   "version": "3.5.3"
  }
 },
 "nbformat": 4,
 "nbformat_minor": 2
}
