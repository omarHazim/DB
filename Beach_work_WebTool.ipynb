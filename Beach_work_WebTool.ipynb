{
 "cells": [
  {
   "cell_type": "markdown",
   "metadata": {},
   "source": [
    "# Beach Resources OW VisTool/STHLM office"
   ]
  },
  {
   "cell_type": "code",
   "execution_count": 11,
   "metadata": {},
   "outputs": [],
   "source": [
    "## set up Dash with classes for all of the visual components of the application\n",
    "import pandas as pd\n",
    "import numpy as np\n",
    "import matplotlib.pyplot as plt\n",
    "from bokeh.io import output_notebook, show\n",
    "from bokeh.plotting import figure, output_file, show\n",
    "from bokeh.models import ColumnDataSource\n",
    "from geopy.geocoders import Nominatim \n",
    "import folium\n",
    "from itertools import count\n",
    "from datetime import datetime\n",
    "import itertools\n",
    "import plotly \n",
    "import plotly.plotly as py\n",
    "from plotly.graph_objs import *\n",
    "\n",
    "#output_notebook() ## run all polts within jopyter notebook "
   ]
  },
  {
   "cell_type": "code",
   "execution_count": 12,
   "metadata": {},
   "outputs": [
    {
     "data": {
      "text/html": [
       "<div>\n",
       "<style>\n",
       "    .dataframe thead tr:only-child th {\n",
       "        text-align: right;\n",
       "    }\n",
       "\n",
       "    .dataframe thead th {\n",
       "        text-align: left;\n",
       "    }\n",
       "\n",
       "    .dataframe tbody tr th {\n",
       "        vertical-align: top;\n",
       "    }\n",
       "</style>\n",
       "<table border=\"1\" class=\"dataframe\">\n",
       "  <thead>\n",
       "    <tr style=\"text-align: right;\">\n",
       "      <th></th>\n",
       "      <th>Name</th>\n",
       "      <th>Beach</th>\n",
       "      <th>Location</th>\n",
       "      <th>Responsible</th>\n",
       "      <th>Case code</th>\n",
       "      <th>Priority</th>\n",
       "      <th>Client</th>\n",
       "      <th>Project</th>\n",
       "      <th>Deadline/End date</th>\n",
       "      <th>Days until DL</th>\n",
       "      <th>Status</th>\n",
       "      <th>Comment</th>\n",
       "    </tr>\n",
       "    <tr>\n",
       "      <th>Name</th>\n",
       "      <th></th>\n",
       "      <th></th>\n",
       "      <th></th>\n",
       "      <th></th>\n",
       "      <th></th>\n",
       "      <th></th>\n",
       "      <th></th>\n",
       "      <th></th>\n",
       "      <th></th>\n",
       "      <th></th>\n",
       "      <th></th>\n",
       "      <th></th>\n",
       "    </tr>\n",
       "  </thead>\n",
       "  <tbody>\n",
       "    <tr>\n",
       "      <th>Alexander</th>\n",
       "      <td>Alexander</td>\n",
       "      <td>yes</td>\n",
       "      <td>Stockholm</td>\n",
       "      <td>NaN</td>\n",
       "      <td>Carl - FSP31001</td>\n",
       "      <td>Internal - Firm building</td>\n",
       "      <td>Bank A</td>\n",
       "      <td>NaN</td>\n",
       "      <td>2018-04-14</td>\n",
       "      <td>85</td>\n",
       "      <td>Ongoing</td>\n",
       "      <td>NaN</td>\n",
       "    </tr>\n",
       "    <tr>\n",
       "      <th>Anders</th>\n",
       "      <td>Anders</td>\n",
       "      <td>yes</td>\n",
       "      <td>London</td>\n",
       "      <td>NaN</td>\n",
       "      <td>Sean - FSP03201</td>\n",
       "      <td>Internal - Business development</td>\n",
       "      <td>Bank B</td>\n",
       "      <td>NaN</td>\n",
       "      <td>2018-04-14</td>\n",
       "      <td>85</td>\n",
       "      <td>Ongoing</td>\n",
       "      <td>NaN</td>\n",
       "    </tr>\n",
       "    <tr>\n",
       "      <th>Andreas</th>\n",
       "      <td>Andreas</td>\n",
       "      <td>yes</td>\n",
       "      <td>Germany</td>\n",
       "      <td>NaN</td>\n",
       "      <td>Bo - N/A</td>\n",
       "      <td>Project - Soft start</td>\n",
       "      <td>Bank A</td>\n",
       "      <td>NaN</td>\n",
       "      <td>2018-04-14</td>\n",
       "      <td>85</td>\n",
       "      <td>Ongoing</td>\n",
       "      <td>NaN</td>\n",
       "    </tr>\n",
       "    <tr>\n",
       "      <th>Artin</th>\n",
       "      <td>Artin</td>\n",
       "      <td>no</td>\n",
       "      <td>France</td>\n",
       "      <td>NaN</td>\n",
       "      <td>Nader - FSP11101</td>\n",
       "      <td>Project - Delivery risk / WLB</td>\n",
       "      <td>Bank B</td>\n",
       "      <td>NaN</td>\n",
       "      <td>2018-04-14</td>\n",
       "      <td>85</td>\n",
       "      <td>NaN</td>\n",
       "      <td>NaN</td>\n",
       "    </tr>\n",
       "    <tr>\n",
       "      <th>Axel</th>\n",
       "      <td>Axel</td>\n",
       "      <td>yes</td>\n",
       "      <td>Italy</td>\n",
       "      <td>NaN</td>\n",
       "      <td>Martin - FSP32601</td>\n",
       "      <td>Project - General help</td>\n",
       "      <td>Bank A</td>\n",
       "      <td>NaN</td>\n",
       "      <td>2018-04-14</td>\n",
       "      <td>85</td>\n",
       "      <td>Ongoing</td>\n",
       "      <td>NaN</td>\n",
       "    </tr>\n",
       "  </tbody>\n",
       "</table>\n",
       "</div>"
      ],
      "text/plain": [
       "                Name Beach   Location  Responsible          Case code  \\\n",
       "Name                                                                    \n",
       "Alexander  Alexander  yes   Stockholm          NaN    Carl - FSP31001   \n",
       "Anders        Anders  yes      London          NaN    Sean - FSP03201   \n",
       "Andreas      Andreas  yes     Germany          NaN           Bo - N/A   \n",
       "Artin          Artin    no     France          NaN   Nader - FSP11101   \n",
       "Axel            Axel  yes       Italy          NaN  Martin - FSP32601   \n",
       "\n",
       "                                  Priority  Client  Project Deadline/End date  \\\n",
       "Name                                                                            \n",
       "Alexander         Internal - Firm building  Bank A      NaN        2018-04-14   \n",
       "Anders     Internal - Business development  Bank B      NaN        2018-04-14   \n",
       "Andreas               Project - Soft start  Bank A      NaN        2018-04-14   \n",
       "Artin        Project - Delivery risk / WLB  Bank B      NaN        2018-04-14   \n",
       "Axel                Project - General help  Bank A      NaN        2018-04-14   \n",
       "\n",
       "           Days until DL   Status  Comment  \n",
       "Name                                        \n",
       "Alexander             85  Ongoing      NaN  \n",
       "Anders                85  Ongoing      NaN  \n",
       "Andreas               85  Ongoing      NaN  \n",
       "Artin                 85      NaN      NaN  \n",
       "Axel                  85  Ongoing      NaN  "
      ]
     },
     "execution_count": 12,
     "metadata": {},
     "output_type": "execute_result"
    }
   ],
   "source": [
    "# Reading '.xlsx' file \n",
    "def import_excel(xlxs_file, sheet_num,sheet_idx=False):\n",
    "    xlsx = pd.ExcelFile(xlxs_file)\n",
    "    sheet1 = xlsx.parse(sheet_num)\n",
    "    if sheet_idx:\n",
    "        sheet1.index = sheet1['Name']\n",
    "        new_df_beach_0 = sheet1.iloc[:]\n",
    "        return new_df_beach_0\n",
    "    else:\n",
    "        new_df_beach_0 = sheet1.iloc[:]\n",
    "        return new_df_beach_0\n",
    "\n",
    "new_df_beach = import_excel(\n",
    "    r'C:\\Users\\omar.hazim\\Desktop\\Copy of Beach Work HTMLversion.xlsx', sheet_num=0, sheet_idx=True\n",
    ") #, sheet_idx='Name'\n",
    "new_df_beach.head()"
   ]
  },
  {
   "cell_type": "code",
   "execution_count": 13,
   "metadata": {
    "scrolled": true
   },
   "outputs": [
    {
     "name": "stderr",
     "output_type": "stream",
     "text": [
      "c:\\users\\omar.hazim\\appdata\\local\\programs\\python\\python35\\lib\\site-packages\\ipykernel_launcher.py:9: FutureWarning:\n",
      "\n",
      "'Name' is both a column name and an index level.\n",
      "Defaulting to column but this will raise an ambiguity error in a future version\n",
      "\n"
     ]
    }
   ],
   "source": [
    "# Building a pivot table to plot the beach resources\n",
    "#new_df_beach['Deadline/End date'].value_counts()\n",
    "#\n",
    "## 1D counting given one feature to DF\n",
    "uniq, count = np.unique(new_df_beach['Priority'], return_counts=True)\n",
    "_1D_count = dict(zip(uniq, count))\n",
    "\n",
    "## 2D counting given 2 features to DF\n",
    "df_grop = new_df_beach.groupby(['Beach','Deadline/End date', 'Name'])\n",
    "#list(zip(*df_grop)).sum()\n",
    "plt_df = df_grop.count()\n",
    "new_plt_df = pd.DataFrame(np.array(list(zip(*df_grop.Beach))[0]), columns=['Beach','Deadline/End date', 'Name'])\n",
    "#pd.to_datetime(new_plt_df[1])\n",
    "new_plt_df.replace(pd.to_datetime(new_plt_df['Deadline/End date'], format='%Y%m%d'), new_df_beach['Deadline/End date'])\n",
    "#plt.bar(x=plt_df['Days until DL'], y=plt_df['Deadline/End date'])\n",
    "counts = new_plt_df['Deadline/End date'].value_counts()\n",
    "beach = new_plt_df['Beach'].value_counts()"
   ]
  },
  {
   "cell_type": "code",
   "execution_count": 14,
   "metadata": {},
   "outputs": [
    {
     "name": "stderr",
     "output_type": "stream",
     "text": [
      "c:\\users\\omar.hazim\\appdata\\local\\programs\\python\\python35\\lib\\site-packages\\bokeh\\core\\json_encoder.py:80: FutureWarning:\n",
      "\n",
      "Conversion of the second argument of issubdtype from `float` to `np.floating` is deprecated. In future, it will be treated as `np.float64 == np.dtype(float).type`.\n",
      "\n"
     ]
    }
   ],
   "source": [
    "################ plotting using bokeh##############\n",
    "#source = ColumnDataSource(data = dict(x=counts.index,count=counts.values))\n",
    "#data = pd.DataFrame(counts)\n",
    "#output_file(\"test.html\")\n",
    "##Creating plots using bokeh\n",
    "date = [datetime.strftime(x, format='%Y-%m-%d') for x in counts.index]\n",
    "source = ColumnDataSource(data=dict(x_1=date, counts=list(counts.values)))\n",
    "#p = figure()\n",
    "p = figure(x_range=date,plot_height=250,toolbar_location=None, title=\"Beach resources Deadline\")\n",
    "p.background_fill_color = \"whitesmoke\"\n",
    "p.background_fill_alpha = .9\n",
    "p.vbar(x='x_1',width=.4, top='counts', source=source, legend=\"Beach Res. count\")\n",
    "p.border_fill_color = \"whitesmoke\"\n",
    "p.min_border_left = 10\n",
    "p.xgrid.grid_line_color = None\n",
    "p.ygrid.grid_line_alpha = 0.9\n",
    "p.ygrid.grid_line_dash = [6, 4]\n",
    "show(p)\n",
    "################ plotting using matplotlib##############\n",
    "## set up a plot frame \n",
    "#fig, axs = plt.subplots(1,2, figsize=(13,5))\n",
    "#for ax in axs:\n",
    "   # ax.tick_params(color='white', labelcolor='white')\n",
    "    #for spine in ax.spines.values():\n",
    "        #spine.set_edgecolor('white')\n",
    "#axs[0].bar(counts.index, counts.values)\n",
    "\n",
    "#axs[1].pie(new_df_beach['Priority'].value_counts().values, \n",
    "        #labels=new_df_beach['Priority'].value_counts().index)\n",
    "\n",
    "\n"
   ]
  },
  {
   "cell_type": "code",
   "execution_count": 29,
   "metadata": {},
   "outputs": [],
   "source": [
    "# GeoSpotting for all resource \n",
    "def poptext_2(df,location_col,name_col, x):\n",
    "    \"\"\"\n",
    "    Supporting func to show info for each marker on the map\n",
    "        Inputs:\n",
    "        _______________\n",
    "        - df: DataFrame\n",
    "            dataset as a dataframe \n",
    "        - location_col: str\n",
    "            location column within dataset df (e.g. city)\n",
    "        - name_col: str\n",
    "            names column within dataset df \n",
    "        - x: str\n",
    "           location iterator (in case of run this func with df.apply)\n",
    "        Outputs:\n",
    "        ______________\n",
    "        set of int and str for aggregations from main dataset df\n",
    "    \"\"\"\n",
    "    new_df = new_df_beach[[location_col, name_col]].groupby([location_col,name_col]).count()\n",
    "    nme_lst = []\n",
    "    for item in new_df.index:\n",
    "        if item[0] == x:\n",
    "            nme_lst.append(item[1])\n",
    "    \n",
    "    #'Country : {0} \\n Num of resources : {1} \\n Names : {2}'.format([x],[df[location_col].value_counts()[x]],nme_lst)\n",
    "    return 'Country : {0} \\n Names : {1}'.format([x] ,nme_lst)\n",
    "\n",
    "## Creat a func to count number of resources per country\n",
    "def poptext_1(df,location_col,name_col, x):\n",
    "    \"\"\"\n",
    "    Supporting func to show info for each marker on the map\n",
    "        Inputs:\n",
    "        _______________\n",
    "        - df: DataFrame\n",
    "            dataset as a dataframe \n",
    "        - location_col: str\n",
    "            location column within dataset df (e.g. city)\n",
    "        - name_col: str\n",
    "            names column within dataset df \n",
    "        - x: str\n",
    "           location iterator (in case of run this func with df.apply)\n",
    "        Outputs:\n",
    "        ______________\n",
    "        set of int and str for aggregations from main dataset df\n",
    "    \"\"\"\n",
    "    #info_df = pd.DataFrame()\n",
    "    new_df = new_df_beach[[location_col, name_col]].groupby([location_col,name_col]).count()\n",
    "    nme_lst = []\n",
    "    for item in new_df.index:\n",
    "        if item[0] == x:\n",
    "            nme_lst.append(item[1])\n",
    "            \n",
    "    return 'Country : {0} \\n Num of resources : {1} \\n Names : {2}'.format([x],[df[location_col].value_counts()[x]],nme_lst)\n",
    "\n",
    "## Creat a map \n",
    "## creating latitude/longtitude func\n",
    "def PlotPoint(df, location_col, name_col):\n",
    "    \"\"\"\n",
    "    Plotting coordinations points an a map\n",
    "    Inputs:\n",
    "    _______________\n",
    "      - df: dataframe \n",
    "          the inputs dataset\n",
    "      - location_col: str\n",
    "            location column within dataset df (e.g. city)\n",
    "        - name_col: str\n",
    "            names column within dataset  \n",
    "    \"\"\"\n",
    "    # converting location to a coordinate equivalents\n",
    "    ResMap = folium.Map(prefer_canvas=False)\n",
    "    geolocator = Nominatim()\n",
    "    LongLat = df[location_col].apply(\n",
    "    lambda x: folium.Marker(\n",
    "        location=[geolocator.geocode(x, timeout=15).latitude, geolocator.geocode(x, timeout=15).longitude],\n",
    "        popup=poptext_1(df, location_col,name_col, x), icon=folium.Icon(color='red',icon='info-sign', angle=10)).add_to(ResMap)\n",
    "    if x == 'Stockholm' else folium.Marker(\n",
    "        location=[geolocator.geocode(x, timeout=15).latitude, geolocator.geocode(x, timeout=15).longitude],\n",
    "        popup=poptext_1(df, location_col,name_col, x), icon=folium.Icon(icon='info-sign')).add_to(ResMap)\n",
    "    )\n",
    "\n",
    "    #Set the zoom to the maximum possible\n",
    "    ResMap.fit_bounds(ResMap.get_bounds())\n",
    "    return ResMap\n",
    "\n",
    "\n",
    "    # Plotting coordinations on the map\n",
    "    #folium.CircleMarker(location=[geolocator.geocode(x, timeout=15).latitude, geolocator.geocode(x, timeout=15).longitude]).add_to(ResMap)"
   ]
  },
  {
   "cell_type": "code",
   "execution_count": 16,
   "metadata": {
    "scrolled": true
   },
   "outputs": [
    {
     "name": "stderr",
     "output_type": "stream",
     "text": [
      "c:\\users\\omar.hazim\\appdata\\local\\programs\\python\\python35\\lib\\site-packages\\ipykernel_launcher.py:48: FutureWarning:\n",
      "\n",
      "'Name' is both a column name and an index level.\n",
      "Defaulting to column but this will raise an ambiguity error in a future version\n",
      "\n"
     ]
    },
    {
     "data": {
      "text/html": [
       "<div style=\"width:100%;\"><div style=\"position:relative;width:100%;height:0;padding-bottom:60%;\"><iframe src=\"data:text/html;charset=utf-8;base64,PCFET0NUWVBFIGh0bWw+CjxoZWFkPiAgICAKICAgIDxtZXRhIGh0dHAtZXF1aXY9ImNvbnRlbnQtdHlwZSIgY29udGVudD0idGV4dC9odG1sOyBjaGFyc2V0PVVURi04IiAvPgogICAgPHNjcmlwdD5MX1BSRUZFUl9DQU5WQVMgPSBmYWxzZTsgTF9OT19UT1VDSCA9IGZhbHNlOyBMX0RJU0FCTEVfM0QgPSBmYWxzZTs8L3NjcmlwdD4KICAgIDxzY3JpcHQgc3JjPSJodHRwczovL3VucGtnLmNvbS9sZWFmbGV0QDEuMC4xL2Rpc3QvbGVhZmxldC5qcyI+PC9zY3JpcHQ+CiAgICA8c2NyaXB0IHNyYz0iaHR0cHM6Ly9hamF4Lmdvb2dsZWFwaXMuY29tL2FqYXgvbGlicy9qcXVlcnkvMS4xMS4xL2pxdWVyeS5taW4uanMiPjwvc2NyaXB0PgogICAgPHNjcmlwdCBzcmM9Imh0dHBzOi8vbWF4Y2RuLmJvb3RzdHJhcGNkbi5jb20vYm9vdHN0cmFwLzMuMi4wL2pzL2Jvb3RzdHJhcC5taW4uanMiPjwvc2NyaXB0PgogICAgPHNjcmlwdCBzcmM9Imh0dHBzOi8vY2RuanMuY2xvdWRmbGFyZS5jb20vYWpheC9saWJzL0xlYWZsZXQuYXdlc29tZS1tYXJrZXJzLzIuMC4yL2xlYWZsZXQuYXdlc29tZS1tYXJrZXJzLmpzIj48L3NjcmlwdD4KICAgIDxzY3JpcHQgc3JjPSJodHRwczovL2NkbmpzLmNsb3VkZmxhcmUuY29tL2FqYXgvbGlicy9sZWFmbGV0Lm1hcmtlcmNsdXN0ZXIvMS4wLjAvbGVhZmxldC5tYXJrZXJjbHVzdGVyLXNyYy5qcyI+PC9zY3JpcHQ+CiAgICA8c2NyaXB0IHNyYz0iaHR0cHM6Ly9jZG5qcy5jbG91ZGZsYXJlLmNvbS9hamF4L2xpYnMvbGVhZmxldC5tYXJrZXJjbHVzdGVyLzEuMC4wL2xlYWZsZXQubWFya2VyY2x1c3Rlci5qcyI+PC9zY3JpcHQ+CiAgICA8bGluayByZWw9InN0eWxlc2hlZXQiIGhyZWY9Imh0dHBzOi8vdW5wa2cuY29tL2xlYWZsZXRAMS4wLjEvZGlzdC9sZWFmbGV0LmNzcyIgLz4KICAgIDxsaW5rIHJlbD0ic3R5bGVzaGVldCIgaHJlZj0iaHR0cHM6Ly9tYXhjZG4uYm9vdHN0cmFwY2RuLmNvbS9ib290c3RyYXAvMy4yLjAvY3NzL2Jvb3RzdHJhcC5taW4uY3NzIiAvPgogICAgPGxpbmsgcmVsPSJzdHlsZXNoZWV0IiBocmVmPSJodHRwczovL21heGNkbi5ib290c3RyYXBjZG4uY29tL2Jvb3RzdHJhcC8zLjIuMC9jc3MvYm9vdHN0cmFwLXRoZW1lLm1pbi5jc3MiIC8+CiAgICA8bGluayByZWw9InN0eWxlc2hlZXQiIGhyZWY9Imh0dHBzOi8vbWF4Y2RuLmJvb3RzdHJhcGNkbi5jb20vZm9udC1hd2Vzb21lLzQuNi4zL2Nzcy9mb250LWF3ZXNvbWUubWluLmNzcyIgLz4KICAgIDxsaW5rIHJlbD0ic3R5bGVzaGVldCIgaHJlZj0iaHR0cHM6Ly9jZG5qcy5jbG91ZGZsYXJlLmNvbS9hamF4L2xpYnMvTGVhZmxldC5hd2Vzb21lLW1hcmtlcnMvMi4wLjIvbGVhZmxldC5hd2Vzb21lLW1hcmtlcnMuY3NzIiAvPgogICAgPGxpbmsgcmVsPSJzdHlsZXNoZWV0IiBocmVmPSJodHRwczovL2NkbmpzLmNsb3VkZmxhcmUuY29tL2FqYXgvbGlicy9sZWFmbGV0Lm1hcmtlcmNsdXN0ZXIvMS4wLjAvTWFya2VyQ2x1c3Rlci5EZWZhdWx0LmNzcyIgLz4KICAgIDxsaW5rIHJlbD0ic3R5bGVzaGVldCIgaHJlZj0iaHR0cHM6Ly9jZG5qcy5jbG91ZGZsYXJlLmNvbS9hamF4L2xpYnMvbGVhZmxldC5tYXJrZXJjbHVzdGVyLzEuMC4wL01hcmtlckNsdXN0ZXIuY3NzIiAvPgogICAgPGxpbmsgcmVsPSJzdHlsZXNoZWV0IiBocmVmPSJodHRwczovL3Jhd2dpdC5jb20vcHl0aG9uLXZpc3VhbGl6YXRpb24vZm9saXVtL21hc3Rlci9mb2xpdW0vdGVtcGxhdGVzL2xlYWZsZXQuYXdlc29tZS5yb3RhdGUuY3NzIiAvPgogICAgPHN0eWxlPmh0bWwsIGJvZHkge3dpZHRoOiAxMDAlO2hlaWdodDogMTAwJTttYXJnaW46IDA7cGFkZGluZzogMDt9PC9zdHlsZT4KICAgIDxzdHlsZT4jbWFwIHtwb3NpdGlvbjphYnNvbHV0ZTt0b3A6MDtib3R0b206MDtyaWdodDowO2xlZnQ6MDt9PC9zdHlsZT4KICAgIAogICAgICAgICAgICA8c3R5bGU+ICNtYXBfZDQ3ZGUzODg4N2E3NDc5Y2EyMjI1NjczOWZmYTY2YmUgewogICAgICAgICAgICAgICAgcG9zaXRpb24gOiByZWxhdGl2ZTsKICAgICAgICAgICAgICAgIHdpZHRoIDogMTAwLjAlOwogICAgICAgICAgICAgICAgaGVpZ2h0OiAxMDAuMCU7CiAgICAgICAgICAgICAgICBsZWZ0OiAwLjAlOwogICAgICAgICAgICAgICAgdG9wOiAwLjAlOwogICAgICAgICAgICAgICAgfQogICAgICAgICAgICA8L3N0eWxlPgogICAgICAgIAo8L2hlYWQ+Cjxib2R5PiAgICAKICAgIAogICAgICAgICAgICA8ZGl2IGNsYXNzPSJmb2xpdW0tbWFwIiBpZD0ibWFwX2Q0N2RlMzg4ODdhNzQ3OWNhMjIyNTY3MzlmZmE2NmJlIiA+PC9kaXY+CiAgICAgICAgCjwvYm9keT4KPHNjcmlwdD4gICAgCiAgICAKCiAgICAgICAgICAgIAogICAgICAgICAgICAgICAgdmFyIHNvdXRoV2VzdCA9IEwubGF0TG5nKC05MCwgLTE4MCk7CiAgICAgICAgICAgICAgICB2YXIgbm9ydGhFYXN0ID0gTC5sYXRMbmcoOTAsIDE4MCk7CiAgICAgICAgICAgICAgICB2YXIgYm91bmRzID0gTC5sYXRMbmdCb3VuZHMoc291dGhXZXN0LCBub3J0aEVhc3QpOwogICAgICAgICAgICAKCiAgICAgICAgICAgIHZhciBtYXBfZDQ3ZGUzODg4N2E3NDc5Y2EyMjI1NjczOWZmYTY2YmUgPSBMLm1hcCgKICAgICAgICAgICAgICAgICAgICAgICAgICAgICAgICAgICdtYXBfZDQ3ZGUzODg4N2E3NDc5Y2EyMjI1NjczOWZmYTY2YmUnLAogICAgICAgICAgICAgICAgICAgICAgICAgICAgICAgICAge2NlbnRlcjogWzAsMF0sCiAgICAgICAgICAgICAgICAgICAgICAgICAgICAgICAgICB6b29tOiAxLAogICAgICAgICAgICAgICAgICAgICAgICAgICAgICAgICAgbWF4Qm91bmRzOiBib3VuZHMsCiAgICAgICAgICAgICAgICAgICAgICAgICAgICAgICAgICBsYXllcnM6IFtdLAogICAgICAgICAgICAgICAgICAgICAgICAgICAgICAgICAgd29ybGRDb3B5SnVtcDogZmFsc2UsCiAgICAgICAgICAgICAgICAgICAgICAgICAgICAgICAgICBjcnM6IEwuQ1JTLkVQU0czODU3CiAgICAgICAgICAgICAgICAgICAgICAgICAgICAgICAgIH0pOwogICAgICAgICAgICAKICAgICAgICAKICAgIAogICAgICAgICAgICB2YXIgdGlsZV9sYXllcl9mOWZiYjRiYTg2M2M0OTJmYTIwOTdmNTFjNWE1NWVjYSA9IEwudGlsZUxheWVyKAogICAgICAgICAgICAgICAgJ2h0dHBzOi8ve3N9LnRpbGUub3BlbnN0cmVldG1hcC5vcmcve3p9L3t4fS97eX0ucG5nJywKICAgICAgICAgICAgICAgIHsKICAgICAgICAgICAgICAgICAgICBtYXhab29tOiAxOCwKICAgICAgICAgICAgICAgICAgICBtaW5ab29tOiAxLAogICAgICAgICAgICAgICAgICAgIGNvbnRpbnVvdXNXb3JsZDogZmFsc2UsCiAgICAgICAgICAgICAgICAgICAgbm9XcmFwOiBmYWxzZSwKICAgICAgICAgICAgICAgICAgICBhdHRyaWJ1dGlvbjogJ0RhdGEgYnkgPGEgaHJlZj0iaHR0cDovL29wZW5zdHJlZXRtYXAub3JnIj5PcGVuU3RyZWV0TWFwPC9hPiwgdW5kZXIgPGEgaHJlZj0iaHR0cDovL3d3dy5vcGVuc3RyZWV0bWFwLm9yZy9jb3B5cmlnaHQiPk9EYkw8L2E+LicsCiAgICAgICAgICAgICAgICAgICAgZGV0ZWN0UmV0aW5hOiBmYWxzZQogICAgICAgICAgICAgICAgICAgIH0KICAgICAgICAgICAgICAgICkuYWRkVG8obWFwX2Q0N2RlMzg4ODdhNzQ3OWNhMjIyNTY3MzlmZmE2NmJlKTsKCiAgICAgICAgCiAgICAKCiAgICAgICAgICAgIHZhciBtYXJrZXJfMTZiYWQxMDg4NzY4NGY5OGIyNjY0ZTE3ZmU1MzdhMDggPSBMLm1hcmtlcigKICAgICAgICAgICAgICAgIFs1OS4zMjUxMTcyLDE4LjA3MTA5MzVdLAogICAgICAgICAgICAgICAgewogICAgICAgICAgICAgICAgICAgIGljb246IG5ldyBMLkljb24uRGVmYXVsdCgpCiAgICAgICAgICAgICAgICAgICAgfQogICAgICAgICAgICAgICAgKQogICAgICAgICAgICAgICAgLmFkZFRvKG1hcF9kNDdkZTM4ODg3YTc0NzljYTIyMjU2NzM5ZmZhNjZiZSk7CiAgICAgICAgICAgIAogICAgCgogICAgICAgICAgICAgICAgdmFyIGljb25fZWIzODQ1NjVhYTJjNDYyZmIzMTBkNDk0ZTVjNjlmODQgPSBMLkF3ZXNvbWVNYXJrZXJzLmljb24oewogICAgICAgICAgICAgICAgICAgIGljb246ICdpbmZvLXNpZ24nLAogICAgICAgICAgICAgICAgICAgIGljb25Db2xvcjogJ3doaXRlJywKICAgICAgICAgICAgICAgICAgICBtYXJrZXJDb2xvcjogJ3JlZCcsCiAgICAgICAgICAgICAgICAgICAgcHJlZml4OiAnZ2x5cGhpY29uJywKICAgICAgICAgICAgICAgICAgICBleHRyYUNsYXNzZXM6ICdmYS1yb3RhdGUtMTAnCiAgICAgICAgICAgICAgICAgICAgfSk7CiAgICAgICAgICAgICAgICBtYXJrZXJfMTZiYWQxMDg4NzY4NGY5OGIyNjY0ZTE3ZmU1MzdhMDguc2V0SWNvbihpY29uX2ViMzg0NTY1YWEyYzQ2MmZiMzEwZDQ5NGU1YzY5Zjg0KTsKICAgICAgICAgICAgCiAgICAKICAgICAgICAgICAgdmFyIHBvcHVwXzUyYmFkZTg4ZTVmMjRlNTU4ZmY4ZWI2NDVkMTZlMzkxID0gTC5wb3B1cCh7bWF4V2lkdGg6ICczMDAnfSk7CgogICAgICAgICAgICAKICAgICAgICAgICAgICAgIHZhciBodG1sXzdiYzZmNGNlYWU5MjQzNDA4M2M1YjlhNzJiYWI2NTRlID0gJCgnPGRpdiBpZD0iaHRtbF83YmM2ZjRjZWFlOTI0MzQwODNjNWI5YTcyYmFiNjU0ZSIgc3R5bGU9IndpZHRoOiAxMDAuMCU7IGhlaWdodDogMTAwLjAlOyI+Q291bnRyeSA6IFsmIzM5O1N0b2NraG9sbSYjMzk7XSAgIE51bSBvZiByZXNvdXJjZXMgOiBbM10gICBOYW1lcyA6IFsmIzM5O0FsZXhhbmRlciYjMzk7LCAmIzM5O0plbm5pZmVyJiMzOTssICYjMzk7T3R0byYjMzk7XTwvZGl2PicpWzBdOwogICAgICAgICAgICAgICAgcG9wdXBfNTJiYWRlODhlNWYyNGU1NThmZjhlYjY0NWQxNmUzOTEuc2V0Q29udGVudChodG1sXzdiYzZmNGNlYWU5MjQzNDA4M2M1YjlhNzJiYWI2NTRlKTsKICAgICAgICAgICAgCgogICAgICAgICAgICBtYXJrZXJfMTZiYWQxMDg4NzY4NGY5OGIyNjY0ZTE3ZmU1MzdhMDguYmluZFBvcHVwKHBvcHVwXzUyYmFkZTg4ZTVmMjRlNTU4ZmY4ZWI2NDVkMTZlMzkxKTsKCiAgICAgICAgICAgIAogICAgICAgIAogICAgCgogICAgICAgICAgICB2YXIgbWFya2VyX2VmNjI3ZjI3OWQ5NTQ5OGM4MWVlZTFmNTVkODYzNzI3ID0gTC5tYXJrZXIoCiAgICAgICAgICAgICAgICBbNTEuNTA3MzIxOSwtMC4xMjc2NDc0XSwKICAgICAgICAgICAgICAgIHsKICAgICAgICAgICAgICAgICAgICBpY29uOiBuZXcgTC5JY29uLkRlZmF1bHQoKQogICAgICAgICAgICAgICAgICAgIH0KICAgICAgICAgICAgICAgICkKICAgICAgICAgICAgICAgIC5hZGRUbyhtYXBfZDQ3ZGUzODg4N2E3NDc5Y2EyMjI1NjczOWZmYTY2YmUpOwogICAgICAgICAgICAKICAgIAoKICAgICAgICAgICAgICAgIHZhciBpY29uXzUyZDViZmQwZjkyZTQ4N2NhYWQ3NGJiYzNiZTNkOTgzID0gTC5Bd2Vzb21lTWFya2Vycy5pY29uKHsKICAgICAgICAgICAgICAgICAgICBpY29uOiAnaW5mby1zaWduJywKICAgICAgICAgICAgICAgICAgICBpY29uQ29sb3I6ICd3aGl0ZScsCiAgICAgICAgICAgICAgICAgICAgbWFya2VyQ29sb3I6ICdibHVlJywKICAgICAgICAgICAgICAgICAgICBwcmVmaXg6ICdnbHlwaGljb24nLAogICAgICAgICAgICAgICAgICAgIGV4dHJhQ2xhc3NlczogJ2ZhLXJvdGF0ZS0wJwogICAgICAgICAgICAgICAgICAgIH0pOwogICAgICAgICAgICAgICAgbWFya2VyX2VmNjI3ZjI3OWQ5NTQ5OGM4MWVlZTFmNTVkODYzNzI3LnNldEljb24oaWNvbl81MmQ1YmZkMGY5MmU0ODdjYWFkNzRiYmMzYmUzZDk4Myk7CiAgICAgICAgICAgIAogICAgCiAgICAgICAgICAgIHZhciBwb3B1cF80N2RkYWY4ZjM1ODM0NmVhOTc4NjQyMWViYzZiODE0MyA9IEwucG9wdXAoe21heFdpZHRoOiAnMzAwJ30pOwoKICAgICAgICAgICAgCiAgICAgICAgICAgICAgICB2YXIgaHRtbF9mYTNkYzU4ZWMwNTI0ODk1YjMzZWVmNzRlOWQwOWVmNCA9ICQoJzxkaXYgaWQ9Imh0bWxfZmEzZGM1OGVjMDUyNDg5NWIzM2VlZjc0ZTlkMDllZjQiIHN0eWxlPSJ3aWR0aDogMTAwLjAlOyBoZWlnaHQ6IDEwMC4wJTsiPkNvdW50cnkgOiBbJiMzOTtMb25kb24mIzM5O10gICBOdW0gb2YgcmVzb3VyY2VzIDogWzNdICAgTmFtZXMgOiBbJiMzOTtBbmRlcnMmIzM5OywgJiMzOTtKb2hhbiYjMzk7LCAmIzM5O1BhdWwmIzM5O108L2Rpdj4nKVswXTsKICAgICAgICAgICAgICAgIHBvcHVwXzQ3ZGRhZjhmMzU4MzQ2ZWE5Nzg2NDIxZWJjNmI4MTQzLnNldENvbnRlbnQoaHRtbF9mYTNkYzU4ZWMwNTI0ODk1YjMzZWVmNzRlOWQwOWVmNCk7CiAgICAgICAgICAgIAoKICAgICAgICAgICAgbWFya2VyX2VmNjI3ZjI3OWQ5NTQ5OGM4MWVlZTFmNTVkODYzNzI3LmJpbmRQb3B1cChwb3B1cF80N2RkYWY4ZjM1ODM0NmVhOTc4NjQyMWViYzZiODE0Myk7CgogICAgICAgICAgICAKICAgICAgICAKICAgIAoKICAgICAgICAgICAgdmFyIG1hcmtlcl8zNzJlY2Y0YjRkMmE0MzI0YmJjMGY4NTEwNTBjNTkyMCA9IEwubWFya2VyKAogICAgICAgICAgICAgICAgWzUxLjA4MzQxOTYsMTAuNDIzNDQ2OV0sCiAgICAgICAgICAgICAgICB7CiAgICAgICAgICAgICAgICAgICAgaWNvbjogbmV3IEwuSWNvbi5EZWZhdWx0KCkKICAgICAgICAgICAgICAgICAgICB9CiAgICAgICAgICAgICAgICApCiAgICAgICAgICAgICAgICAuYWRkVG8obWFwX2Q0N2RlMzg4ODdhNzQ3OWNhMjIyNTY3MzlmZmE2NmJlKTsKICAgICAgICAgICAgCiAgICAKCiAgICAgICAgICAgICAgICB2YXIgaWNvbl9kNWJjYWQxMmY0NWU0YzUxOTRkYWRjMWQzZTFkMzAzMiA9IEwuQXdlc29tZU1hcmtlcnMuaWNvbih7CiAgICAgICAgICAgICAgICAgICAgaWNvbjogJ2luZm8tc2lnbicsCiAgICAgICAgICAgICAgICAgICAgaWNvbkNvbG9yOiAnd2hpdGUnLAogICAgICAgICAgICAgICAgICAgIG1hcmtlckNvbG9yOiAnYmx1ZScsCiAgICAgICAgICAgICAgICAgICAgcHJlZml4OiAnZ2x5cGhpY29uJywKICAgICAgICAgICAgICAgICAgICBleHRyYUNsYXNzZXM6ICdmYS1yb3RhdGUtMCcKICAgICAgICAgICAgICAgICAgICB9KTsKICAgICAgICAgICAgICAgIG1hcmtlcl8zNzJlY2Y0YjRkMmE0MzI0YmJjMGY4NTEwNTBjNTkyMC5zZXRJY29uKGljb25fZDViY2FkMTJmNDVlNGM1MTk0ZGFkYzFkM2UxZDMwMzIpOwogICAgICAgICAgICAKICAgIAogICAgICAgICAgICB2YXIgcG9wdXBfMDA1OThhMTk1MzE1NDQwNmJlNTkwYTBhNTI3NzVlMmQgPSBMLnBvcHVwKHttYXhXaWR0aDogJzMwMCd9KTsKCiAgICAgICAgICAgIAogICAgICAgICAgICAgICAgdmFyIGh0bWxfMmM1MGY4YTU2ZDhhNDdhMmFkMzUzODkyY2JlNTE5MzQgPSAkKCc8ZGl2IGlkPSJodG1sXzJjNTBmOGE1NmQ4YTQ3YTJhZDM1Mzg5MmNiZTUxOTM0IiBzdHlsZT0id2lkdGg6IDEwMC4wJTsgaGVpZ2h0OiAxMDAuMCU7Ij5Db3VudHJ5IDogWyYjMzk7R2VybWFueSYjMzk7XSAgIE51bSBvZiByZXNvdXJjZXMgOiBbMl0gICBOYW1lcyA6IFsmIzM5O0FuZHJlYXMmIzM5OywgJiMzOTtKb25hcyYjMzk7XTwvZGl2PicpWzBdOwogICAgICAgICAgICAgICAgcG9wdXBfMDA1OThhMTk1MzE1NDQwNmJlNTkwYTBhNTI3NzVlMmQuc2V0Q29udGVudChodG1sXzJjNTBmOGE1NmQ4YTQ3YTJhZDM1Mzg5MmNiZTUxOTM0KTsKICAgICAgICAgICAgCgogICAgICAgICAgICBtYXJrZXJfMzcyZWNmNGI0ZDJhNDMyNGJiYzBmODUxMDUwYzU5MjAuYmluZFBvcHVwKHBvcHVwXzAwNTk4YTE5NTMxNTQ0MDZiZTU5MGEwYTUyNzc1ZTJkKTsKCiAgICAgICAgICAgIAogICAgICAgIAogICAgCgogICAgICAgICAgICB2YXIgbWFya2VyXzBkYjEwNWJhNTkzZTQ0YjhhNGFjYWMxODVmM2Q1NDliID0gTC5tYXJrZXIoCiAgICAgICAgICAgICAgICBbNDYuNjAzMzU0LDEuODg4MzMzNV0sCiAgICAgICAgICAgICAgICB7CiAgICAgICAgICAgICAgICAgICAgaWNvbjogbmV3IEwuSWNvbi5EZWZhdWx0KCkKICAgICAgICAgICAgICAgICAgICB9CiAgICAgICAgICAgICAgICApCiAgICAgICAgICAgICAgICAuYWRkVG8obWFwX2Q0N2RlMzg4ODdhNzQ3OWNhMjIyNTY3MzlmZmE2NmJlKTsKICAgICAgICAgICAgCiAgICAKCiAgICAgICAgICAgICAgICB2YXIgaWNvbl81ZWEzZjk3OWJiZmY0M2VlYWNjM2QwODhkZDk1Mjk2MyA9IEwuQXdlc29tZU1hcmtlcnMuaWNvbih7CiAgICAgICAgICAgICAgICAgICAgaWNvbjogJ2luZm8tc2lnbicsCiAgICAgICAgICAgICAgICAgICAgaWNvbkNvbG9yOiAnd2hpdGUnLAogICAgICAgICAgICAgICAgICAgIG1hcmtlckNvbG9yOiAnYmx1ZScsCiAgICAgICAgICAgICAgICAgICAgcHJlZml4OiAnZ2x5cGhpY29uJywKICAgICAgICAgICAgICAgICAgICBleHRyYUNsYXNzZXM6ICdmYS1yb3RhdGUtMCcKICAgICAgICAgICAgICAgICAgICB9KTsKICAgICAgICAgICAgICAgIG1hcmtlcl8wZGIxMDViYTU5M2U0NGI4YTRhY2FjMTg1ZjNkNTQ5Yi5zZXRJY29uKGljb25fNWVhM2Y5NzliYmZmNDNlZWFjYzNkMDg4ZGQ5NTI5NjMpOwogICAgICAgICAgICAKICAgIAogICAgICAgICAgICB2YXIgcG9wdXBfOWJmMWY1Y2ViMzJjNDFiYTkyYTZlMTUwOWNlZDE5MzEgPSBMLnBvcHVwKHttYXhXaWR0aDogJzMwMCd9KTsKCiAgICAgICAgICAgIAogICAgICAgICAgICAgICAgdmFyIGh0bWxfM2YyNTJkMmFmNjI2NDMwZWFjZTM3NDUzOTk1Y2E4NDAgPSAkKCc8ZGl2IGlkPSJodG1sXzNmMjUyZDJhZjYyNjQzMGVhY2UzNzQ1Mzk5NWNhODQwIiBzdHlsZT0id2lkdGg6IDEwMC4wJTsgaGVpZ2h0OiAxMDAuMCU7Ij5Db3VudHJ5IDogWyYjMzk7RnJhbmNlJiMzOTtdICAgTnVtIG9mIHJlc291cmNlcyA6IFszXSAgIE5hbWVzIDogWyYjMzk7QXJ0aW4mIzM5OywgJiMzOTtKdXN0aW4mIzM5OywgJiMzOTtSaWthcmQgUyYjMzk7XTwvZGl2PicpWzBdOwogICAgICAgICAgICAgICAgcG9wdXBfOWJmMWY1Y2ViMzJjNDFiYTkyYTZlMTUwOWNlZDE5MzEuc2V0Q29udGVudChodG1sXzNmMjUyZDJhZjYyNjQzMGVhY2UzNzQ1Mzk5NWNhODQwKTsKICAgICAgICAgICAgCgogICAgICAgICAgICBtYXJrZXJfMGRiMTA1YmE1OTNlNDRiOGE0YWNhYzE4NWYzZDU0OWIuYmluZFBvcHVwKHBvcHVwXzliZjFmNWNlYjMyYzQxYmE5MmE2ZTE1MDljZWQxOTMxKTsKCiAgICAgICAgICAgIAogICAgICAgIAogICAgCgogICAgICAgICAgICB2YXIgbWFya2VyXzkwM2FiMjY4MzNiMjQ0OGI5ZjRjNGMwMzJkOGVhYzNlID0gTC5tYXJrZXIoCiAgICAgICAgICAgICAgICBbNDIuNjM4NDI2MSwxMi42NzQyOTddLAogICAgICAgICAgICAgICAgewogICAgICAgICAgICAgICAgICAgIGljb246IG5ldyBMLkljb24uRGVmYXVsdCgpCiAgICAgICAgICAgICAgICAgICAgfQogICAgICAgICAgICAgICAgKQogICAgICAgICAgICAgICAgLmFkZFRvKG1hcF9kNDdkZTM4ODg3YTc0NzljYTIyMjU2NzM5ZmZhNjZiZSk7CiAgICAgICAgICAgIAogICAgCgogICAgICAgICAgICAgICAgdmFyIGljb25fZmFlY2ZkOTc2OTE0NDg0NmFlYjI3MGNmODFlNDkzMTkgPSBMLkF3ZXNvbWVNYXJrZXJzLmljb24oewogICAgICAgICAgICAgICAgICAgIGljb246ICdpbmZvLXNpZ24nLAogICAgICAgICAgICAgICAgICAgIGljb25Db2xvcjogJ3doaXRlJywKICAgICAgICAgICAgICAgICAgICBtYXJrZXJDb2xvcjogJ2JsdWUnLAogICAgICAgICAgICAgICAgICAgIHByZWZpeDogJ2dseXBoaWNvbicsCiAgICAgICAgICAgICAgICAgICAgZXh0cmFDbGFzc2VzOiAnZmEtcm90YXRlLTAnCiAgICAgICAgICAgICAgICAgICAgfSk7CiAgICAgICAgICAgICAgICBtYXJrZXJfOTAzYWIyNjgzM2IyNDQ4YjlmNGM0YzAzMmQ4ZWFjM2Uuc2V0SWNvbihpY29uX2ZhZWNmZDk3NjkxNDQ4NDZhZWIyNzBjZjgxZTQ5MzE5KTsKICAgICAgICAgICAgCiAgICAKICAgICAgICAgICAgdmFyIHBvcHVwXzM2ZTZhZDJlMjYxYTQ2YTVhMDAzMmQ4ZGNhOTIwNTQ1ID0gTC5wb3B1cCh7bWF4V2lkdGg6ICczMDAnfSk7CgogICAgICAgICAgICAKICAgICAgICAgICAgICAgIHZhciBodG1sXzUzYTZhOGYzZWRlNTQ0Yjk4ZGExYzVlMzJkYzIzMjY5ID0gJCgnPGRpdiBpZD0iaHRtbF81M2E2YThmM2VkZTU0NGI5OGRhMWM1ZTMyZGMyMzI2OSIgc3R5bGU9IndpZHRoOiAxMDAuMCU7IGhlaWdodDogMTAwLjAlOyI+Q291bnRyeSA6IFsmIzM5O0l0YWx5JiMzOTtdICAgTnVtIG9mIHJlc291cmNlcyA6IFszXSAgIE5hbWVzIDogWyYjMzk7QXhlbCYjMzk7LCAmIzM5O0tyaXN0aW4mIzM5OywgJiMzOTtTYW11ZWwmIzM5O108L2Rpdj4nKVswXTsKICAgICAgICAgICAgICAgIHBvcHVwXzM2ZTZhZDJlMjYxYTQ2YTVhMDAzMmQ4ZGNhOTIwNTQ1LnNldENvbnRlbnQoaHRtbF81M2E2YThmM2VkZTU0NGI5OGRhMWM1ZTMyZGMyMzI2OSk7CiAgICAgICAgICAgIAoKICAgICAgICAgICAgbWFya2VyXzkwM2FiMjY4MzNiMjQ0OGI5ZjRjNGMwMzJkOGVhYzNlLmJpbmRQb3B1cChwb3B1cF8zNmU2YWQyZTI2MWE0NmE1YTAwMzJkOGRjYTkyMDU0NSk7CgogICAgICAgICAgICAKICAgICAgICAKICAgIAoKICAgICAgICAgICAgdmFyIG1hcmtlcl81ODBiNWE2YjFiOWU0Zjg5YWZhN2MxMGI4MmJjNTJkNCA9IEwubWFya2VyKAogICAgICAgICAgICAgICAgWzQwLjAwMjgwMjgsLTQuMDAzMTA0XSwKICAgICAgICAgICAgICAgIHsKICAgICAgICAgICAgICAgICAgICBpY29uOiBuZXcgTC5JY29uLkRlZmF1bHQoKQogICAgICAgICAgICAgICAgICAgIH0KICAgICAgICAgICAgICAgICkKICAgICAgICAgICAgICAgIC5hZGRUbyhtYXBfZDQ3ZGUzODg4N2E3NDc5Y2EyMjI1NjczOWZmYTY2YmUpOwogICAgICAgICAgICAKICAgIAoKICAgICAgICAgICAgICAgIHZhciBpY29uXzZkYjFlYTVkYTg5NjRjZTJhOWQzYTQyNmJiNzgwZThhID0gTC5Bd2Vzb21lTWFya2Vycy5pY29uKHsKICAgICAgICAgICAgICAgICAgICBpY29uOiAnaW5mby1zaWduJywKICAgICAgICAgICAgICAgICAgICBpY29uQ29sb3I6ICd3aGl0ZScsCiAgICAgICAgICAgICAgICAgICAgbWFya2VyQ29sb3I6ICdibHVlJywKICAgICAgICAgICAgICAgICAgICBwcmVmaXg6ICdnbHlwaGljb24nLAogICAgICAgICAgICAgICAgICAgIGV4dHJhQ2xhc3NlczogJ2ZhLXJvdGF0ZS0wJwogICAgICAgICAgICAgICAgICAgIH0pOwogICAgICAgICAgICAgICAgbWFya2VyXzU4MGI1YTZiMWI5ZTRmODlhZmE3YzEwYjgyYmM1MmQ0LnNldEljb24oaWNvbl82ZGIxZWE1ZGE4OTY0Y2UyYTlkM2E0MjZiYjc4MGU4YSk7CiAgICAgICAgICAgIAogICAgCiAgICAgICAgICAgIHZhciBwb3B1cF85YmUyNTJiOTZiM2U0MjYxOTQ1NDgyZGEzOGIyODlhZSA9IEwucG9wdXAoe21heFdpZHRoOiAnMzAwJ30pOwoKICAgICAgICAgICAgCiAgICAgICAgICAgICAgICB2YXIgaHRtbF8yMzcxNWRkZDdhNzQ0NDIzYWQyMTEwNmMyZDk2ZjFiZiA9ICQoJzxkaXYgaWQ9Imh0bWxfMjM3MTVkZGQ3YTc0NDQyM2FkMjExMDZjMmQ5NmYxYmYiIHN0eWxlPSJ3aWR0aDogMTAwLjAlOyBoZWlnaHQ6IDEwMC4wJTsiPkNvdW50cnkgOiBbJiMzOTtTcGFpbiYjMzk7XSAgIE51bSBvZiByZXNvdXJjZXMgOiBbMl0gICBOYW1lcyA6IFsmIzM5O0RhbmllbCYjMzk7LCAmIzM5O0tyaXN0b2ZmZXImIzM5O108L2Rpdj4nKVswXTsKICAgICAgICAgICAgICAgIHBvcHVwXzliZTI1MmI5NmIzZTQyNjE5NDU0ODJkYTM4YjI4OWFlLnNldENvbnRlbnQoaHRtbF8yMzcxNWRkZDdhNzQ0NDIzYWQyMTEwNmMyZDk2ZjFiZik7CiAgICAgICAgICAgIAoKICAgICAgICAgICAgbWFya2VyXzU4MGI1YTZiMWI5ZTRmODlhZmE3YzEwYjgyYmM1MmQ0LmJpbmRQb3B1cChwb3B1cF85YmUyNTJiOTZiM2U0MjYxOTQ1NDgyZGEzOGIyODlhZSk7CgogICAgICAgICAgICAKICAgICAgICAKICAgIAoKICAgICAgICAgICAgdmFyIG1hcmtlcl8yYjNjZjhmY2RlMGY0YTZkYTFlZGY4NDdlMzIyYzkxYyA9IEwubWFya2VyKAogICAgICAgICAgICAgICAgWzM5Ljc4MzczMDQsLTEwMC40NDU4ODI1XSwKICAgICAgICAgICAgICAgIHsKICAgICAgICAgICAgICAgICAgICBpY29uOiBuZXcgTC5JY29uLkRlZmF1bHQoKQogICAgICAgICAgICAgICAgICAgIH0KICAgICAgICAgICAgICAgICkKICAgICAgICAgICAgICAgIC5hZGRUbyhtYXBfZDQ3ZGUzODg4N2E3NDc5Y2EyMjI1NjczOWZmYTY2YmUpOwogICAgICAgICAgICAKICAgIAoKICAgICAgICAgICAgICAgIHZhciBpY29uXzRjMWE4NjI1ZWRlZDRlY2ZiMTVkYzEwZTJiMDk4YmNlID0gTC5Bd2Vzb21lTWFya2Vycy5pY29uKHsKICAgICAgICAgICAgICAgICAgICBpY29uOiAnaW5mby1zaWduJywKICAgICAgICAgICAgICAgICAgICBpY29uQ29sb3I6ICd3aGl0ZScsCiAgICAgICAgICAgICAgICAgICAgbWFya2VyQ29sb3I6ICdibHVlJywKICAgICAgICAgICAgICAgICAgICBwcmVmaXg6ICdnbHlwaGljb24nLAogICAgICAgICAgICAgICAgICAgIGV4dHJhQ2xhc3NlczogJ2ZhLXJvdGF0ZS0wJwogICAgICAgICAgICAgICAgICAgIH0pOwogICAgICAgICAgICAgICAgbWFya2VyXzJiM2NmOGZjZGUwZjRhNmRhMWVkZjg0N2UzMjJjOTFjLnNldEljb24oaWNvbl80YzFhODYyNWVkZWQ0ZWNmYjE1ZGMxMGUyYjA5OGJjZSk7CiAgICAgICAgICAgIAogICAgCiAgICAgICAgICAgIHZhciBwb3B1cF8yZmM3ODBmZjU4NmQ0NDQxOTIzZTE2OWRlZTdhMmEzOCA9IEwucG9wdXAoe21heFdpZHRoOiAnMzAwJ30pOwoKICAgICAgICAgICAgCiAgICAgICAgICAgICAgICB2YXIgaHRtbF8zNTBlZDA0NDFiZDg0MTI1YWE1Y2UwNjA1NmYxNzI4YSA9ICQoJzxkaXYgaWQ9Imh0bWxfMzUwZWQwNDQxYmQ4NDEyNWFhNWNlMDYwNTZmMTcyOGEiIHN0eWxlPSJ3aWR0aDogMTAwLjAlOyBoZWlnaHQ6IDEwMC4wJTsiPkNvdW50cnkgOiBbJiMzOTtVU0EmIzM5O10gICBOdW0gb2YgcmVzb3VyY2VzIDogWzNdICAgTmFtZXMgOiBbJiMzOTtFbWVsaWUmIzM5OywgJiMzOTtNaWtrbyYjMzk7LCAmIzM5O1NhcmEgSiYjMzk7XTwvZGl2PicpWzBdOwogICAgICAgICAgICAgICAgcG9wdXBfMmZjNzgwZmY1ODZkNDQ0MTkyM2UxNjlkZWU3YTJhMzguc2V0Q29udGVudChodG1sXzM1MGVkMDQ0MWJkODQxMjVhYTVjZTA2MDU2ZjE3MjhhKTsKICAgICAgICAgICAgCgogICAgICAgICAgICBtYXJrZXJfMmIzY2Y4ZmNkZTBmNGE2ZGExZWRmODQ3ZTMyMmM5MWMuYmluZFBvcHVwKHBvcHVwXzJmYzc4MGZmNTg2ZDQ0NDE5MjNlMTY5ZGVlN2EyYTM4KTsKCiAgICAgICAgICAgIAogICAgICAgIAogICAgCgogICAgICAgICAgICB2YXIgbWFya2VyX2IwOGI2ZTU2ZmNiZDQ2ZGJiNjMyNWIyYmNkMjBlODY4ID0gTC5tYXJrZXIoCiAgICAgICAgICAgICAgICBbNjQuNjg2MzEzNiw5Ny43NDUzMDYxXSwKICAgICAgICAgICAgICAgIHsKICAgICAgICAgICAgICAgICAgICBpY29uOiBuZXcgTC5JY29uLkRlZmF1bHQoKQogICAgICAgICAgICAgICAgICAgIH0KICAgICAgICAgICAgICAgICkKICAgICAgICAgICAgICAgIC5hZGRUbyhtYXBfZDQ3ZGUzODg4N2E3NDc5Y2EyMjI1NjczOWZmYTY2YmUpOwogICAgICAgICAgICAKICAgIAoKICAgICAgICAgICAgICAgIHZhciBpY29uXzk2OTVlZTBhOTBjMDRhYzdiODk3YmY3ODA4NWU1MWE2ID0gTC5Bd2Vzb21lTWFya2Vycy5pY29uKHsKICAgICAgICAgICAgICAgICAgICBpY29uOiAnaW5mby1zaWduJywKICAgICAgICAgICAgICAgICAgICBpY29uQ29sb3I6ICd3aGl0ZScsCiAgICAgICAgICAgICAgICAgICAgbWFya2VyQ29sb3I6ICdibHVlJywKICAgICAgICAgICAgICAgICAgICBwcmVmaXg6ICdnbHlwaGljb24nLAogICAgICAgICAgICAgICAgICAgIGV4dHJhQ2xhc3NlczogJ2ZhLXJvdGF0ZS0wJwogICAgICAgICAgICAgICAgICAgIH0pOwogICAgICAgICAgICAgICAgbWFya2VyX2IwOGI2ZTU2ZmNiZDQ2ZGJiNjMyNWIyYmNkMjBlODY4LnNldEljb24oaWNvbl85Njk1ZWUwYTkwYzA0YWM3Yjg5N2JmNzgwODVlNTFhNik7CiAgICAgICAgICAgIAogICAgCiAgICAgICAgICAgIHZhciBwb3B1cF9kNGZiNWQyNjYyM2E0ZGZkYmRkNzI2ZjViYmM3NjAzYSA9IEwucG9wdXAoe21heFdpZHRoOiAnMzAwJ30pOwoKICAgICAgICAgICAgCiAgICAgICAgICAgICAgICB2YXIgaHRtbF82YTgyZmQ4NDNjNjQ0MjYxYjkwNGQ4MTBmZjU1ZjQzOCA9ICQoJzxkaXYgaWQ9Imh0bWxfNmE4MmZkODQzYzY0NDI2MWI5MDRkODEwZmY1NWY0MzgiIHN0eWxlPSJ3aWR0aDogMTAwLjAlOyBoZWlnaHQ6IDEwMC4wJTsiPkNvdW50cnkgOiBbJiMzOTtSdXNzaWEmIzM5O10gICBOdW0gb2YgcmVzb3VyY2VzIDogWzNdICAgTmFtZXMgOiBbJiMzOTtFbWlsJiMzOTssICYjMzk7T2xsZSYjMzk7LCAmIzM5O1NlYW4gQiYjMzk7XTwvZGl2PicpWzBdOwogICAgICAgICAgICAgICAgcG9wdXBfZDRmYjVkMjY2MjNhNGRmZGJkZDcyNmY1YmJjNzYwM2Euc2V0Q29udGVudChodG1sXzZhODJmZDg0M2M2NDQyNjFiOTA0ZDgxMGZmNTVmNDM4KTsKICAgICAgICAgICAgCgogICAgICAgICAgICBtYXJrZXJfYjA4YjZlNTZmY2JkNDZkYmI2MzI1YjJiY2QyMGU4NjguYmluZFBvcHVwKHBvcHVwX2Q0ZmI1ZDI2NjIzYTRkZmRiZGQ3MjZmNWJiYzc2MDNhKTsKCiAgICAgICAgICAgIAogICAgICAgIAogICAgCgogICAgICAgICAgICB2YXIgbWFya2VyXzcyNTQyY2M2OWFmMzQ0MjdiOWE3NGM4OTJkNjJjZjdlID0gTC5tYXJrZXIoCiAgICAgICAgICAgICAgICBbNTUuNjcwMjQ5LDEwLjMzMzMyODNdLAogICAgICAgICAgICAgICAgewogICAgICAgICAgICAgICAgICAgIGljb246IG5ldyBMLkljb24uRGVmYXVsdCgpCiAgICAgICAgICAgICAgICAgICAgfQogICAgICAgICAgICAgICAgKQogICAgICAgICAgICAgICAgLmFkZFRvKG1hcF9kNDdkZTM4ODg3YTc0NzljYTIyMjU2NzM5ZmZhNjZiZSk7CiAgICAgICAgICAgIAogICAgCgogICAgICAgICAgICAgICAgdmFyIGljb25fMTE4ODQ0ODdmNGM2NGJkOWI1MzA0YWJjMmMyMjg4N2UgPSBMLkF3ZXNvbWVNYXJrZXJzLmljb24oewogICAgICAgICAgICAgICAgICAgIGljb246ICdpbmZvLXNpZ24nLAogICAgICAgICAgICAgICAgICAgIGljb25Db2xvcjogJ3doaXRlJywKICAgICAgICAgICAgICAgICAgICBtYXJrZXJDb2xvcjogJ2JsdWUnLAogICAgICAgICAgICAgICAgICAgIHByZWZpeDogJ2dseXBoaWNvbicsCiAgICAgICAgICAgICAgICAgICAgZXh0cmFDbGFzc2VzOiAnZmEtcm90YXRlLTAnCiAgICAgICAgICAgICAgICAgICAgfSk7CiAgICAgICAgICAgICAgICBtYXJrZXJfNzI1NDJjYzY5YWYzNDQyN2I5YTc0Yzg5MmQ2MmNmN2Uuc2V0SWNvbihpY29uXzExODg0NDg3ZjRjNjRiZDliNTMwNGFiYzJjMjI4ODdlKTsKICAgICAgICAgICAgCiAgICAKICAgICAgICAgICAgdmFyIHBvcHVwX2FhNTBlYTFlYWQ4YTQ4MTBiN2ZhY2FhNjA0ODYyZGU2ID0gTC5wb3B1cCh7bWF4V2lkdGg6ICczMDAnfSk7CgogICAgICAgICAgICAKICAgICAgICAgICAgICAgIHZhciBodG1sXzljMmRmOTQ4MjZhMzQ4Njg4N2Q5ZDA5YTBiNWExM2Q3ID0gJCgnPGRpdiBpZD0iaHRtbF85YzJkZjk0ODI2YTM0ODY4ODdkOWQwOWEwYjVhMTNkNyIgc3R5bGU9IndpZHRoOiAxMDAuMCU7IGhlaWdodDogMTAwLjAlOyI+Q291bnRyeSA6IFsmIzM5O0Rlbm1hcmsmIzM5O10gICBOdW0gb2YgcmVzb3VyY2VzIDogWzNdICAgTmFtZXMgOiBbJiMzOTtFcmlrIEgmIzM5OywgJiMzOTtPbWFyJiMzOTssICYjMzk7U29maWEmIzM5O108L2Rpdj4nKVswXTsKICAgICAgICAgICAgICAgIHBvcHVwX2FhNTBlYTFlYWQ4YTQ4MTBiN2ZhY2FhNjA0ODYyZGU2LnNldENvbnRlbnQoaHRtbF85YzJkZjk0ODI2YTM0ODY4ODdkOWQwOWEwYjVhMTNkNyk7CiAgICAgICAgICAgIAoKICAgICAgICAgICAgbWFya2VyXzcyNTQyY2M2OWFmMzQ0MjdiOWE3NGM4OTJkNjJjZjdlLmJpbmRQb3B1cChwb3B1cF9hYTUwZWExZWFkOGE0ODEwYjdmYWNhYTYwNDg2MmRlNik7CgogICAgICAgICAgICAKICAgICAgICAKICAgIAoKICAgICAgICAgICAgdmFyIG1hcmtlcl9kODM2YWZiMTk5Y2U0NDYxYWEyMjI4YTBhYjk3Y2UyNiA9IEwubWFya2VyKAogICAgICAgICAgICAgICAgWzYzLjI0Njc3NzcsMjUuOTIwOTE2NF0sCiAgICAgICAgICAgICAgICB7CiAgICAgICAgICAgICAgICAgICAgaWNvbjogbmV3IEwuSWNvbi5EZWZhdWx0KCkKICAgICAgICAgICAgICAgICAgICB9CiAgICAgICAgICAgICAgICApCiAgICAgICAgICAgICAgICAuYWRkVG8obWFwX2Q0N2RlMzg4ODdhNzQ3OWNhMjIyNTY3MzlmZmE2NmJlKTsKICAgICAgICAgICAgCiAgICAKCiAgICAgICAgICAgICAgICB2YXIgaWNvbl83YmRhMjMyODZhOTA0ZjU1YTY0MWU0ZmFmNTI4OTY2OCA9IEwuQXdlc29tZU1hcmtlcnMuaWNvbih7CiAgICAgICAgICAgICAgICAgICAgaWNvbjogJ2luZm8tc2lnbicsCiAgICAgICAgICAgICAgICAgICAgaWNvbkNvbG9yOiAnd2hpdGUnLAogICAgICAgICAgICAgICAgICAgIG1hcmtlckNvbG9yOiAnYmx1ZScsCiAgICAgICAgICAgICAgICAgICAgcHJlZml4OiAnZ2x5cGhpY29uJywKICAgICAgICAgICAgICAgICAgICBleHRyYUNsYXNzZXM6ICdmYS1yb3RhdGUtMCcKICAgICAgICAgICAgICAgICAgICB9KTsKICAgICAgICAgICAgICAgIG1hcmtlcl9kODM2YWZiMTk5Y2U0NDYxYWEyMjI4YTBhYjk3Y2UyNi5zZXRJY29uKGljb25fN2JkYTIzMjg2YTkwNGY1NWE2NDFlNGZhZjUyODk2NjgpOwogICAgICAgICAgICAKICAgIAogICAgICAgICAgICB2YXIgcG9wdXBfNDBhYzY4MDEyNGRmNDMyNDg3ZmVlOTIxYjI0ZDY2ZjAgPSBMLnBvcHVwKHttYXhXaWR0aDogJzMwMCd9KTsKCiAgICAgICAgICAgIAogICAgICAgICAgICAgICAgdmFyIGh0bWxfMDg2M2EwNjBkMzE0NDc2ZjlkODc4MTJkMmI0YjNhNjAgPSAkKCc8ZGl2IGlkPSJodG1sXzA4NjNhMDYwZDMxNDQ3NmY5ZDg3ODEyZDJiNGIzYTYwIiBzdHlsZT0id2lkdGg6IDEwMC4wJTsgaGVpZ2h0OiAxMDAuMCU7Ij5Db3VudHJ5IDogWyYjMzk7RmlubGFuZCYjMzk7XSAgIE51bSBvZiByZXNvdXJjZXMgOiBbMl0gICBOYW1lcyA6IFsmIzM5O0VyaWsgUiYjMzk7LCAmIzM5O09zY2FyJiMzOTtdPC9kaXY+JylbMF07CiAgICAgICAgICAgICAgICBwb3B1cF80MGFjNjgwMTI0ZGY0MzI0ODdmZWU5MjFiMjRkNjZmMC5zZXRDb250ZW50KGh0bWxfMDg2M2EwNjBkMzE0NDc2ZjlkODc4MTJkMmI0YjNhNjApOwogICAgICAgICAgICAKCiAgICAgICAgICAgIG1hcmtlcl9kODM2YWZiMTk5Y2U0NDYxYWEyMjI4YTBhYjk3Y2UyNi5iaW5kUG9wdXAocG9wdXBfNDBhYzY4MDEyNGRmNDMyNDg3ZmVlOTIxYjI0ZDY2ZjApOwoKICAgICAgICAgICAgCiAgICAgICAgCiAgICAKCiAgICAgICAgICAgIHZhciBtYXJrZXJfOTk1ZjFlMjkxZTQ3NGRlZWJkNTY3NDhjNmYyYjIyYmUgPSBMLm1hcmtlcigKICAgICAgICAgICAgICAgIFs1OS4zMjUxMTcyLDE4LjA3MTA5MzVdLAogICAgICAgICAgICAgICAgewogICAgICAgICAgICAgICAgICAgIGljb246IG5ldyBMLkljb24uRGVmYXVsdCgpCiAgICAgICAgICAgICAgICAgICAgfQogICAgICAgICAgICAgICAgKQogICAgICAgICAgICAgICAgLmFkZFRvKG1hcF9kNDdkZTM4ODg3YTc0NzljYTIyMjU2NzM5ZmZhNjZiZSk7CiAgICAgICAgICAgIAogICAgCgogICAgICAgICAgICAgICAgdmFyIGljb25fZGE2ZDIwMjYwOTc0NDdjY2FlMzlhZTE1MWRhZjJjMDAgPSBMLkF3ZXNvbWVNYXJrZXJzLmljb24oewogICAgICAgICAgICAgICAgICAgIGljb246ICdpbmZvLXNpZ24nLAogICAgICAgICAgICAgICAgICAgIGljb25Db2xvcjogJ3doaXRlJywKICAgICAgICAgICAgICAgICAgICBtYXJrZXJDb2xvcjogJ3JlZCcsCiAgICAgICAgICAgICAgICAgICAgcHJlZml4OiAnZ2x5cGhpY29uJywKICAgICAgICAgICAgICAgICAgICBleHRyYUNsYXNzZXM6ICdmYS1yb3RhdGUtMTAnCiAgICAgICAgICAgICAgICAgICAgfSk7CiAgICAgICAgICAgICAgICBtYXJrZXJfOTk1ZjFlMjkxZTQ3NGRlZWJkNTY3NDhjNmYyYjIyYmUuc2V0SWNvbihpY29uX2RhNmQyMDI2MDk3NDQ3Y2NhZTM5YWUxNTFkYWYyYzAwKTsKICAgICAgICAgICAgCiAgICAKICAgICAgICAgICAgdmFyIHBvcHVwXzI5OGE3N2IwOWY2ZTQ1Mjc4YjlkZjE3MWJiNGE2YWVkID0gTC5wb3B1cCh7bWF4V2lkdGg6ICczMDAnfSk7CgogICAgICAgICAgICAKICAgICAgICAgICAgICAgIHZhciBodG1sXzIwM2UxYmY3ZWJjNTRjYTI5ZGQ0ZmFjMzY1NWZmNDU0ID0gJCgnPGRpdiBpZD0iaHRtbF8yMDNlMWJmN2ViYzU0Y2EyOWRkNGZhYzM2NTVmZjQ1NCIgc3R5bGU9IndpZHRoOiAxMDAuMCU7IGhlaWdodDogMTAwLjAlOyI+Q291bnRyeSA6IFsmIzM5O1N0b2NraG9sbSYjMzk7XSAgIE51bSBvZiByZXNvdXJjZXMgOiBbM10gICBOYW1lcyA6IFsmIzM5O0FsZXhhbmRlciYjMzk7LCAmIzM5O0plbm5pZmVyJiMzOTssICYjMzk7T3R0byYjMzk7XTwvZGl2PicpWzBdOwogICAgICAgICAgICAgICAgcG9wdXBfMjk4YTc3YjA5ZjZlNDUyNzhiOWRmMTcxYmI0YTZhZWQuc2V0Q29udGVudChodG1sXzIwM2UxYmY3ZWJjNTRjYTI5ZGQ0ZmFjMzY1NWZmNDU0KTsKICAgICAgICAgICAgCgogICAgICAgICAgICBtYXJrZXJfOTk1ZjFlMjkxZTQ3NGRlZWJkNTY3NDhjNmYyYjIyYmUuYmluZFBvcHVwKHBvcHVwXzI5OGE3N2IwOWY2ZTQ1Mjc4YjlkZjE3MWJiNGE2YWVkKTsKCiAgICAgICAgICAgIAogICAgICAgIAogICAgCgogICAgICAgICAgICB2YXIgbWFya2VyX2UwZTY1MDcyNDQ2YTQwNzM4M2YwMDM0ZmVjNmY2NWRiID0gTC5tYXJrZXIoCiAgICAgICAgICAgICAgICBbNTEuNTA3MzIxOSwtMC4xMjc2NDc0XSwKICAgICAgICAgICAgICAgIHsKICAgICAgICAgICAgICAgICAgICBpY29uOiBuZXcgTC5JY29uLkRlZmF1bHQoKQogICAgICAgICAgICAgICAgICAgIH0KICAgICAgICAgICAgICAgICkKICAgICAgICAgICAgICAgIC5hZGRUbyhtYXBfZDQ3ZGUzODg4N2E3NDc5Y2EyMjI1NjczOWZmYTY2YmUpOwogICAgICAgICAgICAKICAgIAoKICAgICAgICAgICAgICAgIHZhciBpY29uX2IxNzBlNDE2ZWEzMDRlNGE4MWI4YTAyNzc4OTVhMGExID0gTC5Bd2Vzb21lTWFya2Vycy5pY29uKHsKICAgICAgICAgICAgICAgICAgICBpY29uOiAnaW5mby1zaWduJywKICAgICAgICAgICAgICAgICAgICBpY29uQ29sb3I6ICd3aGl0ZScsCiAgICAgICAgICAgICAgICAgICAgbWFya2VyQ29sb3I6ICdibHVlJywKICAgICAgICAgICAgICAgICAgICBwcmVmaXg6ICdnbHlwaGljb24nLAogICAgICAgICAgICAgICAgICAgIGV4dHJhQ2xhc3NlczogJ2ZhLXJvdGF0ZS0wJwogICAgICAgICAgICAgICAgICAgIH0pOwogICAgICAgICAgICAgICAgbWFya2VyX2UwZTY1MDcyNDQ2YTQwNzM4M2YwMDM0ZmVjNmY2NWRiLnNldEljb24oaWNvbl9iMTcwZTQxNmVhMzA0ZTRhODFiOGEwMjc3ODk1YTBhMSk7CiAgICAgICAgICAgIAogICAgCiAgICAgICAgICAgIHZhciBwb3B1cF8yZDdkOTE4MzA1ZTQ0NTE0YTY1YmQzZWZkOTE1NGZkNiA9IEwucG9wdXAoe21heFdpZHRoOiAnMzAwJ30pOwoKICAgICAgICAgICAgCiAgICAgICAgICAgICAgICB2YXIgaHRtbF9hNWE3MTc3Njc1ODE0YjIyOWVhNmE2ZGJlYWY2YzdhZSA9ICQoJzxkaXYgaWQ9Imh0bWxfYTVhNzE3NzY3NTgxNGIyMjllYTZhNmRiZWFmNmM3YWUiIHN0eWxlPSJ3aWR0aDogMTAwLjAlOyBoZWlnaHQ6IDEwMC4wJTsiPkNvdW50cnkgOiBbJiMzOTtMb25kb24mIzM5O10gICBOdW0gb2YgcmVzb3VyY2VzIDogWzNdICAgTmFtZXMgOiBbJiMzOTtBbmRlcnMmIzM5OywgJiMzOTtKb2hhbiYjMzk7LCAmIzM5O1BhdWwmIzM5O108L2Rpdj4nKVswXTsKICAgICAgICAgICAgICAgIHBvcHVwXzJkN2Q5MTgzMDVlNDQ1MTRhNjViZDNlZmQ5MTU0ZmQ2LnNldENvbnRlbnQoaHRtbF9hNWE3MTc3Njc1ODE0YjIyOWVhNmE2ZGJlYWY2YzdhZSk7CiAgICAgICAgICAgIAoKICAgICAgICAgICAgbWFya2VyX2UwZTY1MDcyNDQ2YTQwNzM4M2YwMDM0ZmVjNmY2NWRiLmJpbmRQb3B1cChwb3B1cF8yZDdkOTE4MzA1ZTQ0NTE0YTY1YmQzZWZkOTE1NGZkNik7CgogICAgICAgICAgICAKICAgICAgICAKICAgIAoKICAgICAgICAgICAgdmFyIG1hcmtlcl80OWVlZGI0ZTc4NDA0NTQ1YTcxNTFjYjNhNmI2NjA1OSA9IEwubWFya2VyKAogICAgICAgICAgICAgICAgWzUxLjA4MzQxOTYsMTAuNDIzNDQ2OV0sCiAgICAgICAgICAgICAgICB7CiAgICAgICAgICAgICAgICAgICAgaWNvbjogbmV3IEwuSWNvbi5EZWZhdWx0KCkKICAgICAgICAgICAgICAgICAgICB9CiAgICAgICAgICAgICAgICApCiAgICAgICAgICAgICAgICAuYWRkVG8obWFwX2Q0N2RlMzg4ODdhNzQ3OWNhMjIyNTY3MzlmZmE2NmJlKTsKICAgICAgICAgICAgCiAgICAKCiAgICAgICAgICAgICAgICB2YXIgaWNvbl9hZDE1M2Q1NGY2MjQ0ZjVlYmYwYTQ1NmIwNGMwZWI1MSA9IEwuQXdlc29tZU1hcmtlcnMuaWNvbih7CiAgICAgICAgICAgICAgICAgICAgaWNvbjogJ2luZm8tc2lnbicsCiAgICAgICAgICAgICAgICAgICAgaWNvbkNvbG9yOiAnd2hpdGUnLAogICAgICAgICAgICAgICAgICAgIG1hcmtlckNvbG9yOiAnYmx1ZScsCiAgICAgICAgICAgICAgICAgICAgcHJlZml4OiAnZ2x5cGhpY29uJywKICAgICAgICAgICAgICAgICAgICBleHRyYUNsYXNzZXM6ICdmYS1yb3RhdGUtMCcKICAgICAgICAgICAgICAgICAgICB9KTsKICAgICAgICAgICAgICAgIG1hcmtlcl80OWVlZGI0ZTc4NDA0NTQ1YTcxNTFjYjNhNmI2NjA1OS5zZXRJY29uKGljb25fYWQxNTNkNTRmNjI0NGY1ZWJmMGE0NTZiMDRjMGViNTEpOwogICAgICAgICAgICAKICAgIAogICAgICAgICAgICB2YXIgcG9wdXBfODUwZmMyZWIwOGRjNDJjOTgyZjQ1YTdjNTQzMTAxZTUgPSBMLnBvcHVwKHttYXhXaWR0aDogJzMwMCd9KTsKCiAgICAgICAgICAgIAogICAgICAgICAgICAgICAgdmFyIGh0bWxfMWQ1MjlmZTZkOTE1NGFmMzhjOTVjMjZlZTY1ODcxNzcgPSAkKCc8ZGl2IGlkPSJodG1sXzFkNTI5ZmU2ZDkxNTRhZjM4Yzk1YzI2ZWU2NTg3MTc3IiBzdHlsZT0id2lkdGg6IDEwMC4wJTsgaGVpZ2h0OiAxMDAuMCU7Ij5Db3VudHJ5IDogWyYjMzk7R2VybWFueSYjMzk7XSAgIE51bSBvZiByZXNvdXJjZXMgOiBbMl0gICBOYW1lcyA6IFsmIzM5O0FuZHJlYXMmIzM5OywgJiMzOTtKb25hcyYjMzk7XTwvZGl2PicpWzBdOwogICAgICAgICAgICAgICAgcG9wdXBfODUwZmMyZWIwOGRjNDJjOTgyZjQ1YTdjNTQzMTAxZTUuc2V0Q29udGVudChodG1sXzFkNTI5ZmU2ZDkxNTRhZjM4Yzk1YzI2ZWU2NTg3MTc3KTsKICAgICAgICAgICAgCgogICAgICAgICAgICBtYXJrZXJfNDllZWRiNGU3ODQwNDU0NWE3MTUxY2IzYTZiNjYwNTkuYmluZFBvcHVwKHBvcHVwXzg1MGZjMmViMDhkYzQyYzk4MmY0NWE3YzU0MzEwMWU1KTsKCiAgICAgICAgICAgIAogICAgICAgIAogICAgCgogICAgICAgICAgICB2YXIgbWFya2VyXzZlYWMyOTY4MWQxNTRkNmJhNjJkZWI2M2I3OGY5ZTI2ID0gTC5tYXJrZXIoCiAgICAgICAgICAgICAgICBbNDYuNjAzMzU0LDEuODg4MzMzNV0sCiAgICAgICAgICAgICAgICB7CiAgICAgICAgICAgICAgICAgICAgaWNvbjogbmV3IEwuSWNvbi5EZWZhdWx0KCkKICAgICAgICAgICAgICAgICAgICB9CiAgICAgICAgICAgICAgICApCiAgICAgICAgICAgICAgICAuYWRkVG8obWFwX2Q0N2RlMzg4ODdhNzQ3OWNhMjIyNTY3MzlmZmE2NmJlKTsKICAgICAgICAgICAgCiAgICAKCiAgICAgICAgICAgICAgICB2YXIgaWNvbl9hZDgwZDY1ZDYwNzU0MmEwOTQ1YjRhMzRjYWYwMTgwYyA9IEwuQXdlc29tZU1hcmtlcnMuaWNvbih7CiAgICAgICAgICAgICAgICAgICAgaWNvbjogJ2luZm8tc2lnbicsCiAgICAgICAgICAgICAgICAgICAgaWNvbkNvbG9yOiAnd2hpdGUnLAogICAgICAgICAgICAgICAgICAgIG1hcmtlckNvbG9yOiAnYmx1ZScsCiAgICAgICAgICAgICAgICAgICAgcHJlZml4OiAnZ2x5cGhpY29uJywKICAgICAgICAgICAgICAgICAgICBleHRyYUNsYXNzZXM6ICdmYS1yb3RhdGUtMCcKICAgICAgICAgICAgICAgICAgICB9KTsKICAgICAgICAgICAgICAgIG1hcmtlcl82ZWFjMjk2ODFkMTU0ZDZiYTYyZGViNjNiNzhmOWUyNi5zZXRJY29uKGljb25fYWQ4MGQ2NWQ2MDc1NDJhMDk0NWI0YTM0Y2FmMDE4MGMpOwogICAgICAgICAgICAKICAgIAogICAgICAgICAgICB2YXIgcG9wdXBfZWMxNGFhNTA1NjI3NGYyZDg5OTcyODJiMThkYmQ5NDcgPSBMLnBvcHVwKHttYXhXaWR0aDogJzMwMCd9KTsKCiAgICAgICAgICAgIAogICAgICAgICAgICAgICAgdmFyIGh0bWxfMzgyNTMzMDgwNGJlNGQxMWFhYTQ2N2I3ZTJhMTAyZWEgPSAkKCc8ZGl2IGlkPSJodG1sXzM4MjUzMzA4MDRiZTRkMTFhYWE0NjdiN2UyYTEwMmVhIiBzdHlsZT0id2lkdGg6IDEwMC4wJTsgaGVpZ2h0OiAxMDAuMCU7Ij5Db3VudHJ5IDogWyYjMzk7RnJhbmNlJiMzOTtdICAgTnVtIG9mIHJlc291cmNlcyA6IFszXSAgIE5hbWVzIDogWyYjMzk7QXJ0aW4mIzM5OywgJiMzOTtKdXN0aW4mIzM5OywgJiMzOTtSaWthcmQgUyYjMzk7XTwvZGl2PicpWzBdOwogICAgICAgICAgICAgICAgcG9wdXBfZWMxNGFhNTA1NjI3NGYyZDg5OTcyODJiMThkYmQ5NDcuc2V0Q29udGVudChodG1sXzM4MjUzMzA4MDRiZTRkMTFhYWE0NjdiN2UyYTEwMmVhKTsKICAgICAgICAgICAgCgogICAgICAgICAgICBtYXJrZXJfNmVhYzI5NjgxZDE1NGQ2YmE2MmRlYjYzYjc4ZjllMjYuYmluZFBvcHVwKHBvcHVwX2VjMTRhYTUwNTYyNzRmMmQ4OTk3MjgyYjE4ZGJkOTQ3KTsKCiAgICAgICAgICAgIAogICAgICAgIAogICAgCgogICAgICAgICAgICB2YXIgbWFya2VyXzU2NjY4MTUwMWRhMDQwMzViZDk2ZDc1NWE1YTFkY2MzID0gTC5tYXJrZXIoCiAgICAgICAgICAgICAgICBbNDIuNjM4NDI2MSwxMi42NzQyOTddLAogICAgICAgICAgICAgICAgewogICAgICAgICAgICAgICAgICAgIGljb246IG5ldyBMLkljb24uRGVmYXVsdCgpCiAgICAgICAgICAgICAgICAgICAgfQogICAgICAgICAgICAgICAgKQogICAgICAgICAgICAgICAgLmFkZFRvKG1hcF9kNDdkZTM4ODg3YTc0NzljYTIyMjU2NzM5ZmZhNjZiZSk7CiAgICAgICAgICAgIAogICAgCgogICAgICAgICAgICAgICAgdmFyIGljb25fN2FlOTM4MmIwMzg4NGVjZjg1NTM1Y2IyZjBkYWEyZGUgPSBMLkF3ZXNvbWVNYXJrZXJzLmljb24oewogICAgICAgICAgICAgICAgICAgIGljb246ICdpbmZvLXNpZ24nLAogICAgICAgICAgICAgICAgICAgIGljb25Db2xvcjogJ3doaXRlJywKICAgICAgICAgICAgICAgICAgICBtYXJrZXJDb2xvcjogJ2JsdWUnLAogICAgICAgICAgICAgICAgICAgIHByZWZpeDogJ2dseXBoaWNvbicsCiAgICAgICAgICAgICAgICAgICAgZXh0cmFDbGFzc2VzOiAnZmEtcm90YXRlLTAnCiAgICAgICAgICAgICAgICAgICAgfSk7CiAgICAgICAgICAgICAgICBtYXJrZXJfNTY2NjgxNTAxZGEwNDAzNWJkOTZkNzU1YTVhMWRjYzMuc2V0SWNvbihpY29uXzdhZTkzODJiMDM4ODRlY2Y4NTUzNWNiMmYwZGFhMmRlKTsKICAgICAgICAgICAgCiAgICAKICAgICAgICAgICAgdmFyIHBvcHVwXzFhZjg4M2NiMTJiZDQ5ZWU5NzY1YWRmNDU0N2VmYzVkID0gTC5wb3B1cCh7bWF4V2lkdGg6ICczMDAnfSk7CgogICAgICAgICAgICAKICAgICAgICAgICAgICAgIHZhciBodG1sXzYwNDNkOGIxMzMxYjRkMjhiYjk1ZDNkNmVmYWE0NjRkID0gJCgnPGRpdiBpZD0iaHRtbF82MDQzZDhiMTMzMWI0ZDI4YmI5NWQzZDZlZmFhNDY0ZCIgc3R5bGU9IndpZHRoOiAxMDAuMCU7IGhlaWdodDogMTAwLjAlOyI+Q291bnRyeSA6IFsmIzM5O0l0YWx5JiMzOTtdICAgTnVtIG9mIHJlc291cmNlcyA6IFszXSAgIE5hbWVzIDogWyYjMzk7QXhlbCYjMzk7LCAmIzM5O0tyaXN0aW4mIzM5OywgJiMzOTtTYW11ZWwmIzM5O108L2Rpdj4nKVswXTsKICAgICAgICAgICAgICAgIHBvcHVwXzFhZjg4M2NiMTJiZDQ5ZWU5NzY1YWRmNDU0N2VmYzVkLnNldENvbnRlbnQoaHRtbF82MDQzZDhiMTMzMWI0ZDI4YmI5NWQzZDZlZmFhNDY0ZCk7CiAgICAgICAgICAgIAoKICAgICAgICAgICAgbWFya2VyXzU2NjY4MTUwMWRhMDQwMzViZDk2ZDc1NWE1YTFkY2MzLmJpbmRQb3B1cChwb3B1cF8xYWY4ODNjYjEyYmQ0OWVlOTc2NWFkZjQ1NDdlZmM1ZCk7CgogICAgICAgICAgICAKICAgICAgICAKICAgIAoKICAgICAgICAgICAgdmFyIG1hcmtlcl9mZGJjMzIxYTIxZjQ0MWEyOTkwMDQ2ZTI4YmMzZTIwYSA9IEwubWFya2VyKAogICAgICAgICAgICAgICAgWzQwLjAwMjgwMjgsLTQuMDAzMTA0XSwKICAgICAgICAgICAgICAgIHsKICAgICAgICAgICAgICAgICAgICBpY29uOiBuZXcgTC5JY29uLkRlZmF1bHQoKQogICAgICAgICAgICAgICAgICAgIH0KICAgICAgICAgICAgICAgICkKICAgICAgICAgICAgICAgIC5hZGRUbyhtYXBfZDQ3ZGUzODg4N2E3NDc5Y2EyMjI1NjczOWZmYTY2YmUpOwogICAgICAgICAgICAKICAgIAoKICAgICAgICAgICAgICAgIHZhciBpY29uXzg2ZjEwNjA1ZTllYjRlNzc5YzZlOWU1ZDc1NDI3NmFhID0gTC5Bd2Vzb21lTWFya2Vycy5pY29uKHsKICAgICAgICAgICAgICAgICAgICBpY29uOiAnaW5mby1zaWduJywKICAgICAgICAgICAgICAgICAgICBpY29uQ29sb3I6ICd3aGl0ZScsCiAgICAgICAgICAgICAgICAgICAgbWFya2VyQ29sb3I6ICdibHVlJywKICAgICAgICAgICAgICAgICAgICBwcmVmaXg6ICdnbHlwaGljb24nLAogICAgICAgICAgICAgICAgICAgIGV4dHJhQ2xhc3NlczogJ2ZhLXJvdGF0ZS0wJwogICAgICAgICAgICAgICAgICAgIH0pOwogICAgICAgICAgICAgICAgbWFya2VyX2ZkYmMzMjFhMjFmNDQxYTI5OTAwNDZlMjhiYzNlMjBhLnNldEljb24oaWNvbl84NmYxMDYwNWU5ZWI0ZTc3OWM2ZTllNWQ3NTQyNzZhYSk7CiAgICAgICAgICAgIAogICAgCiAgICAgICAgICAgIHZhciBwb3B1cF9jZTE1NTRmOTdkMTU0NWJhYmEwZjY4YjdiYzExODE3OSA9IEwucG9wdXAoe21heFdpZHRoOiAnMzAwJ30pOwoKICAgICAgICAgICAgCiAgICAgICAgICAgICAgICB2YXIgaHRtbF8zNjcyODIzZTljYjc0M2FiYTZjMzE4YmFhNzIyZDM2NSA9ICQoJzxkaXYgaWQ9Imh0bWxfMzY3MjgyM2U5Y2I3NDNhYmE2YzMxOGJhYTcyMmQzNjUiIHN0eWxlPSJ3aWR0aDogMTAwLjAlOyBoZWlnaHQ6IDEwMC4wJTsiPkNvdW50cnkgOiBbJiMzOTtTcGFpbiYjMzk7XSAgIE51bSBvZiByZXNvdXJjZXMgOiBbMl0gICBOYW1lcyA6IFsmIzM5O0RhbmllbCYjMzk7LCAmIzM5O0tyaXN0b2ZmZXImIzM5O108L2Rpdj4nKVswXTsKICAgICAgICAgICAgICAgIHBvcHVwX2NlMTU1NGY5N2QxNTQ1YmFiYTBmNjhiN2JjMTE4MTc5LnNldENvbnRlbnQoaHRtbF8zNjcyODIzZTljYjc0M2FiYTZjMzE4YmFhNzIyZDM2NSk7CiAgICAgICAgICAgIAoKICAgICAgICAgICAgbWFya2VyX2ZkYmMzMjFhMjFmNDQxYTI5OTAwNDZlMjhiYzNlMjBhLmJpbmRQb3B1cChwb3B1cF9jZTE1NTRmOTdkMTU0NWJhYmEwZjY4YjdiYzExODE3OSk7CgogICAgICAgICAgICAKICAgICAgICAKICAgIAoKICAgICAgICAgICAgdmFyIG1hcmtlcl8wZjc1Zjc5Yzc0Zjc0YzMxODViNjEzNmEzMjFkZDVkYiA9IEwubWFya2VyKAogICAgICAgICAgICAgICAgWzM5Ljc4MzczMDQsLTEwMC40NDU4ODI1XSwKICAgICAgICAgICAgICAgIHsKICAgICAgICAgICAgICAgICAgICBpY29uOiBuZXcgTC5JY29uLkRlZmF1bHQoKQogICAgICAgICAgICAgICAgICAgIH0KICAgICAgICAgICAgICAgICkKICAgICAgICAgICAgICAgIC5hZGRUbyhtYXBfZDQ3ZGUzODg4N2E3NDc5Y2EyMjI1NjczOWZmYTY2YmUpOwogICAgICAgICAgICAKICAgIAoKICAgICAgICAgICAgICAgIHZhciBpY29uXzAyZjViYzIyNDA5NTRmYTViNTZmM2RmZGUxNDhiYWJmID0gTC5Bd2Vzb21lTWFya2Vycy5pY29uKHsKICAgICAgICAgICAgICAgICAgICBpY29uOiAnaW5mby1zaWduJywKICAgICAgICAgICAgICAgICAgICBpY29uQ29sb3I6ICd3aGl0ZScsCiAgICAgICAgICAgICAgICAgICAgbWFya2VyQ29sb3I6ICdibHVlJywKICAgICAgICAgICAgICAgICAgICBwcmVmaXg6ICdnbHlwaGljb24nLAogICAgICAgICAgICAgICAgICAgIGV4dHJhQ2xhc3NlczogJ2ZhLXJvdGF0ZS0wJwogICAgICAgICAgICAgICAgICAgIH0pOwogICAgICAgICAgICAgICAgbWFya2VyXzBmNzVmNzljNzRmNzRjMzE4NWI2MTM2YTMyMWRkNWRiLnNldEljb24oaWNvbl8wMmY1YmMyMjQwOTU0ZmE1YjU2ZjNkZmRlMTQ4YmFiZik7CiAgICAgICAgICAgIAogICAgCiAgICAgICAgICAgIHZhciBwb3B1cF8zODE5NzQ2YjU2ZmI0YWMyOTcwNWQ1ZGNjY2FmNTYzMiA9IEwucG9wdXAoe21heFdpZHRoOiAnMzAwJ30pOwoKICAgICAgICAgICAgCiAgICAgICAgICAgICAgICB2YXIgaHRtbF81ZDJmN2NiMzA5Nzk0YWE5OTc1YjhjZGU3YjI0YWI0YyA9ICQoJzxkaXYgaWQ9Imh0bWxfNWQyZjdjYjMwOTc5NGFhOTk3NWI4Y2RlN2IyNGFiNGMiIHN0eWxlPSJ3aWR0aDogMTAwLjAlOyBoZWlnaHQ6IDEwMC4wJTsiPkNvdW50cnkgOiBbJiMzOTtVU0EmIzM5O10gICBOdW0gb2YgcmVzb3VyY2VzIDogWzNdICAgTmFtZXMgOiBbJiMzOTtFbWVsaWUmIzM5OywgJiMzOTtNaWtrbyYjMzk7LCAmIzM5O1NhcmEgSiYjMzk7XTwvZGl2PicpWzBdOwogICAgICAgICAgICAgICAgcG9wdXBfMzgxOTc0NmI1NmZiNGFjMjk3MDVkNWRjY2NhZjU2MzIuc2V0Q29udGVudChodG1sXzVkMmY3Y2IzMDk3OTRhYTk5NzViOGNkZTdiMjRhYjRjKTsKICAgICAgICAgICAgCgogICAgICAgICAgICBtYXJrZXJfMGY3NWY3OWM3NGY3NGMzMTg1YjYxMzZhMzIxZGQ1ZGIuYmluZFBvcHVwKHBvcHVwXzM4MTk3NDZiNTZmYjRhYzI5NzA1ZDVkY2NjYWY1NjMyKTsKCiAgICAgICAgICAgIAogICAgICAgIAogICAgCgogICAgICAgICAgICB2YXIgbWFya2VyX2IyZjNiNWY3YjI2ZTQ0OTc4MmIxMzUzY2Y5NTdmNzdkID0gTC5tYXJrZXIoCiAgICAgICAgICAgICAgICBbNjQuNjg2MzEzNiw5Ny43NDUzMDYxXSwKICAgICAgICAgICAgICAgIHsKICAgICAgICAgICAgICAgICAgICBpY29uOiBuZXcgTC5JY29uLkRlZmF1bHQoKQogICAgICAgICAgICAgICAgICAgIH0KICAgICAgICAgICAgICAgICkKICAgICAgICAgICAgICAgIC5hZGRUbyhtYXBfZDQ3ZGUzODg4N2E3NDc5Y2EyMjI1NjczOWZmYTY2YmUpOwogICAgICAgICAgICAKICAgIAoKICAgICAgICAgICAgICAgIHZhciBpY29uXzQ0YTRhZDk4ZmMwMTQ3ZjU5N2RlYWJmMmUxMzc1ZWVmID0gTC5Bd2Vzb21lTWFya2Vycy5pY29uKHsKICAgICAgICAgICAgICAgICAgICBpY29uOiAnaW5mby1zaWduJywKICAgICAgICAgICAgICAgICAgICBpY29uQ29sb3I6ICd3aGl0ZScsCiAgICAgICAgICAgICAgICAgICAgbWFya2VyQ29sb3I6ICdibHVlJywKICAgICAgICAgICAgICAgICAgICBwcmVmaXg6ICdnbHlwaGljb24nLAogICAgICAgICAgICAgICAgICAgIGV4dHJhQ2xhc3NlczogJ2ZhLXJvdGF0ZS0wJwogICAgICAgICAgICAgICAgICAgIH0pOwogICAgICAgICAgICAgICAgbWFya2VyX2IyZjNiNWY3YjI2ZTQ0OTc4MmIxMzUzY2Y5NTdmNzdkLnNldEljb24oaWNvbl80NGE0YWQ5OGZjMDE0N2Y1OTdkZWFiZjJlMTM3NWVlZik7CiAgICAgICAgICAgIAogICAgCiAgICAgICAgICAgIHZhciBwb3B1cF84NmFhMWUyNTBhOGY0OTAxOWI2YjgwYjUzN2EwNWQ3YiA9IEwucG9wdXAoe21heFdpZHRoOiAnMzAwJ30pOwoKICAgICAgICAgICAgCiAgICAgICAgICAgICAgICB2YXIgaHRtbF9iNTc5N2RmNjFkZTY0Y2UwYWM5ZGY2ZmNhM2YxYTNkYyA9ICQoJzxkaXYgaWQ9Imh0bWxfYjU3OTdkZjYxZGU2NGNlMGFjOWRmNmZjYTNmMWEzZGMiIHN0eWxlPSJ3aWR0aDogMTAwLjAlOyBoZWlnaHQ6IDEwMC4wJTsiPkNvdW50cnkgOiBbJiMzOTtSdXNzaWEmIzM5O10gICBOdW0gb2YgcmVzb3VyY2VzIDogWzNdICAgTmFtZXMgOiBbJiMzOTtFbWlsJiMzOTssICYjMzk7T2xsZSYjMzk7LCAmIzM5O1NlYW4gQiYjMzk7XTwvZGl2PicpWzBdOwogICAgICAgICAgICAgICAgcG9wdXBfODZhYTFlMjUwYThmNDkwMTliNmI4MGI1MzdhMDVkN2Iuc2V0Q29udGVudChodG1sX2I1Nzk3ZGY2MWRlNjRjZTBhYzlkZjZmY2EzZjFhM2RjKTsKICAgICAgICAgICAgCgogICAgICAgICAgICBtYXJrZXJfYjJmM2I1ZjdiMjZlNDQ5NzgyYjEzNTNjZjk1N2Y3N2QuYmluZFBvcHVwKHBvcHVwXzg2YWExZTI1MGE4ZjQ5MDE5YjZiODBiNTM3YTA1ZDdiKTsKCiAgICAgICAgICAgIAogICAgICAgIAogICAgCgogICAgICAgICAgICB2YXIgbWFya2VyXzYyOTM4MTcwOWZkNjRiNTliYzE4MmUwNzk1OTI3MzJjID0gTC5tYXJrZXIoCiAgICAgICAgICAgICAgICBbNTUuNjcwMjQ5LDEwLjMzMzMyODNdLAogICAgICAgICAgICAgICAgewogICAgICAgICAgICAgICAgICAgIGljb246IG5ldyBMLkljb24uRGVmYXVsdCgpCiAgICAgICAgICAgICAgICAgICAgfQogICAgICAgICAgICAgICAgKQogICAgICAgICAgICAgICAgLmFkZFRvKG1hcF9kNDdkZTM4ODg3YTc0NzljYTIyMjU2NzM5ZmZhNjZiZSk7CiAgICAgICAgICAgIAogICAgCgogICAgICAgICAgICAgICAgdmFyIGljb25fNTdkOTZiZTA4MzY2NGQwZDk5ZWNmOTM3MGNmMzhlZTkgPSBMLkF3ZXNvbWVNYXJrZXJzLmljb24oewogICAgICAgICAgICAgICAgICAgIGljb246ICdpbmZvLXNpZ24nLAogICAgICAgICAgICAgICAgICAgIGljb25Db2xvcjogJ3doaXRlJywKICAgICAgICAgICAgICAgICAgICBtYXJrZXJDb2xvcjogJ2JsdWUnLAogICAgICAgICAgICAgICAgICAgIHByZWZpeDogJ2dseXBoaWNvbicsCiAgICAgICAgICAgICAgICAgICAgZXh0cmFDbGFzc2VzOiAnZmEtcm90YXRlLTAnCiAgICAgICAgICAgICAgICAgICAgfSk7CiAgICAgICAgICAgICAgICBtYXJrZXJfNjI5MzgxNzA5ZmQ2NGI1OWJjMTgyZTA3OTU5MjczMmMuc2V0SWNvbihpY29uXzU3ZDk2YmUwODM2NjRkMGQ5OWVjZjkzNzBjZjM4ZWU5KTsKICAgICAgICAgICAgCiAgICAKICAgICAgICAgICAgdmFyIHBvcHVwXzI4OGU3YzRlZjFmOTQwYTA5MzZjMjUzZjdiOTZiOWM0ID0gTC5wb3B1cCh7bWF4V2lkdGg6ICczMDAnfSk7CgogICAgICAgICAgICAKICAgICAgICAgICAgICAgIHZhciBodG1sXzA3NGQ2NDZhYzJjNTQzYmM5NDJlNDkyYTVlMjYwMzY1ID0gJCgnPGRpdiBpZD0iaHRtbF8wNzRkNjQ2YWMyYzU0M2JjOTQyZTQ5MmE1ZTI2MDM2NSIgc3R5bGU9IndpZHRoOiAxMDAuMCU7IGhlaWdodDogMTAwLjAlOyI+Q291bnRyeSA6IFsmIzM5O0Rlbm1hcmsmIzM5O10gICBOdW0gb2YgcmVzb3VyY2VzIDogWzNdICAgTmFtZXMgOiBbJiMzOTtFcmlrIEgmIzM5OywgJiMzOTtPbWFyJiMzOTssICYjMzk7U29maWEmIzM5O108L2Rpdj4nKVswXTsKICAgICAgICAgICAgICAgIHBvcHVwXzI4OGU3YzRlZjFmOTQwYTA5MzZjMjUzZjdiOTZiOWM0LnNldENvbnRlbnQoaHRtbF8wNzRkNjQ2YWMyYzU0M2JjOTQyZTQ5MmE1ZTI2MDM2NSk7CiAgICAgICAgICAgIAoKICAgICAgICAgICAgbWFya2VyXzYyOTM4MTcwOWZkNjRiNTliYzE4MmUwNzk1OTI3MzJjLmJpbmRQb3B1cChwb3B1cF8yODhlN2M0ZWYxZjk0MGEwOTM2YzI1M2Y3Yjk2YjljNCk7CgogICAgICAgICAgICAKICAgICAgICAKICAgIAoKICAgICAgICAgICAgdmFyIG1hcmtlcl82ZTFjZWY2OTZlN2E0OGRmOThlNTMwYTMyYzE4NDliMCA9IEwubWFya2VyKAogICAgICAgICAgICAgICAgWzYzLjI0Njc3NzcsMjUuOTIwOTE2NF0sCiAgICAgICAgICAgICAgICB7CiAgICAgICAgICAgICAgICAgICAgaWNvbjogbmV3IEwuSWNvbi5EZWZhdWx0KCkKICAgICAgICAgICAgICAgICAgICB9CiAgICAgICAgICAgICAgICApCiAgICAgICAgICAgICAgICAuYWRkVG8obWFwX2Q0N2RlMzg4ODdhNzQ3OWNhMjIyNTY3MzlmZmE2NmJlKTsKICAgICAgICAgICAgCiAgICAKCiAgICAgICAgICAgICAgICB2YXIgaWNvbl9lNWI4MjFhMTNiM2U0YWRmOWMxOGY3ZDJjMTI0MzZlNCA9IEwuQXdlc29tZU1hcmtlcnMuaWNvbih7CiAgICAgICAgICAgICAgICAgICAgaWNvbjogJ2luZm8tc2lnbicsCiAgICAgICAgICAgICAgICAgICAgaWNvbkNvbG9yOiAnd2hpdGUnLAogICAgICAgICAgICAgICAgICAgIG1hcmtlckNvbG9yOiAnYmx1ZScsCiAgICAgICAgICAgICAgICAgICAgcHJlZml4OiAnZ2x5cGhpY29uJywKICAgICAgICAgICAgICAgICAgICBleHRyYUNsYXNzZXM6ICdmYS1yb3RhdGUtMCcKICAgICAgICAgICAgICAgICAgICB9KTsKICAgICAgICAgICAgICAgIG1hcmtlcl82ZTFjZWY2OTZlN2E0OGRmOThlNTMwYTMyYzE4NDliMC5zZXRJY29uKGljb25fZTViODIxYTEzYjNlNGFkZjljMThmN2QyYzEyNDM2ZTQpOwogICAgICAgICAgICAKICAgIAogICAgICAgICAgICB2YXIgcG9wdXBfYjAxM2YzNGRjZDg0NDhlZmI1YTNiM2M2YTRkNWQ4YjcgPSBMLnBvcHVwKHttYXhXaWR0aDogJzMwMCd9KTsKCiAgICAgICAgICAgIAogICAgICAgICAgICAgICAgdmFyIGh0bWxfY2ZhMjE2MzAwYzE4NDBhM2E0MGI4MzA3ZGZlMTQyZTYgPSAkKCc8ZGl2IGlkPSJodG1sX2NmYTIxNjMwMGMxODQwYTNhNDBiODMwN2RmZTE0MmU2IiBzdHlsZT0id2lkdGg6IDEwMC4wJTsgaGVpZ2h0OiAxMDAuMCU7Ij5Db3VudHJ5IDogWyYjMzk7RmlubGFuZCYjMzk7XSAgIE51bSBvZiByZXNvdXJjZXMgOiBbMl0gICBOYW1lcyA6IFsmIzM5O0VyaWsgUiYjMzk7LCAmIzM5O09zY2FyJiMzOTtdPC9kaXY+JylbMF07CiAgICAgICAgICAgICAgICBwb3B1cF9iMDEzZjM0ZGNkODQ0OGVmYjVhM2IzYzZhNGQ1ZDhiNy5zZXRDb250ZW50KGh0bWxfY2ZhMjE2MzAwYzE4NDBhM2E0MGI4MzA3ZGZlMTQyZTYpOwogICAgICAgICAgICAKCiAgICAgICAgICAgIG1hcmtlcl82ZTFjZWY2OTZlN2E0OGRmOThlNTMwYTMyYzE4NDliMC5iaW5kUG9wdXAocG9wdXBfYjAxM2YzNGRjZDg0NDhlZmI1YTNiM2M2YTRkNWQ4YjcpOwoKICAgICAgICAgICAgCiAgICAgICAgCiAgICAKCiAgICAgICAgICAgIHZhciBtYXJrZXJfYjQxZmNlNWUyNjJjNDA3YWE4Nzc1OTNmYzFjMmRkNzUgPSBMLm1hcmtlcigKICAgICAgICAgICAgICAgIFs1OS4zMjUxMTcyLDE4LjA3MTA5MzVdLAogICAgICAgICAgICAgICAgewogICAgICAgICAgICAgICAgICAgIGljb246IG5ldyBMLkljb24uRGVmYXVsdCgpCiAgICAgICAgICAgICAgICAgICAgfQogICAgICAgICAgICAgICAgKQogICAgICAgICAgICAgICAgLmFkZFRvKG1hcF9kNDdkZTM4ODg3YTc0NzljYTIyMjU2NzM5ZmZhNjZiZSk7CiAgICAgICAgICAgIAogICAgCgogICAgICAgICAgICAgICAgdmFyIGljb25fYTIyOTcwMTEwMzlhNDYzZmJlZWZkZWQ0Y2ExOTllMmMgPSBMLkF3ZXNvbWVNYXJrZXJzLmljb24oewogICAgICAgICAgICAgICAgICAgIGljb246ICdpbmZvLXNpZ24nLAogICAgICAgICAgICAgICAgICAgIGljb25Db2xvcjogJ3doaXRlJywKICAgICAgICAgICAgICAgICAgICBtYXJrZXJDb2xvcjogJ3JlZCcsCiAgICAgICAgICAgICAgICAgICAgcHJlZml4OiAnZ2x5cGhpY29uJywKICAgICAgICAgICAgICAgICAgICBleHRyYUNsYXNzZXM6ICdmYS1yb3RhdGUtMTAnCiAgICAgICAgICAgICAgICAgICAgfSk7CiAgICAgICAgICAgICAgICBtYXJrZXJfYjQxZmNlNWUyNjJjNDA3YWE4Nzc1OTNmYzFjMmRkNzUuc2V0SWNvbihpY29uX2EyMjk3MDExMDM5YTQ2M2ZiZWVmZGVkNGNhMTk5ZTJjKTsKICAgICAgICAgICAgCiAgICAKICAgICAgICAgICAgdmFyIHBvcHVwX2ZjMzg5MGNmOTgxNTQ4OTA5YjM0NDIwMzMzNTVlOTBhID0gTC5wb3B1cCh7bWF4V2lkdGg6ICczMDAnfSk7CgogICAgICAgICAgICAKICAgICAgICAgICAgICAgIHZhciBodG1sX2U5ZDdjYzdiYWFkNTQ1MzhhMzMyYTE3MDZhZWU3ZGMzID0gJCgnPGRpdiBpZD0iaHRtbF9lOWQ3Y2M3YmFhZDU0NTM4YTMzMmExNzA2YWVlN2RjMyIgc3R5bGU9IndpZHRoOiAxMDAuMCU7IGhlaWdodDogMTAwLjAlOyI+Q291bnRyeSA6IFsmIzM5O1N0b2NraG9sbSYjMzk7XSAgIE51bSBvZiByZXNvdXJjZXMgOiBbM10gICBOYW1lcyA6IFsmIzM5O0FsZXhhbmRlciYjMzk7LCAmIzM5O0plbm5pZmVyJiMzOTssICYjMzk7T3R0byYjMzk7XTwvZGl2PicpWzBdOwogICAgICAgICAgICAgICAgcG9wdXBfZmMzODkwY2Y5ODE1NDg5MDliMzQ0MjAzMzM1NWU5MGEuc2V0Q29udGVudChodG1sX2U5ZDdjYzdiYWFkNTQ1MzhhMzMyYTE3MDZhZWU3ZGMzKTsKICAgICAgICAgICAgCgogICAgICAgICAgICBtYXJrZXJfYjQxZmNlNWUyNjJjNDA3YWE4Nzc1OTNmYzFjMmRkNzUuYmluZFBvcHVwKHBvcHVwX2ZjMzg5MGNmOTgxNTQ4OTA5YjM0NDIwMzMzNTVlOTBhKTsKCiAgICAgICAgICAgIAogICAgICAgIAogICAgCgogICAgICAgICAgICB2YXIgbWFya2VyXzQ3MDVlZGU1ZTJlODRjY2ViM2EyZWU5MjE3ZmRkMmViID0gTC5tYXJrZXIoCiAgICAgICAgICAgICAgICBbNTEuNTA3MzIxOSwtMC4xMjc2NDc0XSwKICAgICAgICAgICAgICAgIHsKICAgICAgICAgICAgICAgICAgICBpY29uOiBuZXcgTC5JY29uLkRlZmF1bHQoKQogICAgICAgICAgICAgICAgICAgIH0KICAgICAgICAgICAgICAgICkKICAgICAgICAgICAgICAgIC5hZGRUbyhtYXBfZDQ3ZGUzODg4N2E3NDc5Y2EyMjI1NjczOWZmYTY2YmUpOwogICAgICAgICAgICAKICAgIAoKICAgICAgICAgICAgICAgIHZhciBpY29uXzFhOGEzMDJjMmM0YzQ0MjM5ZGU2MzY1ZTU0NjUxMzY3ID0gTC5Bd2Vzb21lTWFya2Vycy5pY29uKHsKICAgICAgICAgICAgICAgICAgICBpY29uOiAnaW5mby1zaWduJywKICAgICAgICAgICAgICAgICAgICBpY29uQ29sb3I6ICd3aGl0ZScsCiAgICAgICAgICAgICAgICAgICAgbWFya2VyQ29sb3I6ICdibHVlJywKICAgICAgICAgICAgICAgICAgICBwcmVmaXg6ICdnbHlwaGljb24nLAogICAgICAgICAgICAgICAgICAgIGV4dHJhQ2xhc3NlczogJ2ZhLXJvdGF0ZS0wJwogICAgICAgICAgICAgICAgICAgIH0pOwogICAgICAgICAgICAgICAgbWFya2VyXzQ3MDVlZGU1ZTJlODRjY2ViM2EyZWU5MjE3ZmRkMmViLnNldEljb24oaWNvbl8xYThhMzAyYzJjNGM0NDIzOWRlNjM2NWU1NDY1MTM2Nyk7CiAgICAgICAgICAgIAogICAgCiAgICAgICAgICAgIHZhciBwb3B1cF85Mjc1OTNiMmZlMmU0NjdlYTlmNTg5MWZjOWZjYzNlZCA9IEwucG9wdXAoe21heFdpZHRoOiAnMzAwJ30pOwoKICAgICAgICAgICAgCiAgICAgICAgICAgICAgICB2YXIgaHRtbF84OWMyMmU3MTU2ZWI0ZGQyOWU3ZTI4ODNjOWM5NmU3YiA9ICQoJzxkaXYgaWQ9Imh0bWxfODljMjJlNzE1NmViNGRkMjllN2UyODgzYzljOTZlN2IiIHN0eWxlPSJ3aWR0aDogMTAwLjAlOyBoZWlnaHQ6IDEwMC4wJTsiPkNvdW50cnkgOiBbJiMzOTtMb25kb24mIzM5O10gICBOdW0gb2YgcmVzb3VyY2VzIDogWzNdICAgTmFtZXMgOiBbJiMzOTtBbmRlcnMmIzM5OywgJiMzOTtKb2hhbiYjMzk7LCAmIzM5O1BhdWwmIzM5O108L2Rpdj4nKVswXTsKICAgICAgICAgICAgICAgIHBvcHVwXzkyNzU5M2IyZmUyZTQ2N2VhOWY1ODkxZmM5ZmNjM2VkLnNldENvbnRlbnQoaHRtbF84OWMyMmU3MTU2ZWI0ZGQyOWU3ZTI4ODNjOWM5NmU3Yik7CiAgICAgICAgICAgIAoKICAgICAgICAgICAgbWFya2VyXzQ3MDVlZGU1ZTJlODRjY2ViM2EyZWU5MjE3ZmRkMmViLmJpbmRQb3B1cChwb3B1cF85Mjc1OTNiMmZlMmU0NjdlYTlmNTg5MWZjOWZjYzNlZCk7CgogICAgICAgICAgICAKICAgICAgICAKICAgIAoKICAgICAgICAgICAgdmFyIG1hcmtlcl8yMmFlODRhOWI5OTk0NjQyYjcwYzFlMWRhZjdiZGViMiA9IEwubWFya2VyKAogICAgICAgICAgICAgICAgWy0yOC44MTY2MjM2LDI0Ljk5MTYzOV0sCiAgICAgICAgICAgICAgICB7CiAgICAgICAgICAgICAgICAgICAgaWNvbjogbmV3IEwuSWNvbi5EZWZhdWx0KCkKICAgICAgICAgICAgICAgICAgICB9CiAgICAgICAgICAgICAgICApCiAgICAgICAgICAgICAgICAuYWRkVG8obWFwX2Q0N2RlMzg4ODdhNzQ3OWNhMjIyNTY3MzlmZmE2NmJlKTsKICAgICAgICAgICAgCiAgICAKCiAgICAgICAgICAgICAgICB2YXIgaWNvbl9mODhkNTgwMDBkNzk0YzU4OGZjN2FmY2U0MDg5ODdmYyA9IEwuQXdlc29tZU1hcmtlcnMuaWNvbih7CiAgICAgICAgICAgICAgICAgICAgaWNvbjogJ2luZm8tc2lnbicsCiAgICAgICAgICAgICAgICAgICAgaWNvbkNvbG9yOiAnd2hpdGUnLAogICAgICAgICAgICAgICAgICAgIG1hcmtlckNvbG9yOiAnYmx1ZScsCiAgICAgICAgICAgICAgICAgICAgcHJlZml4OiAnZ2x5cGhpY29uJywKICAgICAgICAgICAgICAgICAgICBleHRyYUNsYXNzZXM6ICdmYS1yb3RhdGUtMCcKICAgICAgICAgICAgICAgICAgICB9KTsKICAgICAgICAgICAgICAgIG1hcmtlcl8yMmFlODRhOWI5OTk0NjQyYjcwYzFlMWRhZjdiZGViMi5zZXRJY29uKGljb25fZjg4ZDU4MDAwZDc5NGM1ODhmYzdhZmNlNDA4OTg3ZmMpOwogICAgICAgICAgICAKICAgIAogICAgICAgICAgICB2YXIgcG9wdXBfNjRiOWE0ODMyYzQxNGYzZTlkM2U1YTNjOWUyY2M5N2YgPSBMLnBvcHVwKHttYXhXaWR0aDogJzMwMCd9KTsKCiAgICAgICAgICAgIAogICAgICAgICAgICAgICAgdmFyIGh0bWxfNTNkMTAwZWE3ZjAyNGY2ODhmMmZlN2E5NTBiYjlmNjggPSAkKCc8ZGl2IGlkPSJodG1sXzUzZDEwMGVhN2YwMjRmNjg4ZjJmZTdhOTUwYmI5ZjY4IiBzdHlsZT0id2lkdGg6IDEwMC4wJTsgaGVpZ2h0OiAxMDAuMCU7Ij5Db3VudHJ5IDogWyYjMzk7U291dGggQWZyaWNhJiMzOTtdICAgTnVtIG9mIHJlc291cmNlcyA6IFsxXSAgIE5hbWVzIDogWyYjMzk7UmlrYXJkIEwmIzM5O108L2Rpdj4nKVswXTsKICAgICAgICAgICAgICAgIHBvcHVwXzY0YjlhNDgzMmM0MTRmM2U5ZDNlNWEzYzllMmNjOTdmLnNldENvbnRlbnQoaHRtbF81M2QxMDBlYTdmMDI0ZjY4OGYyZmU3YTk1MGJiOWY2OCk7CiAgICAgICAgICAgIAoKICAgICAgICAgICAgbWFya2VyXzIyYWU4NGE5Yjk5OTQ2NDJiNzBjMWUxZGFmN2JkZWIyLmJpbmRQb3B1cChwb3B1cF82NGI5YTQ4MzJjNDE0ZjNlOWQzZTVhM2M5ZTJjYzk3Zik7CgogICAgICAgICAgICAKICAgICAgICAKICAgIAoKICAgICAgICAgICAgdmFyIG1hcmtlcl80NzJhNTI3OTczMTA0NTQ1YjliYWY0NjNmYzc2NzQwZSA9IEwubWFya2VyKAogICAgICAgICAgICAgICAgWzQ2LjYwMzM1NCwxLjg4ODMzMzVdLAogICAgICAgICAgICAgICAgewogICAgICAgICAgICAgICAgICAgIGljb246IG5ldyBMLkljb24uRGVmYXVsdCgpCiAgICAgICAgICAgICAgICAgICAgfQogICAgICAgICAgICAgICAgKQogICAgICAgICAgICAgICAgLmFkZFRvKG1hcF9kNDdkZTM4ODg3YTc0NzljYTIyMjU2NzM5ZmZhNjZiZSk7CiAgICAgICAgICAgIAogICAgCgogICAgICAgICAgICAgICAgdmFyIGljb25fZGVjMDU0YTExZmU0NDY2MjkyNTQyMjJmMzEwNGJlZGQgPSBMLkF3ZXNvbWVNYXJrZXJzLmljb24oewogICAgICAgICAgICAgICAgICAgIGljb246ICdpbmZvLXNpZ24nLAogICAgICAgICAgICAgICAgICAgIGljb25Db2xvcjogJ3doaXRlJywKICAgICAgICAgICAgICAgICAgICBtYXJrZXJDb2xvcjogJ2JsdWUnLAogICAgICAgICAgICAgICAgICAgIHByZWZpeDogJ2dseXBoaWNvbicsCiAgICAgICAgICAgICAgICAgICAgZXh0cmFDbGFzc2VzOiAnZmEtcm90YXRlLTAnCiAgICAgICAgICAgICAgICAgICAgfSk7CiAgICAgICAgICAgICAgICBtYXJrZXJfNDcyYTUyNzk3MzEwNDU0NWI5YmFmNDYzZmM3Njc0MGUuc2V0SWNvbihpY29uX2RlYzA1NGExMWZlNDQ2NjI5MjU0MjIyZjMxMDRiZWRkKTsKICAgICAgICAgICAgCiAgICAKICAgICAgICAgICAgdmFyIHBvcHVwXzdkNDg2YzZkYWYyODRhNmRiMjdhOGIwZGI2ZGQ3YjBhID0gTC5wb3B1cCh7bWF4V2lkdGg6ICczMDAnfSk7CgogICAgICAgICAgICAKICAgICAgICAgICAgICAgIHZhciBodG1sXzNhNjM1MjE5YzZmODQwMTdhNzVlYmVjZGY3YmJkZGNmID0gJCgnPGRpdiBpZD0iaHRtbF8zYTYzNTIxOWM2Zjg0MDE3YTc1ZWJlY2RmN2JiZGRjZiIgc3R5bGU9IndpZHRoOiAxMDAuMCU7IGhlaWdodDogMTAwLjAlOyI+Q291bnRyeSA6IFsmIzM5O0ZyYW5jZSYjMzk7XSAgIE51bSBvZiByZXNvdXJjZXMgOiBbM10gICBOYW1lcyA6IFsmIzM5O0FydGluJiMzOTssICYjMzk7SnVzdGluJiMzOTssICYjMzk7UmlrYXJkIFMmIzM5O108L2Rpdj4nKVswXTsKICAgICAgICAgICAgICAgIHBvcHVwXzdkNDg2YzZkYWYyODRhNmRiMjdhOGIwZGI2ZGQ3YjBhLnNldENvbnRlbnQoaHRtbF8zYTYzNTIxOWM2Zjg0MDE3YTc1ZWJlY2RmN2JiZGRjZik7CiAgICAgICAgICAgIAoKICAgICAgICAgICAgbWFya2VyXzQ3MmE1Mjc5NzMxMDQ1NDViOWJhZjQ2M2ZjNzY3NDBlLmJpbmRQb3B1cChwb3B1cF83ZDQ4NmM2ZGFmMjg0YTZkYjI3YThiMGRiNmRkN2IwYSk7CgogICAgICAgICAgICAKICAgICAgICAKICAgIAoKICAgICAgICAgICAgdmFyIG1hcmtlcl9jNTkxODNmMzc5MTY0NTBkYTU4MzhiMjcwZWRmMjA0ZSA9IEwubWFya2VyKAogICAgICAgICAgICAgICAgWzQyLjYzODQyNjEsMTIuNjc0Mjk3XSwKICAgICAgICAgICAgICAgIHsKICAgICAgICAgICAgICAgICAgICBpY29uOiBuZXcgTC5JY29uLkRlZmF1bHQoKQogICAgICAgICAgICAgICAgICAgIH0KICAgICAgICAgICAgICAgICkKICAgICAgICAgICAgICAgIC5hZGRUbyhtYXBfZDQ3ZGUzODg4N2E3NDc5Y2EyMjI1NjczOWZmYTY2YmUpOwogICAgICAgICAgICAKICAgIAoKICAgICAgICAgICAgICAgIHZhciBpY29uXzZkOWZlMTE0YWZhZDRiZjg4MWJlMmJmNjNkZjg2ZTA1ID0gTC5Bd2Vzb21lTWFya2Vycy5pY29uKHsKICAgICAgICAgICAgICAgICAgICBpY29uOiAnaW5mby1zaWduJywKICAgICAgICAgICAgICAgICAgICBpY29uQ29sb3I6ICd3aGl0ZScsCiAgICAgICAgICAgICAgICAgICAgbWFya2VyQ29sb3I6ICdibHVlJywKICAgICAgICAgICAgICAgICAgICBwcmVmaXg6ICdnbHlwaGljb24nLAogICAgICAgICAgICAgICAgICAgIGV4dHJhQ2xhc3NlczogJ2ZhLXJvdGF0ZS0wJwogICAgICAgICAgICAgICAgICAgIH0pOwogICAgICAgICAgICAgICAgbWFya2VyX2M1OTE4M2YzNzkxNjQ1MGRhNTgzOGIyNzBlZGYyMDRlLnNldEljb24oaWNvbl82ZDlmZTExNGFmYWQ0YmY4ODFiZTJiZjYzZGY4NmUwNSk7CiAgICAgICAgICAgIAogICAgCiAgICAgICAgICAgIHZhciBwb3B1cF9jNmMyMzJiZjFiMDY0OGZmYWI5NmRmMjQ1MDkwNzViYiA9IEwucG9wdXAoe21heFdpZHRoOiAnMzAwJ30pOwoKICAgICAgICAgICAgCiAgICAgICAgICAgICAgICB2YXIgaHRtbF9jNDI0YmNmODczYTQ0ZWI3OTRkNGZjYjE5OTQ3ZDQ1OSA9ICQoJzxkaXYgaWQ9Imh0bWxfYzQyNGJjZjg3M2E0NGViNzk0ZDRmY2IxOTk0N2Q0NTkiIHN0eWxlPSJ3aWR0aDogMTAwLjAlOyBoZWlnaHQ6IDEwMC4wJTsiPkNvdW50cnkgOiBbJiMzOTtJdGFseSYjMzk7XSAgIE51bSBvZiByZXNvdXJjZXMgOiBbM10gICBOYW1lcyA6IFsmIzM5O0F4ZWwmIzM5OywgJiMzOTtLcmlzdGluJiMzOTssICYjMzk7U2FtdWVsJiMzOTtdPC9kaXY+JylbMF07CiAgICAgICAgICAgICAgICBwb3B1cF9jNmMyMzJiZjFiMDY0OGZmYWI5NmRmMjQ1MDkwNzViYi5zZXRDb250ZW50KGh0bWxfYzQyNGJjZjg3M2E0NGViNzk0ZDRmY2IxOTk0N2Q0NTkpOwogICAgICAgICAgICAKCiAgICAgICAgICAgIG1hcmtlcl9jNTkxODNmMzc5MTY0NTBkYTU4MzhiMjcwZWRmMjA0ZS5iaW5kUG9wdXAocG9wdXBfYzZjMjMyYmYxYjA2NDhmZmFiOTZkZjI0NTA5MDc1YmIpOwoKICAgICAgICAgICAgCiAgICAgICAgCiAgICAKCiAgICAgICAgICAgIHZhciBtYXJrZXJfZTMyYjM1ZjJhZDEwNDYxNWJhNTA1ZjFhZjljMzM5YzYgPSBMLm1hcmtlcigKICAgICAgICAgICAgICAgIFstMjQuNzc2MTA4NiwxMzQuNzU1XSwKICAgICAgICAgICAgICAgIHsKICAgICAgICAgICAgICAgICAgICBpY29uOiBuZXcgTC5JY29uLkRlZmF1bHQoKQogICAgICAgICAgICAgICAgICAgIH0KICAgICAgICAgICAgICAgICkKICAgICAgICAgICAgICAgIC5hZGRUbyhtYXBfZDQ3ZGUzODg4N2E3NDc5Y2EyMjI1NjczOWZmYTY2YmUpOwogICAgICAgICAgICAKICAgIAoKICAgICAgICAgICAgICAgIHZhciBpY29uXzUwM2U0N2Y4YjEwYTQyNTc4MDJlZDA5YWYwNjQ1ZjBmID0gTC5Bd2Vzb21lTWFya2Vycy5pY29uKHsKICAgICAgICAgICAgICAgICAgICBpY29uOiAnaW5mby1zaWduJywKICAgICAgICAgICAgICAgICAgICBpY29uQ29sb3I6ICd3aGl0ZScsCiAgICAgICAgICAgICAgICAgICAgbWFya2VyQ29sb3I6ICdibHVlJywKICAgICAgICAgICAgICAgICAgICBwcmVmaXg6ICdnbHlwaGljb24nLAogICAgICAgICAgICAgICAgICAgIGV4dHJhQ2xhc3NlczogJ2ZhLXJvdGF0ZS0wJwogICAgICAgICAgICAgICAgICAgIH0pOwogICAgICAgICAgICAgICAgbWFya2VyX2UzMmIzNWYyYWQxMDQ2MTViYTUwNWYxYWY5YzMzOWM2LnNldEljb24oaWNvbl81MDNlNDdmOGIxMGE0MjU3ODAyZWQwOWFmMDY0NWYwZik7CiAgICAgICAgICAgIAogICAgCiAgICAgICAgICAgIHZhciBwb3B1cF85MGE3N2QxNDY5OTU0Y2Y3YmUwYTI4NTBhYmM3ZDg0NCA9IEwucG9wdXAoe21heFdpZHRoOiAnMzAwJ30pOwoKICAgICAgICAgICAgCiAgICAgICAgICAgICAgICB2YXIgaHRtbF84MGQ3YmU0OTA5M2Q0YjNhYjIxOTEyODdiOTU2M2VmZSA9ICQoJzxkaXYgaWQ9Imh0bWxfODBkN2JlNDkwOTNkNGIzYWIyMTkxMjg3Yjk1NjNlZmUiIHN0eWxlPSJ3aWR0aDogMTAwLjAlOyBoZWlnaHQ6IDEwMC4wJTsiPkNvdW50cnkgOiBbJiMzOTtBdXN0cmFsaWEmIzM5O10gICBOdW0gb2YgcmVzb3VyY2VzIDogWzFdICAgTmFtZXMgOiBbJiMzOTtTYXJhIEgmIzM5O108L2Rpdj4nKVswXTsKICAgICAgICAgICAgICAgIHBvcHVwXzkwYTc3ZDE0Njk5NTRjZjdiZTBhMjg1MGFiYzdkODQ0LnNldENvbnRlbnQoaHRtbF84MGQ3YmU0OTA5M2Q0YjNhYjIxOTEyODdiOTU2M2VmZSk7CiAgICAgICAgICAgIAoKICAgICAgICAgICAgbWFya2VyX2UzMmIzNWYyYWQxMDQ2MTViYTUwNWYxYWY5YzMzOWM2LmJpbmRQb3B1cChwb3B1cF85MGE3N2QxNDY5OTU0Y2Y3YmUwYTI4NTBhYmM3ZDg0NCk7CgogICAgICAgICAgICAKICAgICAgICAKICAgIAoKICAgICAgICAgICAgdmFyIG1hcmtlcl9hMmE2ZWVjYjY1MTY0M2FhYmNjMWJhNDMxMzExNmRkMyA9IEwubWFya2VyKAogICAgICAgICAgICAgICAgWzM5Ljc4MzczMDQsLTEwMC40NDU4ODI1XSwKICAgICAgICAgICAgICAgIHsKICAgICAgICAgICAgICAgICAgICBpY29uOiBuZXcgTC5JY29uLkRlZmF1bHQoKQogICAgICAgICAgICAgICAgICAgIH0KICAgICAgICAgICAgICAgICkKICAgICAgICAgICAgICAgIC5hZGRUbyhtYXBfZDQ3ZGUzODg4N2E3NDc5Y2EyMjI1NjczOWZmYTY2YmUpOwogICAgICAgICAgICAKICAgIAoKICAgICAgICAgICAgICAgIHZhciBpY29uXzdhMzE3ODI0ZTYxNzQ5ZThiMDZkY2QzODcxNTVkMGJjID0gTC5Bd2Vzb21lTWFya2Vycy5pY29uKHsKICAgICAgICAgICAgICAgICAgICBpY29uOiAnaW5mby1zaWduJywKICAgICAgICAgICAgICAgICAgICBpY29uQ29sb3I6ICd3aGl0ZScsCiAgICAgICAgICAgICAgICAgICAgbWFya2VyQ29sb3I6ICdibHVlJywKICAgICAgICAgICAgICAgICAgICBwcmVmaXg6ICdnbHlwaGljb24nLAogICAgICAgICAgICAgICAgICAgIGV4dHJhQ2xhc3NlczogJ2ZhLXJvdGF0ZS0wJwogICAgICAgICAgICAgICAgICAgIH0pOwogICAgICAgICAgICAgICAgbWFya2VyX2EyYTZlZWNiNjUxNjQzYWFiY2MxYmE0MzEzMTE2ZGQzLnNldEljb24oaWNvbl83YTMxNzgyNGU2MTc0OWU4YjA2ZGNkMzg3MTU1ZDBiYyk7CiAgICAgICAgICAgIAogICAgCiAgICAgICAgICAgIHZhciBwb3B1cF80M2ZiZDQ1Y2U0OTY0NjkwOTJiM2M4NDFiNzVhM2I1YiA9IEwucG9wdXAoe21heFdpZHRoOiAnMzAwJ30pOwoKICAgICAgICAgICAgCiAgICAgICAgICAgICAgICB2YXIgaHRtbF82NGNmNTg1OTMzYTM0M2FiOTFkNDgzY2NiN2E2YjRjYSA9ICQoJzxkaXYgaWQ9Imh0bWxfNjRjZjU4NTkzM2EzNDNhYjkxZDQ4M2NjYjdhNmI0Y2EiIHN0eWxlPSJ3aWR0aDogMTAwLjAlOyBoZWlnaHQ6IDEwMC4wJTsiPkNvdW50cnkgOiBbJiMzOTtVU0EmIzM5O10gICBOdW0gb2YgcmVzb3VyY2VzIDogWzNdICAgTmFtZXMgOiBbJiMzOTtFbWVsaWUmIzM5OywgJiMzOTtNaWtrbyYjMzk7LCAmIzM5O1NhcmEgSiYjMzk7XTwvZGl2PicpWzBdOwogICAgICAgICAgICAgICAgcG9wdXBfNDNmYmQ0NWNlNDk2NDY5MDkyYjNjODQxYjc1YTNiNWIuc2V0Q29udGVudChodG1sXzY0Y2Y1ODU5MzNhMzQzYWI5MWQ0ODNjY2I3YTZiNGNhKTsKICAgICAgICAgICAgCgogICAgICAgICAgICBtYXJrZXJfYTJhNmVlY2I2NTE2NDNhYWJjYzFiYTQzMTMxMTZkZDMuYmluZFBvcHVwKHBvcHVwXzQzZmJkNDVjZTQ5NjQ2OTA5MmIzYzg0MWI3NWEzYjViKTsKCiAgICAgICAgICAgIAogICAgICAgIAogICAgCgogICAgICAgICAgICB2YXIgbWFya2VyXzM0NTM4M2Y3M2Y4MzQ3OWM4MjQxMjRiMTg4NjUxMzQxID0gTC5tYXJrZXIoCiAgICAgICAgICAgICAgICBbNjQuNjg2MzEzNiw5Ny43NDUzMDYxXSwKICAgICAgICAgICAgICAgIHsKICAgICAgICAgICAgICAgICAgICBpY29uOiBuZXcgTC5JY29uLkRlZmF1bHQoKQogICAgICAgICAgICAgICAgICAgIH0KICAgICAgICAgICAgICAgICkKICAgICAgICAgICAgICAgIC5hZGRUbyhtYXBfZDQ3ZGUzODg4N2E3NDc5Y2EyMjI1NjczOWZmYTY2YmUpOwogICAgICAgICAgICAKICAgIAoKICAgICAgICAgICAgICAgIHZhciBpY29uXzc5OGNiMWY3M2VlMDQ0ZTM4MWM1MmYxNjliM2VmNWRkID0gTC5Bd2Vzb21lTWFya2Vycy5pY29uKHsKICAgICAgICAgICAgICAgICAgICBpY29uOiAnaW5mby1zaWduJywKICAgICAgICAgICAgICAgICAgICBpY29uQ29sb3I6ICd3aGl0ZScsCiAgICAgICAgICAgICAgICAgICAgbWFya2VyQ29sb3I6ICdibHVlJywKICAgICAgICAgICAgICAgICAgICBwcmVmaXg6ICdnbHlwaGljb24nLAogICAgICAgICAgICAgICAgICAgIGV4dHJhQ2xhc3NlczogJ2ZhLXJvdGF0ZS0wJwogICAgICAgICAgICAgICAgICAgIH0pOwogICAgICAgICAgICAgICAgbWFya2VyXzM0NTM4M2Y3M2Y4MzQ3OWM4MjQxMjRiMTg4NjUxMzQxLnNldEljb24oaWNvbl83OThjYjFmNzNlZTA0NGUzODFjNTJmMTY5YjNlZjVkZCk7CiAgICAgICAgICAgIAogICAgCiAgICAgICAgICAgIHZhciBwb3B1cF85MDM3MjEwNGNhYjc0NjIyYmI5MDBjZjQwOGU2ZGJiMiA9IEwucG9wdXAoe21heFdpZHRoOiAnMzAwJ30pOwoKICAgICAgICAgICAgCiAgICAgICAgICAgICAgICB2YXIgaHRtbF8zZTBiMGE2MzEwYjc0YzIxYWM5OGI5NDg4MTdlNjUwYiA9ICQoJzxkaXYgaWQ9Imh0bWxfM2UwYjBhNjMxMGI3NGMyMWFjOThiOTQ4ODE3ZTY1MGIiIHN0eWxlPSJ3aWR0aDogMTAwLjAlOyBoZWlnaHQ6IDEwMC4wJTsiPkNvdW50cnkgOiBbJiMzOTtSdXNzaWEmIzM5O10gICBOdW0gb2YgcmVzb3VyY2VzIDogWzNdICAgTmFtZXMgOiBbJiMzOTtFbWlsJiMzOTssICYjMzk7T2xsZSYjMzk7LCAmIzM5O1NlYW4gQiYjMzk7XTwvZGl2PicpWzBdOwogICAgICAgICAgICAgICAgcG9wdXBfOTAzNzIxMDRjYWI3NDYyMmJiOTAwY2Y0MDhlNmRiYjIuc2V0Q29udGVudChodG1sXzNlMGIwYTYzMTBiNzRjMjFhYzk4Yjk0ODgxN2U2NTBiKTsKICAgICAgICAgICAgCgogICAgICAgICAgICBtYXJrZXJfMzQ1MzgzZjczZjgzNDc5YzgyNDEyNGIxODg2NTEzNDEuYmluZFBvcHVwKHBvcHVwXzkwMzcyMTA0Y2FiNzQ2MjJiYjkwMGNmNDA4ZTZkYmIyKTsKCiAgICAgICAgICAgIAogICAgICAgIAogICAgCgogICAgICAgICAgICB2YXIgbWFya2VyX2MxOTc3MmQ3Nzc3YTQwN2Q5ZDY2ZGFmMzNkMTM0NDgzID0gTC5tYXJrZXIoCiAgICAgICAgICAgICAgICBbNTUuNjcwMjQ5LDEwLjMzMzMyODNdLAogICAgICAgICAgICAgICAgewogICAgICAgICAgICAgICAgICAgIGljb246IG5ldyBMLkljb24uRGVmYXVsdCgpCiAgICAgICAgICAgICAgICAgICAgfQogICAgICAgICAgICAgICAgKQogICAgICAgICAgICAgICAgLmFkZFRvKG1hcF9kNDdkZTM4ODg3YTc0NzljYTIyMjU2NzM5ZmZhNjZiZSk7CiAgICAgICAgICAgIAogICAgCgogICAgICAgICAgICAgICAgdmFyIGljb25fMzVlMjBhYzBmZWY1NDEwYzg2MjZhMTk3NjVmYjljMzcgPSBMLkF3ZXNvbWVNYXJrZXJzLmljb24oewogICAgICAgICAgICAgICAgICAgIGljb246ICdpbmZvLXNpZ24nLAogICAgICAgICAgICAgICAgICAgIGljb25Db2xvcjogJ3doaXRlJywKICAgICAgICAgICAgICAgICAgICBtYXJrZXJDb2xvcjogJ2JsdWUnLAogICAgICAgICAgICAgICAgICAgIHByZWZpeDogJ2dseXBoaWNvbicsCiAgICAgICAgICAgICAgICAgICAgZXh0cmFDbGFzc2VzOiAnZmEtcm90YXRlLTAnCiAgICAgICAgICAgICAgICAgICAgfSk7CiAgICAgICAgICAgICAgICBtYXJrZXJfYzE5NzcyZDc3NzdhNDA3ZDlkNjZkYWYzM2QxMzQ0ODMuc2V0SWNvbihpY29uXzM1ZTIwYWMwZmVmNTQxMGM4NjI2YTE5NzY1ZmI5YzM3KTsKICAgICAgICAgICAgCiAgICAKICAgICAgICAgICAgdmFyIHBvcHVwXzc4NDQ0YTAyOGRjNTQxNGE5YjJmNTFlNGYyN2Q3NDg5ID0gTC5wb3B1cCh7bWF4V2lkdGg6ICczMDAnfSk7CgogICAgICAgICAgICAKICAgICAgICAgICAgICAgIHZhciBodG1sXzBlZTNiMmQyMjg3MjQ0M2JiZWY1YmQxOWIxMDVjMTBkID0gJCgnPGRpdiBpZD0iaHRtbF8wZWUzYjJkMjI4NzI0NDNiYmVmNWJkMTliMTA1YzEwZCIgc3R5bGU9IndpZHRoOiAxMDAuMCU7IGhlaWdodDogMTAwLjAlOyI+Q291bnRyeSA6IFsmIzM5O0Rlbm1hcmsmIzM5O10gICBOdW0gb2YgcmVzb3VyY2VzIDogWzNdICAgTmFtZXMgOiBbJiMzOTtFcmlrIEgmIzM5OywgJiMzOTtPbWFyJiMzOTssICYjMzk7U29maWEmIzM5O108L2Rpdj4nKVswXTsKICAgICAgICAgICAgICAgIHBvcHVwXzc4NDQ0YTAyOGRjNTQxNGE5YjJmNTFlNGYyN2Q3NDg5LnNldENvbnRlbnQoaHRtbF8wZWUzYjJkMjI4NzI0NDNiYmVmNWJkMTliMTA1YzEwZCk7CiAgICAgICAgICAgIAoKICAgICAgICAgICAgbWFya2VyX2MxOTc3MmQ3Nzc3YTQwN2Q5ZDY2ZGFmMzNkMTM0NDgzLmJpbmRQb3B1cChwb3B1cF83ODQ0NGEwMjhkYzU0MTRhOWIyZjUxZTRmMjdkNzQ4OSk7CgogICAgICAgICAgICAKICAgICAgICAKICAgIAogICAgICAgICAgICAgICAgCgogICAgICAgICAgICAgICAgbWFwX2Q0N2RlMzg4ODdhNzQ3OWNhMjIyNTY3MzlmZmE2NmJlLmZpdEJvdW5kcygKICAgICAgICAgICAgICAgICAgICBbWy0yOC44MTY2MjM2LCAtMTAwLjQ0NTg4MjVdLCBbNjQuNjg2MzEzNiwgMTM0Ljc1NV1dLAogICAgICAgICAgICAgICAgICAgIHt9CiAgICAgICAgICAgICAgICAgICAgKTsKICAgICAgICAgICAgCjwvc2NyaXB0Pg==\" style=\"position:absolute;width:100%;height:100%;left:0;top:0;border:none !important;\" allowfullscreen webkitallowfullscreen mozallowfullscreen></iframe></div></div>"
      ],
      "text/plain": [
       "<folium.folium.Map at 0x1322ff60>"
      ]
     },
     "execution_count": 16,
     "metadata": {},
     "output_type": "execute_result"
    }
   ],
   "source": [
    "PlotPoint(new_df_beach, 'Location', 'Name')\n"
   ]
  },
  {
   "cell_type": "markdown",
   "metadata": {},
   "source": [
    "## Appex"
   ]
  },
  {
   "cell_type": "code",
   "execution_count": 17,
   "metadata": {},
   "outputs": [],
   "source": [
    "#df_location = pd.DataFrame(list(new_df_beach.groupby(['Location']).Location))\n",
    "#df_location.set_index(df_location[0], inplace=True)\n",
    "#np.array(list(zip(*new_df_beach.groupby(['Location', 'Name']).Location)))[0]\n",
    "#new_df_beach['Location_eql_sthlm'] = np.where(new_df_beach['Location']==\"Stockholm\", True, False)"
   ]
  },
  {
   "cell_type": "markdown",
   "metadata": {},
   "source": [
    "###  - Beach resources visualization: GeoMap"
   ]
  },
  {
   "cell_type": "code",
   "execution_count": 30,
   "metadata": {
    "scrolled": false
   },
   "outputs": [
    {
     "name": "stderr",
     "output_type": "stream",
     "text": [
      "c:\\users\\omar.hazim\\appdata\\local\\programs\\python\\python35\\lib\\site-packages\\ipykernel_launcher.py:19: FutureWarning:\n",
      "\n",
      "'Name' is both a column name and an index level.\n",
      "Defaulting to column but this will raise an ambiguity error in a future version\n",
      "\n"
     ]
    },
    {
     "data": {
      "text/html": [
       "<iframe id=\"igraph\" scrolling=\"no\" style=\"border:none;\" seamless=\"seamless\" src=\"https://plot.ly/~omar.hazim/4.embed\" height=\"525px\" width=\"100%\"></iframe>"
      ],
      "text/plain": [
       "<plotly.tools.PlotlyDisplay object>"
      ]
     },
     "execution_count": 30,
     "metadata": {},
     "output_type": "execute_result"
    }
   ],
   "source": [
    "############################ Plotting using Plotly & Dash ##########################################\n",
    "## Running credentials \n",
    "plotly.tools.set_credentials_file(username='omar.hazim', api_key='UnoUlwMh8vwec5ezDXzB')\n",
    "mapbox_access_token = 'pk.eyJ1Ijoib21hcmhhemltIiwiYSI6ImNqY2s5cHk3MzNyZDEycm1tanV6c3pzdGUifQ.hLOK6z98WohsI19MmNBiHw'\n",
    "\n",
    "## Converting location colunms to a cooredinations figures\n",
    "geolocator = Nominatim()\n",
    "Lat = list(itertools.chain(new_df_beach['Location'].apply(lambda x: geolocator.geocode(x, timeout=15).latitude)))\n",
    "Long = list(itertools.chain(new_df_beach['Location'].apply(lambda x: [geolocator.geocode(x, timeout=15).longitude])))\n",
    "cities = list(itertools.chain(new_df_beach['Location'].values))\n",
    "info_0 = list(itertools.chain(\n",
    "    new_df_beach['Location'])) #+' '+\n",
    "    #new_df_beach['Name'] +' '+\n",
    "    #new_df_beach['Beach'] +' '+  \n",
    "    #new_df_beach['Deadline/End date'].astype(str))) \n",
    "info_1 = new_df_beach['Location'].apply(lambda i: poptext_2(new_df_beach, 'Location', 'Name', i))\n",
    "\n",
    "## Map all coordinations\n",
    "data_beach = Data([ \n",
    "    Scattermapbox(\n",
    "        lat=Lat,\n",
    "        lon=Long,\n",
    "        \n",
    "        mode='markers',\n",
    "        marker=Marker(\n",
    "            size=14\n",
    "        ),\n",
    "       text = info_1,\n",
    "    )\n",
    "])\n",
    "\n",
    "layout_beach = Layout(\n",
    "    autosize=True,\n",
    "    hovermode='closest',\n",
    "    mapbox=dict(\n",
    "        accesstoken=mapbox_access_token,\n",
    "        bearing=0,\n",
    "        center=dict(\n",
    "            lat=Lat,\n",
    "            lon=Long\n",
    "        ),\n",
    "        pitch=0,\n",
    "        zoom=0.5\n",
    "    ),\n",
    ")\n",
    "\n",
    "fig_beach = dict(data=data_beach, layout=layout_beach)\n",
    "py.iplot(fig_beach, filename='Beach Resources Mapbox')\n"
   ]
  },
  {
   "cell_type": "code",
   "execution_count": null,
   "metadata": {},
   "outputs": [],
   "source": []
  },
  {
   "cell_type": "code",
   "execution_count": 24,
   "metadata": {},
   "outputs": [],
   "source": []
  },
  {
   "cell_type": "code",
   "execution_count": 26,
   "metadata": {
    "scrolled": true
   },
   "outputs": [
    {
     "data": {
      "text/plain": [
       "dict_values([2, 1])"
      ]
     },
     "execution_count": 26,
     "metadata": {},
     "output_type": "execute_result"
    }
   ],
   "source": []
  },
  {
   "cell_type": "code",
   "execution_count": null,
   "metadata": {},
   "outputs": [],
   "source": []
  },
  {
   "cell_type": "code",
   "execution_count": null,
   "metadata": {},
   "outputs": [],
   "source": []
  },
  {
   "cell_type": "code",
   "execution_count": null,
   "metadata": {},
   "outputs": [],
   "source": []
  }
 ],
 "metadata": {
  "kernelspec": {
   "display_name": "Python 3",
   "language": "python",
   "name": "python3"
  },
  "language_info": {
   "codemirror_mode": {
    "name": "ipython",
    "version": 3
   },
   "file_extension": ".py",
   "mimetype": "text/x-python",
   "name": "python",
   "nbconvert_exporter": "python",
   "pygments_lexer": "ipython3",
   "version": "3.5.3"
  }
 },
 "nbformat": 4,
 "nbformat_minor": 2
}
