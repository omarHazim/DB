{
 "cells": [
  {
   "cell_type": "markdown",
   "metadata": {},
   "source": [
    "# Beach Resources OW VisTool/STHLM office"
   ]
  },
  {
   "cell_type": "code",
   "execution_count": 1,
   "metadata": {},
   "outputs": [],
   "source": [
    "## set up Dash with classes for all of the visual components of the application\n",
    "import pandas as pd\n",
    "import numpy as np\n",
    "import matplotlib.pyplot as plt\n",
    "from bokeh.io import output_notebook, show\n",
    "from bokeh.plotting import figure, output_file, show\n",
    "from bokeh.models import ColumnDataSource\n",
    "from geopy.geocoders import Nominatim \n",
    "import folium\n",
    "from itertools import count\n",
    "from datetime import datetime\n",
    "import itertools\n",
    "import plotly \n",
    "import plotly.plotly as py\n",
    "from plotly.graph_objs import *\n",
    "\n",
    "#output_notebook() ## run all polts within jopyter notebook "
   ]
  },
  {
   "cell_type": "code",
   "execution_count": 2,
   "metadata": {
    "scrolled": false
   },
   "outputs": [
    {
     "data": {
      "text/html": [
       "<div>\n",
       "<style>\n",
       "    .dataframe thead tr:only-child th {\n",
       "        text-align: right;\n",
       "    }\n",
       "\n",
       "    .dataframe thead th {\n",
       "        text-align: left;\n",
       "    }\n",
       "\n",
       "    .dataframe tbody tr th {\n",
       "        vertical-align: top;\n",
       "    }\n",
       "</style>\n",
       "<table border=\"1\" class=\"dataframe\">\n",
       "  <thead>\n",
       "    <tr style=\"text-align: right;\">\n",
       "      <th></th>\n",
       "      <th>Name</th>\n",
       "      <th>Beach</th>\n",
       "      <th>Location</th>\n",
       "      <th>Responsible</th>\n",
       "      <th>Case code</th>\n",
       "      <th>Priority</th>\n",
       "      <th>Client</th>\n",
       "      <th>Project</th>\n",
       "      <th>Deadline/End date</th>\n",
       "      <th>Days until DL</th>\n",
       "      <th>Status</th>\n",
       "      <th>Comment</th>\n",
       "    </tr>\n",
       "    <tr>\n",
       "      <th>Name</th>\n",
       "      <th></th>\n",
       "      <th></th>\n",
       "      <th></th>\n",
       "      <th></th>\n",
       "      <th></th>\n",
       "      <th></th>\n",
       "      <th></th>\n",
       "      <th></th>\n",
       "      <th></th>\n",
       "      <th></th>\n",
       "      <th></th>\n",
       "      <th></th>\n",
       "    </tr>\n",
       "  </thead>\n",
       "  <tbody>\n",
       "    <tr>\n",
       "      <th>Alexander</th>\n",
       "      <td>Alexander</td>\n",
       "      <td>yes</td>\n",
       "      <td>Stockholm</td>\n",
       "      <td>NaN</td>\n",
       "      <td>Carl - FSP31001</td>\n",
       "      <td>Internal - Firm building</td>\n",
       "      <td>Bank A</td>\n",
       "      <td>NaN</td>\n",
       "      <td>2018-04-14</td>\n",
       "      <td>85</td>\n",
       "      <td>Ongoing</td>\n",
       "      <td>NaN</td>\n",
       "    </tr>\n",
       "    <tr>\n",
       "      <th>Anders</th>\n",
       "      <td>Anders</td>\n",
       "      <td>yes</td>\n",
       "      <td>London</td>\n",
       "      <td>NaN</td>\n",
       "      <td>Sean - FSP03201</td>\n",
       "      <td>Internal - Business development</td>\n",
       "      <td>Bank B</td>\n",
       "      <td>NaN</td>\n",
       "      <td>2018-04-14</td>\n",
       "      <td>85</td>\n",
       "      <td>Ongoing</td>\n",
       "      <td>NaN</td>\n",
       "    </tr>\n",
       "    <tr>\n",
       "      <th>Andreas</th>\n",
       "      <td>Andreas</td>\n",
       "      <td>yes</td>\n",
       "      <td>Germany</td>\n",
       "      <td>NaN</td>\n",
       "      <td>Bo - N/A</td>\n",
       "      <td>Project - Soft start</td>\n",
       "      <td>Bank A</td>\n",
       "      <td>NaN</td>\n",
       "      <td>2018-04-14</td>\n",
       "      <td>85</td>\n",
       "      <td>Ongoing</td>\n",
       "      <td>NaN</td>\n",
       "    </tr>\n",
       "    <tr>\n",
       "      <th>Artin</th>\n",
       "      <td>Artin</td>\n",
       "      <td>no</td>\n",
       "      <td>France</td>\n",
       "      <td>NaN</td>\n",
       "      <td>Nader - FSP11101</td>\n",
       "      <td>Project - Delivery risk / WLB</td>\n",
       "      <td>Bank B</td>\n",
       "      <td>NaN</td>\n",
       "      <td>2018-04-14</td>\n",
       "      <td>85</td>\n",
       "      <td>NaN</td>\n",
       "      <td>NaN</td>\n",
       "    </tr>\n",
       "    <tr>\n",
       "      <th>Axel</th>\n",
       "      <td>Axel</td>\n",
       "      <td>yes</td>\n",
       "      <td>Italy</td>\n",
       "      <td>NaN</td>\n",
       "      <td>Martin - FSP32601</td>\n",
       "      <td>Project - General help</td>\n",
       "      <td>Bank A</td>\n",
       "      <td>NaN</td>\n",
       "      <td>2018-04-14</td>\n",
       "      <td>85</td>\n",
       "      <td>Ongoing</td>\n",
       "      <td>NaN</td>\n",
       "    </tr>\n",
       "  </tbody>\n",
       "</table>\n",
       "</div>"
      ],
      "text/plain": [
       "                Name Beach   Location  Responsible          Case code  \\\n",
       "Name                                                                    \n",
       "Alexander  Alexander  yes   Stockholm          NaN    Carl - FSP31001   \n",
       "Anders        Anders  yes      London          NaN    Sean - FSP03201   \n",
       "Andreas      Andreas  yes     Germany          NaN           Bo - N/A   \n",
       "Artin          Artin    no     France          NaN   Nader - FSP11101   \n",
       "Axel            Axel  yes       Italy          NaN  Martin - FSP32601   \n",
       "\n",
       "                                  Priority  Client  Project Deadline/End date  \\\n",
       "Name                                                                            \n",
       "Alexander         Internal - Firm building  Bank A      NaN        2018-04-14   \n",
       "Anders     Internal - Business development  Bank B      NaN        2018-04-14   \n",
       "Andreas               Project - Soft start  Bank A      NaN        2018-04-14   \n",
       "Artin        Project - Delivery risk / WLB  Bank B      NaN        2018-04-14   \n",
       "Axel                Project - General help  Bank A      NaN        2018-04-14   \n",
       "\n",
       "           Days until DL   Status  Comment  \n",
       "Name                                        \n",
       "Alexander             85  Ongoing      NaN  \n",
       "Anders                85  Ongoing      NaN  \n",
       "Andreas               85  Ongoing      NaN  \n",
       "Artin                 85      NaN      NaN  \n",
       "Axel                  85  Ongoing      NaN  "
      ]
     },
     "execution_count": 2,
     "metadata": {},
     "output_type": "execute_result"
    }
   ],
   "source": [
    "# Reading '.xlsx' file \n",
    "def import_excel(xlxs_file, sheet_num,sheet_idx=False):\n",
    "    xlsx = pd.ExcelFile(xlxs_file)\n",
    "    sheet1 = xlsx.parse(sheet_num)\n",
    "    if sheet_idx:\n",
    "        sheet1.index = sheet1['Name']\n",
    "        new_df_beach_0 = sheet1.iloc[:]\n",
    "        return new_df_beach_0\n",
    "    else:\n",
    "        new_df_beach_0 = sheet1.iloc[:]\n",
    "        return new_df_beach_0\n",
    "\n",
    "new_df_beach = import_excel(\n",
    "    r'C:\\Users\\omar.hazim\\Desktop\\Copy of Beach Work HTMLversion.xlsx', sheet_num=0, sheet_idx=True\n",
    ") #, sheet_idx='Name'\n",
    "new_df_beach.head()"
   ]
  },
  {
   "cell_type": "code",
   "execution_count": 3,
   "metadata": {
    "scrolled": true
   },
   "outputs": [
    {
     "name": "stderr",
     "output_type": "stream",
     "text": [
      "c:\\users\\omar.hazim\\appdata\\local\\programs\\python\\python35\\lib\\site-packages\\ipykernel_launcher.py:9: FutureWarning:\n",
      "\n",
      "'Name' is both a column name and an index level.\n",
      "Defaulting to column but this will raise an ambiguity error in a future version\n",
      "\n"
     ]
    }
   ],
   "source": [
    "# Building a pivot table to plot the beach resources\n",
    "#new_df_beach['Deadline/End date'].value_counts()\n",
    "#\n",
    "## 1D counting given one feature to DF\n",
    "uniq, count = np.unique(new_df_beach['Priority'], return_counts=True)\n",
    "_1D_count = dict(zip(uniq, count))\n",
    "\n",
    "## 2D counting given 2 features to DF\n",
    "df_grop = new_df_beach.groupby(['Beach','Deadline/End date', 'Name'])\n",
    "#list(zip(*df_grop)).sum()\n",
    "plt_df = df_grop.count()\n",
    "new_plt_df = pd.DataFrame(np.array(list(zip(*df_grop.Beach))[0]), columns=['Beach','Deadline/End date', 'Name'])\n",
    "#pd.to_datetime(new_plt_df[1])\n",
    "new_plt_df.replace(pd.to_datetime(new_plt_df['Deadline/End date'], format='%Y%m%d'), new_df_beach['Deadline/End date'])\n",
    "#plt.bar(x=plt_df['Days until DL'], y=plt_df['Deadline/End date'])\n",
    "counts = new_plt_df['Deadline/End date'].value_counts()\n",
    "beach = new_plt_df['Beach'].value_counts()"
   ]
  },
  {
   "cell_type": "code",
   "execution_count": 4,
   "metadata": {},
   "outputs": [
    {
     "name": "stderr",
     "output_type": "stream",
     "text": [
      "c:\\users\\omar.hazim\\appdata\\local\\programs\\python\\python35\\lib\\site-packages\\bokeh\\core\\json_encoder.py:80: FutureWarning:\n",
      "\n",
      "Conversion of the second argument of issubdtype from `float` to `np.floating` is deprecated. In future, it will be treated as `np.float64 == np.dtype(float).type`.\n",
      "\n"
     ]
    }
   ],
   "source": [
    "################ plotting using bokeh##############\n",
    "#source = ColumnDataSource(data = dict(x=counts.index,count=counts.values))\n",
    "#data = pd.DataFrame(counts)\n",
    "#output_file(\"test.html\")\n",
    "##Creating plots using bokeh\n",
    "date = [datetime.strftime(x, format='%Y-%m-%d') for x in counts.index]\n",
    "source = ColumnDataSource(data=dict(x_1=date, counts=list(counts.values)))\n",
    "#p = figure()\n",
    "p = figure(x_range=date,plot_height=250,toolbar_location=None, title=\"Beach resources Deadline\")\n",
    "p.background_fill_color = \"whitesmoke\"\n",
    "p.background_fill_alpha = .9\n",
    "p.vbar(x='x_1',width=.4, top='counts', source=source, legend=\"Beach Res. count\")\n",
    "p.border_fill_color = \"whitesmoke\"\n",
    "p.min_border_left = 10\n",
    "p.xgrid.grid_line_color = None\n",
    "p.ygrid.grid_line_alpha = 0.9\n",
    "p.ygrid.grid_line_dash = [6, 4]\n",
    "show(p)\n",
    "################ plotting using matplotlib##############\n",
    "## set up a plot frame \n",
    "#fig, axs = plt.subplots(1,2, figsize=(13,5))\n",
    "#for ax in axs:\n",
    "   # ax.tick_params(color='white', labelcolor='white')\n",
    "    #for spine in ax.spines.values():\n",
    "        #spine.set_edgecolor('white')\n",
    "#axs[0].bar(counts.index, counts.values)\n",
    "\n",
    "#axs[1].pie(new_df_beach['Priority'].value_counts().values, \n",
    "        #labels=new_df_beach['Priority'].value_counts().index)\n",
    "\n",
    "\n"
   ]
  },
  {
   "cell_type": "code",
   "execution_count": 5,
   "metadata": {},
   "outputs": [],
   "source": [
    "# GeoSpotting for all resource \n",
    "def poptext_2(df,location_col,name_col, x):\n",
    "    \"\"\"\n",
    "    Supporting func to show info for each marker on the map\n",
    "        Inputs:\n",
    "        _______________\n",
    "        - df: DataFrame\n",
    "            dataset as a dataframe \n",
    "        - location_col: str\n",
    "            location column within dataset df (e.g. city)\n",
    "        - name_col: str\n",
    "            names column within dataset df \n",
    "        - x: str\n",
    "           location iterator (in case of run this func with df.apply)\n",
    "        Outputs:\n",
    "        ______________\n",
    "        set of int and str for aggregations from main dataset df\n",
    "    \"\"\"\n",
    "    new_df = new_df_beach[[location_col, name_col]].groupby([location_col,name_col]).count()\n",
    "    nme_lst = []\n",
    "    for item in new_df.index:\n",
    "        if item[0] == x:\n",
    "            nme_lst.append(item[1])\n",
    "    \n",
    "    #'Country : {0} \\n Num of resources : {1} \\n Names : {2}'.format([x],[df[location_col].value_counts()[x]],nme_lst)\n",
    "    return 'Country : {0} \\n Names : {1}'.format([x] ,nme_lst)\n",
    "\n",
    "## Creat a func to count number of resources per country\n",
    "def poptext_1(df,location_col,name_col, x):\n",
    "    \"\"\"\n",
    "    Supporting func to show info for each marker on the map\n",
    "        Inputs:\n",
    "        _______________\n",
    "        - df: DataFrame\n",
    "            dataset as a dataframe \n",
    "        - location_col: str\n",
    "            location column within dataset df (e.g. city)\n",
    "        - name_col: str\n",
    "            names column within dataset df \n",
    "        - x: str\n",
    "           location iterator (in case of run this func with df.apply)\n",
    "        Outputs:\n",
    "        ______________\n",
    "        set of int and str for aggregations from main dataset df\n",
    "    \"\"\"\n",
    "    #info_df = pd.DataFrame()\n",
    "    new_df = new_df_beach[[location_col, name_col]].groupby([location_col,name_col]).count()\n",
    "    nme_lst = []\n",
    "    for item in new_df.index:\n",
    "        if item[0] == x:\n",
    "            nme_lst.append(item[1])\n",
    "            \n",
    "    return 'Country : {0} \\n Num of resources : {1} \\n Names : {2}'.format([x],[df[location_col].value_counts()[x]],nme_lst)\n",
    "\n",
    "## Creat a map \n",
    "## creating latitude/longtitude func\n",
    "def PlotPoint(df, location_col, name_col):\n",
    "    \"\"\"\n",
    "    Plotting coordinations points an a map\n",
    "    Inputs:\n",
    "    _______________\n",
    "      - df: dataframe \n",
    "          the inputs dataset\n",
    "      - location_col: str\n",
    "            location column within dataset df (e.g. city)\n",
    "        - name_col: str\n",
    "            names column within dataset  \n",
    "    \"\"\"\n",
    "    # converting location to a coordinate equivalents\n",
    "    ResMap = folium.Map(prefer_canvas=False)\n",
    "    geolocator = Nominatim()\n",
    "    LongLat = df[location_col].apply(\n",
    "    lambda x: folium.Marker(\n",
    "        location=[geolocator.geocode(x, timeout=15).latitude, geolocator.geocode(x, timeout=15).longitude],\n",
    "        popup=poptext_1(df, location_col,name_col, x), icon=folium.Icon(color='red',icon='info-sign', angle=10)).add_to(ResMap)\n",
    "    if x == 'Stockholm' else folium.Marker(\n",
    "        location=[geolocator.geocode(x, timeout=15).latitude, geolocator.geocode(x, timeout=15).longitude],\n",
    "        popup=poptext_1(df, location_col,name_col, x), icon=folium.Icon(icon='info-sign')).add_to(ResMap)\n",
    "    )\n",
    "\n",
    "    #Set the zoom to the maximum possible\n",
    "    ResMap.fit_bounds(ResMap.get_bounds())\n",
    "    return ResMap\n",
    "\n",
    "\n",
    "    # Plotting coordinations on the map\n",
    "    #folium.CircleMarker(location=[geolocator.geocode(x, timeout=15).latitude, geolocator.geocode(x, timeout=15).longitude]).add_to(ResMap)"
   ]
  },
  {
   "cell_type": "code",
   "execution_count": 6,
   "metadata": {
    "scrolled": true
   },
   "outputs": [
    {
     "name": "stderr",
     "output_type": "stream",
     "text": [
      "c:\\users\\omar.hazim\\appdata\\local\\programs\\python\\python35\\lib\\site-packages\\ipykernel_launcher.py:47: FutureWarning:\n",
      "\n",
      "'Name' is both a column name and an index level.\n",
      "Defaulting to column but this will raise an ambiguity error in a future version\n",
      "\n"
     ]
    },
    {
     "data": {
      "text/html": [
       "<div style=\"width:100%;\"><div style=\"position:relative;width:100%;height:0;padding-bottom:60%;\"><iframe src=\"data:text/html;charset=utf-8;base64,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\" style=\"position:absolute;width:100%;height:100%;left:0;top:0;border:none !important;\" allowfullscreen webkitallowfullscreen mozallowfullscreen></iframe></div></div>"
      ],
      "text/plain": [
       "<folium.folium.Map at 0x4d02a90>"
      ]
     },
     "execution_count": 6,
     "metadata": {},
     "output_type": "execute_result"
    }
   ],
   "source": [
    "PlotPoint(new_df_beach, 'Location', 'Name')\n"
   ]
  },
  {
   "cell_type": "markdown",
   "metadata": {},
   "source": [
    "## Appex"
   ]
  },
  {
   "cell_type": "code",
   "execution_count": 7,
   "metadata": {},
   "outputs": [],
   "source": [
    "#df_location = pd.DataFrame(list(new_df_beach.groupby(['Location']).Location))\n",
    "#df_location.set_index(df_location[0], inplace=True)\n",
    "#np.array(list(zip(*new_df_beach.groupby(['Location', 'Name']).Location)))[0]\n",
    "#new_df_beach['Location_eql_sthlm'] = np.where(new_df_beach['Location']==\"Stockholm\", True, False)"
   ]
  },
  {
   "cell_type": "markdown",
   "metadata": {},
   "source": [
    "###  - Beach resources visualization: GeoMap"
   ]
  },
  {
   "cell_type": "code",
   "execution_count": 11,
   "metadata": {
    "scrolled": false
   },
   "outputs": [
    {
     "name": "stderr",
     "output_type": "stream",
     "text": [
      "c:\\users\\omar.hazim\\appdata\\local\\programs\\python\\python35\\lib\\site-packages\\ipykernel_launcher.py:19: FutureWarning:\n",
      "\n",
      "'Name' is both a column name and an index level.\n",
      "Defaulting to column but this will raise an ambiguity error in a future version\n",
      "\n"
     ]
    },
    {
     "data": {
      "text/html": [
       "<iframe id=\"igraph\" scrolling=\"no\" style=\"border:none;\" seamless=\"seamless\" src=\"https://plot.ly/~omar.hazim/4.embed\" height=\"525px\" width=\"100%\"></iframe>"
      ],
      "text/plain": [
       "<plotly.tools.PlotlyDisplay object>"
      ]
     },
     "execution_count": 11,
     "metadata": {},
     "output_type": "execute_result"
    }
   ],
   "source": [
    "############################ Plotting using Plotly & Dash ##########################################\n",
    "## Running credentials \n",
    "plotly.tools.set_credentials_file(username='omar.hazim', api_key='UnoUlwMh8vwec5ezDXzB')\n",
    "mapbox_access_token = 'pk.eyJ1Ijoib21hcmhhemltIiwiYSI6ImNqY2s5cHk3MzNyZDEycm1tanV6c3pzdGUifQ.hLOK6z98WohsI19MmNBiHw'\n",
    "\n",
    "## Converting location colunms to a cooredinations figures\n",
    "geolocator = Nominatim()\n",
    "Lat = list(itertools.chain(new_df_beach['Location'].apply(lambda x: geolocator.geocode(x, timeout=15).latitude)))\n",
    "Long = list(itertools.chain(new_df_beach['Location'].apply(lambda x: [geolocator.geocode(x, timeout=15).longitude])))\n",
    "cities = list(itertools.chain(new_df_beach['Location'].values))\n",
    "info_1 = new_df_beach['Location'].apply(lambda i: poptext_2(new_df_beach, 'Location', 'Name', i))\n",
    "\n",
    "## Map all coordinations\n",
    "data_beach = Data([ \n",
    "    Scattermapbox(\n",
    "        lat=Lat,\n",
    "        lon=Long,\n",
    "        mode='markers',\n",
    "        marker = Marker(\n",
    "            size = 8,\n",
    "            opacity = 0.8,\n",
    "        ),\n",
    "       text = info_1,\n",
    "    )\n",
    "])\n",
    "\n",
    "layout_beach = Layout(\n",
    "    autosize=True,\n",
    "    hovermode='closest',\n",
    "    mapbox=dict(\n",
    "        accesstoken=mapbox_access_token,\n",
    "        bearing=0,\n",
    "        center=dict(\n",
    "            lat=0,\n",
    "            lon=0\n",
    "        ),\n",
    "        pitch=0,\n",
    "        zoom=0.25\n",
    "    ),\n",
    ")\n",
    "\n",
    "fig_beach = dict(data=data_beach, layout=layout_beach)\n",
    "py.iplot(fig_beach, filename='Beach Resources Mapbox')\n"
   ]
  },
  {
   "cell_type": "code",
   "execution_count": null,
   "metadata": {},
   "outputs": [],
   "source": []
  },
  {
   "cell_type": "code",
   "execution_count": null,
   "metadata": {},
   "outputs": [],
   "source": []
  },
  {
   "cell_type": "code",
   "execution_count": null,
   "metadata": {
    "scrolled": true
   },
   "outputs": [],
   "source": []
  },
  {
   "cell_type": "code",
   "execution_count": null,
   "metadata": {},
   "outputs": [],
   "source": []
  },
  {
   "cell_type": "code",
   "execution_count": null,
   "metadata": {},
   "outputs": [],
   "source": []
  },
  {
   "cell_type": "code",
   "execution_count": null,
   "metadata": {},
   "outputs": [],
   "source": []
  }
 ],
 "metadata": {
  "kernelspec": {
   "display_name": "Python 3",
   "language": "python",
   "name": "python3"
  },
  "language_info": {
   "codemirror_mode": {
    "name": "ipython",
    "version": 3
   },
   "file_extension": ".py",
   "mimetype": "text/x-python",
   "name": "python",
   "nbconvert_exporter": "python",
   "pygments_lexer": "ipython3",
   "version": "3.5.3"
  }
 },
 "nbformat": 4,
 "nbformat_minor": 2
}
