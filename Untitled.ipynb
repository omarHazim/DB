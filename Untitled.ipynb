{
 "cells": [
  {
   "cell_type": "code",
   "execution_count": null,
   "metadata": {},
   "outputs": [],
   "source": [
    "import dash\n",
    "import dash_core_components as dcc\n",
    "import dash_html_components as html\n",
    "import plotly.graph_objs as go\n",
    "import pandas as pd"
   ]
  },
  {
   "cell_type": "code",
   "execution_count": null,
   "metadata": {},
   "outputs": [],
   "source": [
    "app = dash.Dash()\n",
    "\n",
    "df = pd.read_csv(\n",
    "    'https://raw.githubusercontent.com/'\n",
    "    'plotly/datasets/master/'\n",
    "    '1962_2006_walmart_store_openings.csv')\n",
    "\n",
    "app.layout = html.Div([\n",
    "    html.H1('Walmart Store Openings'),\n",
    "    html.Div(id='text-content'),\n",
    "    dcc.Graph(id='map', figure={\n",
    "        'data': [{\n",
    "            'lat': df['LAT'],\n",
    "            'lon': df['LON'],\n",
    "            'marker': {\n",
    "                'color': df['YEAR'],\n",
    "                'size': 8,\n",
    "                'opacity': 0.6\n",
    "            },\n",
    "            'customdata': df['storenum'],\n",
    "            'type': 'scattermapbox'\n",
    "        }],\n",
    "        'layout': {\n",
    "            'mapbox': {\n",
    "                'accesstoken': 'pk.eyJ1IjoiY2hyaWRkeXAiLCJhIjoiY2ozcGI1MTZ3MDBpcTJ3cXR4b3owdDQwaCJ9.8jpMunbKjdq1anXwU5gxIw'\n",
    "            },\n",
    "            'hovermode': 'closest',\n",
    "            'margin': {'l': 0, 'r': 0, 'b': 0, 't': 0}\n",
    "        }\n",
    "    })\n",
    "])\n",
    "\n",
    "\n",
    "@app.callback(\n",
    "    dash.dependencies.Output('text-content', 'children'),\n",
    "    [dash.dependencies.Input('map', 'hoverData')])\n",
    "def update_text(hoverData):\n",
    "    s = df[df['storenum'] == hoverData['points'][0]['customdata']]\n",
    "    return html.H3(\n",
    "        'The {}, {} {} opened in {}'.format(\n",
    "            s.iloc[0]['STRCITY'],\n",
    "            s.iloc[0]['STRSTATE'],\n",
    "            s.iloc[0]['type_store'],\n",
    "            s.iloc[0]['YEAR']\n",
    "        )\n",
    "    )\n",
    "\n",
    "app.css.append_css({\n",
    "    'external_url': 'https://codepen.io/chriddyp/pen/bWLwgP.css'\n",
    "})\n",
    "\n",
    "if __name__ == '__main__':\n",
    "    app.run_server(debug=True)"
   ]
  }
 ],
 "metadata": {
  "kernelspec": {
   "display_name": "Python 3",
   "language": "python",
   "name": "python3"
  },
  "language_info": {
   "codemirror_mode": {
    "name": "ipython",
    "version": 3
   },
   "file_extension": ".py",
   "mimetype": "text/x-python",
   "name": "python",
   "nbconvert_exporter": "python",
   "pygments_lexer": "ipython3",
   "version": "3.5.3"
  }
 },
 "nbformat": 4,
 "nbformat_minor": 2
}
