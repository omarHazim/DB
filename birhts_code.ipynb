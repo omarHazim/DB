{
 "cells": [
  {
   "cell_type": "code",
   "execution_count": 1,
   "metadata": {
    "collapsed": false,
    "scrolled": false
   },
   "outputs": [
    {
     "name": "stdout",
     "output_type": "stream",
     "text": [
      "['year,month,date_of_month,day_of_week,births', '1994,1,1,6,8096', '1994,1,2,7,7772', '1994,1,3,1,10142', '1994,1,4,2,11248', '1994,1,5,3,11053', '1994,1,6,4,11406', '1994,1,7,5,11251', '1994,1,8,6,8653', '1994,1,9,7,7910', '1994,1,10,1,10498']\n"
     ]
    }
   ],
   "source": [
    "f = open(\"US_births_1994-2003_CDC_NCHS.csv\", \"r\")\n",
    "read_f = f.read()\n",
    "split_data = read_f.split(\"\\n\")\n",
    "print(split_data[:11])"
   ]
  },
  {
   "cell_type": "code",
   "execution_count": 2,
   "metadata": {
    "collapsed": false
   },
   "outputs": [],
   "source": [
    "### Reading CSV file function:\n",
    "def read_csv(input_lst):\n",
    "    f = open(input_lst,\"r\")\n",
    "    read_f = f.read()\n",
    "    split_data = read_f.split(\"\\n\")\n",
    "    string_list = split_data[1:len(split_data)]\n",
    "    final_list = []\n",
    "    for row in string_list:\n",
    "        int_fields = []\n",
    "        string_fields = row.split(\",\")\n",
    "        for line in string_fields:\n",
    "            int_convert = int(line)\n",
    "            int_fields.append(int_convert)\n",
    "            final_list.append(int_fields)\n",
    "    return final_list"
   ]
  },
  {
   "cell_type": "code",
   "execution_count": 3,
   "metadata": {
    "collapsed": false
   },
   "outputs": [
    {
     "name": "stdout",
     "output_type": "stream",
     "text": [
      "[[1994, 1, 1, 6, 8096], [1994, 1, 1, 6, 8096], [1994, 1, 1, 6, 8096], [1994, 1, 1, 6, 8096], [1994, 1, 1, 6, 8096], [1994, 1, 2, 7, 7772], [1994, 1, 2, 7, 7772], [1994, 1, 2, 7, 7772], [1994, 1, 2, 7, 7772], [1994, 1, 2, 7, 7772], [1994, 1, 3, 1, 10142], [1994, 1, 3, 1, 10142], [1994, 1, 3, 1, 10142], [1994, 1, 3, 1, 10142], [1994, 1, 3, 1, 10142], [1994, 1, 4, 2, 11248], [1994, 1, 4, 2, 11248], [1994, 1, 4, 2, 11248], [1994, 1, 4, 2, 11248], [1994, 1, 4, 2, 11248], [1994, 1, 5, 3, 11053], [1994, 1, 5, 3, 11053], [1994, 1, 5, 3, 11053], [1994, 1, 5, 3, 11053], [1994, 1, 5, 3, 11053], [1994, 1, 6, 4, 11406], [1994, 1, 6, 4, 11406], [1994, 1, 6, 4, 11406], [1994, 1, 6, 4, 11406], [1994, 1, 6, 4, 11406], [1994, 1, 7, 5, 11251], [1994, 1, 7, 5, 11251], [1994, 1, 7, 5, 11251], [1994, 1, 7, 5, 11251], [1994, 1, 7, 5, 11251], [1994, 1, 8, 6, 8653], [1994, 1, 8, 6, 8653], [1994, 1, 8, 6, 8653], [1994, 1, 8, 6, 8653], [1994, 1, 8, 6, 8653], [1994, 1, 9, 7, 7910], [1994, 1, 9, 7, 7910], [1994, 1, 9, 7, 7910], [1994, 1, 9, 7, 7910], [1994, 1, 9, 7, 7910], [1994, 1, 10, 1, 10498], [1994, 1, 10, 1, 10498], [1994, 1, 10, 1, 10498], [1994, 1, 10, 1, 10498], [1994, 1, 10, 1, 10498]]\n"
     ]
    }
   ],
   "source": [
    "cdc_list = read_csv(\"US_births_1994-2003_CDC_NCHS.csv\")\n",
    "print(cdc_list[:50])"
   ]
  },
  {
   "cell_type": "code",
   "execution_count": 4,
   "metadata": {
    "collapsed": true
   },
   "outputs": [],
   "source": [
    "### Exploring births by month:\n",
    "def month_births(input_lst):\n",
    "    births_per_month = {}\n",
    "    for line in input_lst:\n",
    "        months = line[1]\n",
    "        births = line[4]\n",
    "        if months in births_per_month:\n",
    "            births_per_month[months] = births_per_month[months] + births\n",
    "        else:\n",
    "            births_per_month[months] = births\n",
    "    return births_per_month\n",
    "        "
   ]
  },
  {
   "cell_type": "code",
   "execution_count": 5,
   "metadata": {
    "collapsed": false
   },
   "outputs": [
    {
     "data": {
      "text/plain": [
       "{1: 16162585,\n",
       " 2: 15090700,\n",
       " 3: 16610345,\n",
       " 4: 15926570,\n",
       " 5: 16754535,\n",
       " 6: 16482650,\n",
       " 7: 17493915,\n",
       " 8: 17629290,\n",
       " 9: 17198490,\n",
       " 10: 16894070,\n",
       " 11: 15858235,\n",
       " 12: 16509300}"
      ]
     },
     "execution_count": 5,
     "metadata": {},
     "output_type": "execute_result"
    }
   ],
   "source": [
    "cdc_month_births = month_births(cdc_list)\n",
    "cdc_month_births"
   ]
  },
  {
   "cell_type": "code",
   "execution_count": 6,
   "metadata": {
    "collapsed": true
   },
   "outputs": [],
   "source": [
    "### Exploring births by day of week:\n",
    "def dow_births(input_lst):\n",
    "    births_per_day = {}\n",
    "    for line in input_lst:\n",
    "        day_of_week = line[3]\n",
    "        births = line[4]\n",
    "        if day_of_week in births_per_day:\n",
    "            births_per_day[day_of_week] = births_per_day[day_of_week] + births\n",
    "        else:\n",
    "            births_per_day[day_of_week]  = births\n",
    "    return births_per_day"
   ]
  },
  {
   "cell_type": "code",
   "execution_count": 7,
   "metadata": {
    "collapsed": false
   },
   "outputs": [
    {
     "data": {
      "text/plain": [
       "{1: 28945830,\n",
       " 2: 32230980,\n",
       " 3: 31614275,\n",
       " 4: 31442145,\n",
       " 5: 31168285,\n",
       " 6: 22810555,\n",
       " 7: 20398615}"
      ]
     },
     "execution_count": 7,
     "metadata": {},
     "output_type": "execute_result"
    }
   ],
   "source": [
    "cdc_day_births = dow_births(cdc_list)\n",
    "cdc_day_births"
   ]
  },
  {
   "cell_type": "code",
   "execution_count": 8,
   "metadata": {
    "collapsed": true
   },
   "outputs": [],
   "source": [
    "### [Optional]: function to get births filtred by any specific column in the dataset:\n",
    "def calc_counts(data,column):\n",
    "    birth_counts = {}\n",
    "    for line in data:\n",
    "        data_col = line[column]\n",
    "        data_births = line[4]\n",
    "        if data_col in birth_counts:\n",
    "            birth_counts[data_col] = birth_counts[data_col] + data_births\n",
    "        else:\n",
    "            birth_counts[data_col] = data_births\n",
    "    return birth_counts\n",
    "        \n",
    "        "
   ]
  },
  {
   "cell_type": "code",
   "execution_count": 9,
   "metadata": {
    "collapsed": false
   },
   "outputs": [
    {
     "data": {
      "text/plain": [
       "{1994: 19763835,\n",
       " 1995: 19497945,\n",
       " 1996: 19457470,\n",
       " 1997: 19404470,\n",
       " 1998: 19707765,\n",
       " 1999: 19797085,\n",
       " 2000: 20294070,\n",
       " 2001: 20129665,\n",
       " 2002: 20108630,\n",
       " 2003: 20449750}"
      ]
     },
     "execution_count": 9,
     "metadata": {},
     "output_type": "execute_result"
    }
   ],
   "source": [
    "cdc_year_births = calc_counts(cdc_list,0)\n",
    "cdc_month_births = calc_counts(cdc_list,1)\n",
    "cdc_dom_births = calc_counts(cdc_list,2)\n",
    "cdc_dow_births = calc_counts(cdc_list,3)\n",
    "cdc_year_births\n"
   ]
  },
  {
   "cell_type": "code",
   "execution_count": 10,
   "metadata": {
    "collapsed": false
   },
   "outputs": [
    {
     "data": {
      "text/plain": [
       "{1: 16162585,\n",
       " 2: 15090700,\n",
       " 3: 16610345,\n",
       " 4: 15926570,\n",
       " 5: 16754535,\n",
       " 6: 16482650,\n",
       " 7: 17493915,\n",
       " 8: 17629290,\n",
       " 9: 17198490,\n",
       " 10: 16894070,\n",
       " 11: 15858235,\n",
       " 12: 16509300}"
      ]
     },
     "execution_count": 10,
     "metadata": {},
     "output_type": "execute_result"
    }
   ],
   "source": [
    "cdc_month_births"
   ]
  },
  {
   "cell_type": "code",
   "execution_count": 11,
   "metadata": {
    "collapsed": false
   },
   "outputs": [
    {
     "data": {
      "text/plain": [
       "{1: 28945830,\n",
       " 2: 32230980,\n",
       " 3: 31614275,\n",
       " 4: 31442145,\n",
       " 5: 31168285,\n",
       " 6: 22810555,\n",
       " 7: 20398615}"
      ]
     },
     "execution_count": 11,
     "metadata": {},
     "output_type": "execute_result"
    }
   ],
   "source": [
    "cdc_dow_births"
   ]
  },
  {
   "cell_type": "code",
   "execution_count": 12,
   "metadata": {
    "collapsed": false
   },
   "outputs": [
    {
     "data": {
      "text/plain": [
       "{1: 6382785,\n",
       " 2: 6443695,\n",
       " 3: 6522495,\n",
       " 4: 6440770,\n",
       " 5: 6499765,\n",
       " 6: 6522370,\n",
       " 7: 6552295,\n",
       " 8: 6561485,\n",
       " 9: 6516460,\n",
       " 10: 6603820,\n",
       " 11: 6571805,\n",
       " 12: 6592185,\n",
       " 13: 6388420,\n",
       " 14: 6600765,\n",
       " 15: 6595855,\n",
       " 16: 6575960,\n",
       " 17: 6624765,\n",
       " 18: 6634275,\n",
       " 19: 6593635,\n",
       " 20: 6624105,\n",
       " 21: 6614485,\n",
       " 22: 6586905,\n",
       " 23: 6466450,\n",
       " 24: 6440415,\n",
       " 25: 6360580,\n",
       " 26: 6423980,\n",
       " 27: 6471975,\n",
       " 28: 6538425,\n",
       " 29: 6115805,\n",
       " 30: 6010475,\n",
       " 31: 3733480}"
      ]
     },
     "execution_count": 12,
     "metadata": {},
     "output_type": "execute_result"
    }
   ],
   "source": [
    "cdc_dom_births"
   ]
  },
  {
   "cell_type": "code",
   "execution_count": 13,
   "metadata": {
    "collapsed": false
   },
   "outputs": [],
   "source": [
    "### Function to compute MAX,Min values for births:\n",
    "def max_dic(input_lst):\n",
    "    max_name = []\n",
    "    min_name = []\n",
    "    max_value = None\n",
    "    min_value = None\n",
    "    for key,value in input_lst.items():\n",
    "        if max_value is None or value > max_value:\n",
    "            max_value = value\n",
    "    for key,value in input_lst.items():\n",
    "        if min_value is None or value < min_value:\n",
    "            min_value = value      \n",
    "    for key,value in input_lst.items():\n",
    "        if value == max_value:\n",
    "            max_name.append(key)\n",
    "    for key,value in input_lst.items():\n",
    "        if value == min_value:\n",
    "            min_name.append(key)\n",
    "            \n",
    "    return 'Max Value :', max_name, max_value, 'Min Value :', min_name,min_value\n"
   ]
  },
  {
   "cell_type": "code",
   "execution_count": 14,
   "metadata": {
    "collapsed": false
   },
   "outputs": [
    {
     "data": {
      "text/plain": [
       "('Max Value :', [2], 32230980, 'Min Value :', [7], 20398615)"
      ]
     },
     "execution_count": 14,
     "metadata": {},
     "output_type": "execute_result"
    }
   ],
   "source": [
    "max_births = max_dic(cdc_day_births)\n",
    "max_births"
   ]
  },
  {
   "cell_type": "code",
   "execution_count": 15,
   "metadata": {
    "collapsed": true
   },
   "outputs": [],
   "source": [
    "### Function to compute the diff between consecutive values of the births and calculating \n",
    "#the rate of change:\n",
    "def trend_dic(input_lst,day_int):\n",
    "    diff_data = []\n",
    "    dow = []\n",
    "    year_lst = []\n",
    "    cons_values = []\n",
    "    for row in input_lst:\n",
    "        births = row[4]\n",
    "        year = row[0]\n",
    "        day_of_week = row[3]\n",
    "        if day_of_week == day_int:\n",
    "            cons_values.append(births)\n",
    "        if day_of_week == day_int:\n",
    "            dow.append(day_of_week)\n",
    "        if day_of_week == day_int:\n",
    "            year_lst.append(year)\n",
    "            \n",
    "    diff_cons_lst = cons_values[1:len(cons_values)]\n",
    "    for i,row in enumerate(diff_cons_lst):\n",
    "        try:\n",
    "            diff = ((diff_cons_lst[i]/cons_values[i])-1)\n",
    "            diff_data.append(diff)\n",
    "            #diff_data.append([year_lst[i],dow[i],diff_cons_lst[i],diff])\n",
    "        except Exception:\n",
    "            pass\n",
    "    return diff_data"
   ]
  },
  {
   "cell_type": "code",
   "execution_count": 16,
   "metadata": {
    "collapsed": false,
    "scrolled": true
   },
   "outputs": [
    {
     "data": {
      "text/plain": [
       "[0.0,\n",
       " 0.0,\n",
       " 0.0,\n",
       " 0.0,\n",
       " 0.01775604734945957,\n",
       " 0.0,\n",
       " 0.0,\n",
       " 0.0,\n",
       " 0.0,\n",
       " 0.02692793931731985]"
      ]
     },
     "execution_count": 16,
     "metadata": {},
     "output_type": "execute_result"
    }
   ],
   "source": [
    "trend = trend_dic(cdc_list,7)\n",
    "trend[:10]  "
   ]
  },
  {
   "cell_type": "markdown",
   "metadata": {
    "collapsed": false
   },
   "source": [
    "### The code above to extract the difference between consecutive values (births) for any specific day of the week per year"
   ]
  },
  {
   "cell_type": "code",
   "execution_count": 17,
   "metadata": {
    "collapsed": false
   },
   "outputs": [],
   "source": [
    "### [Optional] get any column from the dataset:\n",
    "def get_column(input_lst,column):\n",
    "    col_d = []\n",
    "    for row in input_lst:\n",
    "        col_data = row[column]\n",
    "        col_d.append(col_data)\n",
    "    return col_d    "
   ]
  },
  {
   "cell_type": "code",
   "execution_count": 18,
   "metadata": {
    "collapsed": false,
    "scrolled": true
   },
   "outputs": [
    {
     "data": {
      "text/plain": [
       "[[1, 0.001508493812705766],\n",
       " [2, 0.0005760235438089338],\n",
       " [3, 0.00045247234677069033],\n",
       " [4, 0.001005775176854221],\n",
       " [5, 0.0005973834703628366],\n",
       " [6, 0.0001471818403752321],\n",
       " [7, 7.601255911139206e-05]]"
      ]
     },
     "execution_count": 18,
     "metadata": {},
     "output_type": "execute_result"
    }
   ],
   "source": [
    "###Filter births data (average change rate) by months:\n",
    "dow = list(set(get_column(cdc_list,3)))\n",
    "\n",
    "avrg_list = []\n",
    "multi_diff = []\n",
    "for i,value in enumerate(dow):\n",
    "    f = trend_dic(cdc_list,dow[i])\n",
    "    multi_diff.append(f)\n",
    "for x,value_2 in enumerate(multi_diff):\n",
    "    avrg_data = sum(multi_diff[x])/len(multi_diff[x])\n",
    "    \n",
    "    avrg_list.append([dow[x],avrg_data])\n",
    "avrg_list"
   ]
  },
  {
   "cell_type": "code",
   "execution_count": 19,
   "metadata": {
    "collapsed": false,
    "scrolled": true
   },
   "outputs": [
    {
     "data": {
      "text/plain": [
       "{1994: 2843360,\n",
       " 1995: 2786980,\n",
       " 1996: 2846715,\n",
       " 1997: 2823910,\n",
       " 1998: 2859110,\n",
       " 1999: 2864790,\n",
       " 2000: 2926560,\n",
       " 2001: 2965930,\n",
       " 2002: 2977770,\n",
       " 2003: 3050705}"
      ]
     },
     "execution_count": 19,
     "metadata": {},
     "output_type": "execute_result"
    }
   ],
   "source": [
    "### Function below to find each births considering two items in the filter\n",
    "years_list = list(set(get_column(cdc_list,0)))\n",
    "final_year_lst = {}\n",
    "sub_final = []\n",
    "for row in cdc_list:\n",
    "    year_lst = row[0]\n",
    "    dow_lst = row[3]\n",
    "    births_lst = row[4]\n",
    "    for i,value in enumerate(years_list):\n",
    "        if year_lst == years_list[i] and dow_lst == 1:\n",
    "            sub_final.append([year_lst,births_lst])\n",
    "for row_1 in sub_final:\n",
    "    year_lst_1 = row_1[0]\n",
    "    births_lst_1 = row_1[1]\n",
    "    if year_lst_1 in final_year_lst:\n",
    "        final_year_lst[year_lst_1] = final_year_lst[year_lst_1] + births_lst_1\n",
    "    else:\n",
    "        final_year_lst[year_lst_1] = births_lst_1\n",
    "final_year_lst"
   ]
  }
 ],
 "metadata": {
  "anaconda-cloud": {},
  "kernelspec": {
   "display_name": "Python 3",
   "language": "python",
   "name": "python3"
  },
  "language_info": {
   "codemirror_mode": {
    "name": "ipython",
    "version": 3
   },
   "file_extension": ".py",
   "mimetype": "text/x-python",
   "name": "python",
   "nbconvert_exporter": "python",
   "pygments_lexer": "ipython3",
   "version": "3.4.3"
  }
 },
 "nbformat": 4,
 "nbformat_minor": 1
}
