{
 "cells": [
  {
   "cell_type": "markdown",
   "metadata": {
    "collapsed": true
   },
   "source": [
    "<img src=\"Desktop/Dataquest.io/5-Coding-Challenges-to-Help-You-Train-Your-Brain.jpg\" width=750,height=100>\n",
    "\n"
   ]
  },
  {
   "cell_type": "code",
   "execution_count": 1,
   "metadata": {
    "collapsed": true
   },
   "outputs": [],
   "source": [
    "import requests\n",
    "import json\n",
    "import pandas as pd\n",
    "from bs4 import BeautifulSoup\n",
    "import sqlite3 \n",
    "import math\n",
    "\n",
    "import pip\n",
    "\n",
    "\n",
    "import numpy as np\n"
   ]
  },
  {
   "cell_type": "code",
   "execution_count": 2,
   "metadata": {},
   "outputs": [
    {
     "data": {
      "text/plain": [
       "'application/json'"
      ]
     },
     "execution_count": 2,
     "metadata": {},
     "output_type": "execute_result"
    }
   ],
   "source": [
    "para = {\"lat\": 36.2296, \"lon\": 42.2362}\n",
    "res = requests.get(\"http://api.open-notify.org/iss-pass.json\", params=para)\n",
    "sta_code = res.status_code\n",
    "res_dict = res.json()\n",
    "res.headers[\"Content-Type\"]\n"
   ]
  },
  {
   "cell_type": "code",
   "execution_count": null,
   "metadata": {
    "collapsed": true
   },
   "outputs": [],
   "source": []
  },
  {
   "cell_type": "code",
   "execution_count": null,
   "metadata": {
    "collapsed": true
   },
   "outputs": [],
   "source": []
  },
  {
   "cell_type": "code",
   "execution_count": 3,
   "metadata": {},
   "outputs": [
    {
     "name": "stdout",
     "output_type": "stream",
     "text": [
      "<class 'list'>\n"
     ]
    }
   ],
   "source": [
    "best_food_chains = [\"Taco Bell\", \"Shake Shack\", \"Chipotle\"]\n",
    "print(type(best_food_chains))"
   ]
  },
  {
   "cell_type": "code",
   "execution_count": 4,
   "metadata": {},
   "outputs": [
    {
     "name": "stdout",
     "output_type": "stream",
     "text": [
      "<class 'str'>\n"
     ]
    }
   ],
   "source": [
    "best_food_chains_string = json.dumps(best_food_chains)\n",
    "print(type(best_food_chains_string))"
   ]
  },
  {
   "cell_type": "code",
   "execution_count": 5,
   "metadata": {},
   "outputs": [
    {
     "name": "stdout",
     "output_type": "stream",
     "text": [
      "<class 'list'>\n"
     ]
    }
   ],
   "source": [
    "print(type(json.loads(best_food_chains_string)))\n"
   ]
  },
  {
   "cell_type": "code",
   "execution_count": 6,
   "metadata": {
    "collapsed": true
   },
   "outputs": [
    {
     "data": {
      "text/plain": [
       "0                 Metrics\n",
       "1                     NaN\n",
       "2                 Central\n",
       "3                     NaN\n",
       "4                     NaN\n",
       "5                   PDPiT\n",
       "6                   PDPiT\n",
       "7                   PDPiT\n",
       "8                   PDPiT\n",
       "9                   PDPiT\n",
       "10                  PDPiT\n",
       "11                  PDPiT\n",
       "12                  PDPiT\n",
       "13                  PDPiT\n",
       "14                  PDPiT\n",
       "15                  PDPiT\n",
       "16         LGD Performing\n",
       "17         LGD Performing\n",
       "18         LGD Performing\n",
       "19         LGD Performing\n",
       "20         LGD Performing\n",
       "21         LGD Performing\n",
       "22         LGD Performing\n",
       "23         LGD Performing\n",
       "24         LGD Performing\n",
       "25         LGD Performing\n",
       "26         LGD Performing\n",
       "27     LGD Non-Performing\n",
       "28     LGD Non-Performing\n",
       "29     LGD Non-Performing\n",
       "              ...        \n",
       "156                 PDPiT\n",
       "157                 PDPiT\n",
       "158                 PDPiT\n",
       "159                 PDPiT\n",
       "160                 PDPiT\n",
       "161                 PDPiT\n",
       "162                 PDPiT\n",
       "163                 PDPiT\n",
       "164        LGD Performing\n",
       "165        LGD Performing\n",
       "166        LGD Performing\n",
       "167        LGD Performing\n",
       "168        LGD Performing\n",
       "169        LGD Performing\n",
       "170        LGD Performing\n",
       "171        LGD Performing\n",
       "172        LGD Performing\n",
       "173        LGD Performing\n",
       "174        LGD Performing\n",
       "175    LGD Non-Performing\n",
       "176    LGD Non-Performing\n",
       "177    LGD Non-Performing\n",
       "178    LGD Non-Performing\n",
       "179    LGD Non-Performing\n",
       "180    LGD Non-Performing\n",
       "181    LGD Non-Performing\n",
       "182    LGD Non-Performing\n",
       "183    LGD Non-Performing\n",
       "184    LGD Non-Performing\n",
       "185    LGD Non-Performing\n",
       "Name: Scenarios, Length: 186, dtype: object"
      ]
     },
     "execution_count": 6,
     "metadata": {},
     "output_type": "execute_result"
    }
   ],
   "source": [
    "str_box = pd.read_csv(r\"C:\\Users\\omar.hazim\\Desktop\\stratbox\\20160719 1315 Expected Loss template - blank + incorrect - new.csv\")\n",
    "str_box.head()\n",
    "str_box['Scenarios']"
   ]
  },
  {
   "cell_type": "code",
   "execution_count": 7,
   "metadata": {
    "collapsed": true,
    "scrolled": true
   },
   "outputs": [],
   "source": [
    "response = requests.get(\"https://datatables.net/\")\n",
    "content = response.content\n",
    "\n",
    "parse = BeautifulSoup(content,\"html.parser\")\n",
    "\n",
    "thead = parse.find_all(\"tbody\")\n",
    "all_names = []\n",
    "\n",
    "tbody = parse.find_all('tbody')[0]\n",
    "tbody_tr = tbody.find_all('tr')\n",
    "\n",
    "thead = parse.find_all(\"thead\")[0]\n",
    "\n",
    "thead_th = thead.find_all(\"th\")\n",
    "\n",
    "a_n=[]\n",
    "for g,h in enumerate (thead_th):\n",
    "    for item in tbody_tr:\n",
    "        x = item.find_all('td')[g].text\n",
    "        a_n.append((x))\n",
    "      \n",
    "        \n"
   ]
  },
  {
   "cell_type": "code",
   "execution_count": 8,
   "metadata": {
    "collapsed": true
   },
   "outputs": [],
   "source": [
    "for item in tbody_tr:\n",
    "    Name = item.find_all('td')[0].text\n",
    "    Pos = item.find_all('td')[1].text\n",
    "    Office  = item.find_all('td')[2].text\n",
    "    Age = item.find_all('td')[3].text\n",
    "    Start_date = item.find_all('td')[4].text\n",
    "    Salary  =item.find_all('td')[5].text\n",
    "    all_names.append((Name,Pos,Office,Age,Start_date,Salary))\n",
    "    df_1 = pd.DataFrame(all_names,columns=['Name','Pos','Office','Age','Start_date','Salary'])\n"
   ]
  },
  {
   "cell_type": "markdown",
   "metadata": {},
   "source": [
    "## working with SQL query (exploring factbook.db)"
   ]
  },
  {
   "cell_type": "code",
   "execution_count": 9,
   "metadata": {},
   "outputs": [
    {
     "data": {
      "text/plain": [
       "[(243,)]"
      ]
     },
     "execution_count": 9,
     "metadata": {},
     "output_type": "execute_result"
    }
   ],
   "source": [
    "con = sqlite3.connect(r\"C:\\Users\\omar.hazim\\Desktop\\Dataquest.io\\factbook.db\")\n",
    "cur = con.cursor()\n",
    "q = ' select * from facts;'\n",
    "cur.execute(q)\n",
    "res = cur.fetchall()\n",
    "\n",
    "q_1 = 'select count(area_water) from facts limit 10;'\n",
    "cur.execute(q_1)\n",
    "r_1 = cur.fetchall()\n",
    "r_1"
   ]
  },
  {
   "cell_type": "code",
   "execution_count": 10,
   "metadata": {},
   "outputs": [
    {
     "data": {
      "text/html": [
       "<div>\n",
       "<style>\n",
       "    .dataframe thead tr:only-child th {\n",
       "        text-align: right;\n",
       "    }\n",
       "\n",
       "    .dataframe thead th {\n",
       "        text-align: left;\n",
       "    }\n",
       "\n",
       "    .dataframe tbody tr th {\n",
       "        vertical-align: top;\n",
       "    }\n",
       "</style>\n",
       "<table border=\"1\" class=\"dataframe\">\n",
       "  <thead>\n",
       "    <tr style=\"text-align: right;\">\n",
       "      <th></th>\n",
       "      <th>name</th>\n",
       "      <th>population</th>\n",
       "      <th>popul_growth_2050</th>\n",
       "      <th>diff</th>\n",
       "    </tr>\n",
       "  </thead>\n",
       "  <tbody>\n",
       "    <tr>\n",
       "      <th>236</th>\n",
       "      <td>Montserrat</td>\n",
       "      <td>5241.0</td>\n",
       "      <td>184354</td>\n",
       "      <td>179113</td>\n",
       "    </tr>\n",
       "    <tr>\n",
       "      <th>213</th>\n",
       "      <td>Saint Pierre and Miquelon</td>\n",
       "      <td>5657.0</td>\n",
       "      <td>200145</td>\n",
       "      <td>194488</td>\n",
       "    </tr>\n",
       "    <tr>\n",
       "      <th>238</th>\n",
       "      <td>Saint Helena, Ascension, and Tristan da Cunha</td>\n",
       "      <td>7795.0</td>\n",
       "      <td>273481</td>\n",
       "      <td>265686</td>\n",
       "    </tr>\n",
       "    <tr>\n",
       "      <th>122</th>\n",
       "      <td>Nauru</td>\n",
       "      <td>9540.0</td>\n",
       "      <td>335742</td>\n",
       "      <td>326202</td>\n",
       "    </tr>\n",
       "    <tr>\n",
       "      <th>180</th>\n",
       "      <td>Tuvalu</td>\n",
       "      <td>10869.0</td>\n",
       "      <td>383547</td>\n",
       "      <td>372678</td>\n",
       "    </tr>\n",
       "  </tbody>\n",
       "</table>\n",
       "</div>"
      ],
      "text/plain": [
       "                                              name  population  \\\n",
       "236                                     Montserrat      5241.0   \n",
       "213                      Saint Pierre and Miquelon      5657.0   \n",
       "238  Saint Helena, Ascension, and Tristan da Cunha      7795.0   \n",
       "122                                          Nauru      9540.0   \n",
       "180                                         Tuvalu     10869.0   \n",
       "\n",
       "     popul_growth_2050    diff  \n",
       "236             184354  179113  \n",
       "213             200145  194488  \n",
       "238             273481  265686  \n",
       "122             335742  326202  \n",
       "180             383547  372678  "
      ]
     },
     "execution_count": 10,
     "metadata": {},
     "output_type": "execute_result"
    }
   ],
   "source": [
    "fb = pd.read_sql_query(q,con,coerce_float=False)\n",
    "fb = fb.dropna(axis=0)\n",
    "\n",
    "def x_pg(row):\n",
    "    x = row['population'] * (math.e**(row['population_growth']/100)*35)\n",
    "    return ('%.0f' % x)\n",
    "fb['popul_growth_2050'] = fb.apply(x_pg,axis=1)\n",
    "fb['popul_growth_2050'] = pd.to_numeric(fb['popul_growth_2050'],downcast='integer', errors ='coerce')\n",
    "fb['diff'] = pd.to_numeric(fb['popul_growth_2050']- fb['population'],downcast='integer', errors ='coerce')\n",
    "fb_diff = fb[['name','population','popul_growth_2050','diff']]\n",
    "fb_diff.sort_values('diff').head()\n"
   ]
  },
  {
   "cell_type": "markdown",
   "metadata": {},
   "source": [
    "## lowest and highest population densities"
   ]
  },
  {
   "cell_type": "code",
   "execution_count": 11,
   "metadata": {},
   "outputs": [
    {
     "data": {
      "text/plain": [
       "0     50 Per/ sq KM\n",
       "1    111 Per/ sq KM\n",
       "2     17 Per/ sq KM\n",
       "3    183 Per/ sq KM\n",
       "4     16 Per/ sq KM\n",
       "Name: desity_per_country, dtype: object"
      ]
     },
     "execution_count": 11,
     "metadata": {},
     "output_type": "execute_result"
    }
   ],
   "source": [
    "def density_x(row):\n",
    "    country_density = row['population']/row['area_land']\n",
    "    return ('%.0f' %country_density + ' '+ 'Per/ sq KM')\n",
    "fb['desity_per_country'] = fb.apply(density_x,axis=1)\n",
    "fb['desity_per_country'].head()"
   ]
  },
  {
   "cell_type": "markdown",
   "metadata": {},
   "source": [
    "## countries receive the most immigrants/ lose the most emigrants"
   ]
  },
  {
   "cell_type": "code",
   "execution_count": 12,
   "metadata": {
    "collapsed": true
   },
   "outputs": [],
   "source": [
    "sort_by_MR= fb.sort_values('migration_rate')\n",
    "\n",
    "# Top 10 coutries(immigrants) (per 1,000 POPULATION)\n",
    "top_10_immi_coutries = sort_by_MR[['name','migration_rate']].sort_values('migration_rate',ascending=False).head(10)\n",
    "\n",
    "# Top 10 coutries(emmigrants) (per 1,000 POPULATION)\n",
    "top_10_emmi_coutries  = sort_by_MR[['name','migration_rate']].sort_values('migration_rate',ascending=True).head(10)\n"
   ]
  },
  {
   "cell_type": "code",
   "execution_count": 13,
   "metadata": {},
   "outputs": [
    {
     "ename": "NameError",
     "evalue": "name 'idx' is not defined",
     "output_type": "error",
     "traceback": [
      "\u001b[1;31m---------------------------------------------------------------------------\u001b[0m",
      "\u001b[1;31mNameError\u001b[0m                                 Traceback (most recent call last)",
      "\u001b[1;32m<ipython-input-13-a30398f07bec>\u001b[0m in \u001b[0;36m<module>\u001b[1;34m()\u001b[0m\n\u001b[0;32m      9\u001b[0m     \u001b[1;32mfor\u001b[0m \u001b[0mj\u001b[0m \u001b[1;32min\u001b[0m \u001b[0msurvey_responses\u001b[0m\u001b[1;33m:\u001b[0m\u001b[1;33m\u001b[0m\u001b[0m\n\u001b[0;32m     10\u001b[0m         \u001b[1;32mif\u001b[0m \u001b[0mj\u001b[0m \u001b[1;33m==\u001b[0m \u001b[0mu\u001b[0m\u001b[1;33m:\u001b[0m\u001b[1;33m\u001b[0m\u001b[0m\n\u001b[1;32m---> 11\u001b[1;33m             \u001b[0mx\u001b[0m\u001b[1;33m=\u001b[0m \u001b[0midx\u001b[0m\u001b[1;33m\u001b[0m\u001b[0m\n\u001b[0m\u001b[0;32m     12\u001b[0m     \u001b[0mnew_idx\u001b[0m\u001b[1;33m.\u001b[0m\u001b[0mappend\u001b[0m\u001b[1;33m(\u001b[0m\u001b[0mi\u001b[0m\u001b[1;33m)\u001b[0m\u001b[1;33m\u001b[0m\u001b[0m\n\u001b[0;32m     13\u001b[0m \u001b[0mprint\u001b[0m\u001b[1;33m(\u001b[0m\u001b[0msum\u001b[0m\u001b[1;33m(\u001b[0m\u001b[0mnew_idx\u001b[0m\u001b[1;33m)\u001b[0m\u001b[1;33m/\u001b[0m\u001b[0mlen\u001b[0m\u001b[1;33m(\u001b[0m\u001b[0mnew_idx\u001b[0m\u001b[1;33m)\u001b[0m\u001b[1;33m)\u001b[0m\u001b[1;33m\u001b[0m\u001b[0m\n",
      "\u001b[1;31mNameError\u001b[0m: name 'idx' is not defined"
     ]
    }
   ],
   "source": [
    "import numpy as np\n",
    "survey_responses = [\"none\", \"some\", \"a lot\", \"none\", \"a few\", \"none\", \"none\"]\n",
    "\n",
    "unique_slc = list(set(survey_responses))\n",
    "new_index = [unique_slc.index(responses) for responses in survey_responses]\n",
    "\n",
    "new_idx=[]\n",
    "for i,u in enumerate(unique_slc):\n",
    "    for j in survey_responses:\n",
    "        if j == u:\n",
    "            x= idx\n",
    "    new_idx.append(i)\n",
    "print(sum(new_idx)/len(new_idx))\n",
    "sum(new_idx)\n"
   ]
  },
  {
   "cell_type": "code",
   "execution_count": null,
   "metadata": {
    "collapsed": true
   },
   "outputs": [],
   "source": [
    "new_idx"
   ]
  },
  {
   "cell_type": "code",
   "execution_count": null,
   "metadata": {
    "collapsed": true
   },
   "outputs": [],
   "source": [
    "survey_responses = [\"none\", \"some\", \"a lot\", \"none\", \"a few\", \"none\", \"none\"]\n",
    "survey_scale = list(set(survey_responses))\n",
    "survey_numbers = [survey_scale.index(response) for response in survey_responses]\n",
    "average_smoking = sum(survey_numbers) / len(survey_numbers)\n",
    "average_smoking \n",
    "sum(survey_numbers)"
   ]
  },
  {
   "cell_type": "code",
   "execution_count": null,
   "metadata": {
    "collapsed": true
   },
   "outputs": [],
   "source": [
    "gender = [\"male\", \"female\", \"female\", \"male\", \"male\", \"female\"]\n",
    "savings = [1200, 5000, 3400, 2400, 2800, 4100]\n",
    "\n",
    "def avrg_calc(gend_x,sav_y,x):\n",
    "    gender_ml = []\n",
    "    for i,u in enumerate(gend_x):\n",
    "        if u == x:\n",
    "            gender_ml.append(sav_y[i])\n",
    "    avrg_savings = sum(gender_ml)/len(gender_ml)\n",
    "    return avrg_savings\n",
    "mal_avrg = avrg_calc(gender,savings,'male')\n",
    "mal_avrg"
   ]
  },
  {
   "cell_type": "code",
   "execution_count": null,
   "metadata": {
    "collapsed": true
   },
   "outputs": [],
   "source": [
    "import numpy as np\n",
    "male_lst = [savings[i] for i in range(0,len(gender)) if gender[i]=='male']\n",
    "np.mean(male_lst)"
   ]
  },
  {
   "cell_type": "code",
   "execution_count": null,
   "metadata": {
    "collapsed": true
   },
   "outputs": [],
   "source": [
    "wing_lengths = [36, 37, 38, 38, 39, 39, 40, 40, 40, 40, 41, 41, 41, 41, 41, 41, 42, 42, 42, 42, 42, 42, 42, 43, 43, 43, 43, 43, 43, 43, 43, 44, 44, 44, 44, 44, 44, 44, 44, 44, 45, 45, 45, 45, 45, 45, 45, 45, 45, 45, 46, 46, 46, 46, 46, 46, 46, 46, 46, 46, 47, 47, 47, 47, 47, 47, 47, 47, 47, 48, 48, 48, 48, 48, 48, 48, 48, 49, 49, 49, 49, 49, 49, 49, 50, 50, 50, 50, 50, 50, 51, 51, 51, 51, 52, 52, 53, 53, 54, 55]"
   ]
  },
  {
   "cell_type": "code",
   "execution_count": null,
   "metadata": {
    "collapsed": true
   },
   "outputs": [],
   "source": []
  },
  {
   "cell_type": "code",
   "execution_count": null,
   "metadata": {
    "collapsed": true
   },
   "outputs": [],
   "source": [
    "w_l = pd.Series(wing_lengths)\n",
    "mean_x = sum(w_l.values)/len(w_l.values)\n",
    "diff_x = [u - mean_x for u in w_l]\n",
    "diff_x_sqrd = [x**2 for x in diff_x]\n",
    "var = sum(diff_x_sqrd)/len(w_l.values)\n",
    "\n",
    "def calc_var(ser):\n",
    "    mean_x = sum(ser.values)/len(ser.values)\n",
    "    diff_x = [u - mean_x for u in ser]\n",
    "    diff_sqrd = [x**2 for x in diff_x]\n",
    "    var_x = sum(diff_sqrd)/len(diff_sqrd)\n",
    "    stdev_x = var_x**(1/2)\n",
    "    return var_x, stdev_x\n",
    "def calc_stdev(var_output):\n",
    "    stdev_x = var_output**(1/2)\n",
    "    return stdev_x\n",
    "w_l_var = calc_var(w_l)\n"
   ]
  },
  {
   "cell_type": "code",
   "execution_count": 27,
   "metadata": {
    "collapsed": true
   },
   "outputs": [
    {
     "data": {
      "image/png": "[encoded data removed]",
      "text/plain": [
       "<matplotlib.figure.Figure at 0x1183de10>"
      ]
     },
     "metadata": {},
     "output_type": "display_data"
    },
    {
     "data": {
      "text/plain": [
       "[2,\n",
       " 2,\n",
       " 3,\n",
       " 2,\n",
       " 3,\n",
       " 3,\n",
       " 5,\n",
       " 3,\n",
       " 5,\n",
       " 6,\n",
       " 1,\n",
       " 5,\n",
       " 3,\n",
       " 2,\n",
       " 5,\n",
       " 3,\n",
       " 4,\n",
       " 3,\n",
       " 5,\n",
       " 3,\n",
       " 1,\n",
       " 4,\n",
       " 4,\n",
       " 5,\n",
       " 2,\n",
       " 1,\n",
       " 3,\n",
       " 1,\n",
       " 2,\n",
       " 1,\n",
       " 3,\n",
       " 5,\n",
       " 3,\n",
       " 5,\n",
       " 5,\n",
       " 5,\n",
       " 6,\n",
       " 6,\n",
       " 3,\n",
       " 5,\n",
       " 6,\n",
       " 6,\n",
       " 1,\n",
       " 3,\n",
       " 6,\n",
       " 3,\n",
       " 6,\n",
       " 6,\n",
       " 4,\n",
       " 5,\n",
       " 5,\n",
       " 3,\n",
       " 1,\n",
       " 3,\n",
       " 1,\n",
       " 3,\n",
       " 1,\n",
       " 4,\n",
       " 4,\n",
       " 5,\n",
       " 6,\n",
       " 3,\n",
       " 5,\n",
       " 5,\n",
       " 4,\n",
       " 1,\n",
       " 1,\n",
       " 2,\n",
       " 6,\n",
       " 3,\n",
       " 3,\n",
       " 6,\n",
       " 5,\n",
       " 3,\n",
       " 4,\n",
       " 6,\n",
       " 1,\n",
       " 4,\n",
       " 3,\n",
       " 2,\n",
       " 4,\n",
       " 1,\n",
       " 6,\n",
       " 5,\n",
       " 6,\n",
       " 5,\n",
       " 4,\n",
       " 1,\n",
       " 6,\n",
       " 4,\n",
       " 3,\n",
       " 2,\n",
       " 2,\n",
       " 2,\n",
       " 4,\n",
       " 4,\n",
       " 3,\n",
       " 4,\n",
       " 5,\n",
       " 1]"
      ]
     },
     "execution_count": 27,
     "metadata": {},
     "output_type": "execute_result"
    }
   ],
   "source": [
    "import random\n",
    "import matplotlib.pyplot as plt\n",
    "\n",
    "prob = []\n",
    "for k in range(1000):\n",
    "    k_time = [random.randint(1,6) for _ in range(100)]\n",
    "    k_prob = len([n for n in k_time if n==1])/10\n",
    "    prob.append(k_prob)\n",
    "plt.hist(prob, 20)\n",
    "plt.show()\n",
    "\n",
    "k_time"
   ]
  },
  {
   "cell_type": "code",
   "execution_count": 111,
   "metadata": {},
   "outputs": [
    {
     "data": {
      "text/plain": [
       "(4, 5)"
      ]
     },
     "execution_count": 111,
     "metadata": {},
     "output_type": "execute_result"
    }
   ],
   "source": [
    "df = pd.DataFrame(np.nan, index=list('abcd'),columns=['x','y','z', 8, 9])\n",
    "df.shape"
   ]
  },
  {
   "cell_type": "code",
   "execution_count": 112,
   "metadata": {},
   "outputs": [
    {
     "name": "stderr",
     "output_type": "stream",
     "text": [
      "C:\\Users\\omar.hazim\\AppData\\Local\\Continuum\\Anaconda2\\envs\\python-35\\lib\\site-packages\\ipykernel_launcher.py:2: DeprecationWarning: \n",
      ".ix is deprecated. Please use\n",
      ".loc for label based indexing or\n",
      ".iloc for positional indexing\n",
      "\n",
      "See the documentation here:\n",
      "http://pandas.pydata.org/pandas-docs/stable/indexing.html#ix-indexer-is-deprecated\n",
      "  \n"
     ]
    },
    {
     "data": {
      "text/html": [
       "<div>\n",
       "<style>\n",
       "    .dataframe thead tr:only-child th {\n",
       "        text-align: right;\n",
       "    }\n",
       "\n",
       "    .dataframe thead th {\n",
       "        text-align: left;\n",
       "    }\n",
       "\n",
       "    .dataframe tbody tr th {\n",
       "        vertical-align: top;\n",
       "    }\n",
       "</style>\n",
       "<table border=\"1\" class=\"dataframe\">\n",
       "  <thead>\n",
       "    <tr style=\"text-align: right;\">\n",
       "      <th></th>\n",
       "      <th>x</th>\n",
       "      <th>y</th>\n",
       "      <th>z</th>\n",
       "      <th>8</th>\n",
       "    </tr>\n",
       "  </thead>\n",
       "  <tbody>\n",
       "    <tr>\n",
       "      <th>a</th>\n",
       "      <td>NaN</td>\n",
       "      <td>NaN</td>\n",
       "      <td>NaN</td>\n",
       "      <td>NaN</td>\n",
       "    </tr>\n",
       "    <tr>\n",
       "      <th>b</th>\n",
       "      <td>NaN</td>\n",
       "      <td>NaN</td>\n",
       "      <td>NaN</td>\n",
       "      <td>NaN</td>\n",
       "    </tr>\n",
       "    <tr>\n",
       "      <th>c</th>\n",
       "      <td>NaN</td>\n",
       "      <td>NaN</td>\n",
       "      <td>NaN</td>\n",
       "      <td>NaN</td>\n",
       "    </tr>\n",
       "  </tbody>\n",
       "</table>\n",
       "</div>"
      ],
      "text/plain": [
       "    x   y   z   8\n",
       "a NaN NaN NaN NaN\n",
       "b NaN NaN NaN NaN\n",
       "c NaN NaN NaN NaN"
      ]
     },
     "execution_count": 112,
     "metadata": {},
     "output_type": "execute_result"
    }
   ],
   "source": [
    "df.iloc[:df.index.get_loc('c')+1]\n",
    "df.ix[:'c',:4]"
   ]
  },
  {
   "cell_type": "code",
   "execution_count": 46,
   "metadata": {},
   "outputs": [
    {
     "name": "stdout",
     "output_type": "stream",
     "text": [
      "[nan]\n",
      "[nan]\n",
      "[nan]\n",
      "[nan]\n",
      "[nan]\n"
     ]
    }
   ],
   "source": [
    "for i in df:\n",
    "    print(random.sample(list(df[i]),1))"
   ]
  },
  {
   "cell_type": "code",
   "execution_count": 95,
   "metadata": {
    "collapsed": true
   },
   "outputs": [],
   "source": [
    "random.seed(2)\n",
    "row_1 = random.sample(range(0,df.shape[0]),3)\n",
    "col_1 = random.sample(range(0,df.shape[1]),3)\n"
   ]
  },
  {
   "cell_type": "code",
   "execution_count": 96,
   "metadata": {},
   "outputs": [
    {
     "data": {
      "text/html": [
       "<div>\n",
       "<style>\n",
       "    .dataframe thead tr:only-child th {\n",
       "        text-align: right;\n",
       "    }\n",
       "\n",
       "    .dataframe thead th {\n",
       "        text-align: left;\n",
       "    }\n",
       "\n",
       "    .dataframe tbody tr th {\n",
       "        vertical-align: top;\n",
       "    }\n",
       "</style>\n",
       "<table border=\"1\" class=\"dataframe\">\n",
       "  <thead>\n",
       "    <tr style=\"text-align: right;\">\n",
       "      <th></th>\n",
       "      <th>z</th>\n",
       "      <th>y</th>\n",
       "      <th>9</th>\n",
       "    </tr>\n",
       "  </thead>\n",
       "  <tbody>\n",
       "    <tr>\n",
       "      <th>a</th>\n",
       "      <td>NaN</td>\n",
       "      <td>NaN</td>\n",
       "      <td>NaN</td>\n",
       "    </tr>\n",
       "    <tr>\n",
       "      <th>d</th>\n",
       "      <td>NaN</td>\n",
       "      <td>NaN</td>\n",
       "      <td>NaN</td>\n",
       "    </tr>\n",
       "    <tr>\n",
       "      <th>c</th>\n",
       "      <td>NaN</td>\n",
       "      <td>NaN</td>\n",
       "      <td>NaN</td>\n",
       "    </tr>\n",
       "  </tbody>\n",
       "</table>\n",
       "</div>"
      ],
      "text/plain": [
       "    z   y   9\n",
       "a NaN NaN NaN\n",
       "d NaN NaN NaN\n",
       "c NaN NaN NaN"
      ]
     },
     "execution_count": 96,
     "metadata": {},
     "output_type": "execute_result"
    }
   ],
   "source": [
    "df.ix[row_1,col_1]"
   ]
  },
  {
   "cell_type": "code",
   "execution_count": 102,
   "metadata": {},
   "outputs": [
    {
     "name": "stdout",
     "output_type": "stream",
     "text": [
      "[    x   y   z   8   9\n",
      "b NaN NaN NaN NaN NaN\n",
      "d NaN NaN NaN NaN NaN,     x   y   z   8   9\n",
      "b NaN NaN NaN NaN NaN\n",
      "a NaN NaN NaN NaN NaN]\n"
     ]
    }
   ],
   "source": [
    "def rnd_selct(df,count):\n",
    "    return df.iloc[random.sample(range(0,df.shape[0]),count)]\n",
    "n_df = [rnd_selct(df,2) for _ in range(2)]\n",
    "print(n_df)"
   ]
  },
  {
   "cell_type": "code",
   "execution_count": 106,
   "metadata": {},
   "outputs": [
    {
     "data": {
      "text/plain": [
       "[5, 9, 5, 5, 7]"
      ]
     },
     "execution_count": 106,
     "metadata": {},
     "output_type": "execute_result"
    }
   ],
   "source": [
    "## Random trail (btw 0 to 10) for (5) times\n",
    "s =[random.randint(0,10) for _ in range(5)]\n",
    "s"
   ]
  },
  {
   "cell_type": "code",
   "execution_count": 3,
   "metadata": {},
   "outputs": [
    {
     "data": {
      "image/png": "[encoded data removed]",
      "text/plain": [
       "<matplotlib.figure.Figure at 0x8146828>"
      ]
     },
     "metadata": {},
     "output_type": "display_data"
    }
   ],
   "source": [
    "cm = plt.cm.get_cmap('RdYlBu')\n",
    "xy = range(20)\n",
    "z = xy\n",
    "sc = plt.scatter(xy, xy, c=z, vmin=0, vmax=20, s=35, cmap=cm)\n",
    "plt.colorbar()\n",
    "plt.show()"
   ]
  },
  {
   "cell_type": "code",
   "execution_count": 18,
   "metadata": {},
   "outputs": [
    {
     "data": {
      "text/html": [
       "<div>\n",
       "<style>\n",
       "    .dataframe thead tr:only-child th {\n",
       "        text-align: right;\n",
       "    }\n",
       "\n",
       "    .dataframe thead th {\n",
       "        text-align: left;\n",
       "    }\n",
       "\n",
       "    .dataframe tbody tr th {\n",
       "        vertical-align: top;\n",
       "    }\n",
       "</style>\n",
       "<table border=\"1\" class=\"dataframe\">\n",
       "  <thead>\n",
       "    <tr style=\"text-align: right;\">\n",
       "      <th></th>\n",
       "      <th>0</th>\n",
       "      <th>1</th>\n",
       "    </tr>\n",
       "  </thead>\n",
       "  <tbody>\n",
       "    <tr>\n",
       "      <th>0</th>\n",
       "      <td>-0.571576</td>\n",
       "      <td>-0.457684</td>\n",
       "    </tr>\n",
       "    <tr>\n",
       "      <th>1</th>\n",
       "      <td>0.841312</td>\n",
       "      <td>-0.746035</td>\n",
       "    </tr>\n",
       "    <tr>\n",
       "      <th>2</th>\n",
       "      <td>-0.624049</td>\n",
       "      <td>0.327127</td>\n",
       "    </tr>\n",
       "    <tr>\n",
       "      <th>3</th>\n",
       "      <td>0.517511</td>\n",
       "      <td>-1.779261</td>\n",
       "    </tr>\n",
       "    <tr>\n",
       "      <th>4</th>\n",
       "      <td>-0.676642</td>\n",
       "      <td>-0.106739</td>\n",
       "    </tr>\n",
       "  </tbody>\n",
       "</table>\n",
       "</div>"
      ],
      "text/plain": [
       "          0         1\n",
       "0 -0.571576 -0.457684\n",
       "1  0.841312 -0.746035\n",
       "2 -0.624049  0.327127\n",
       "3  0.517511 -1.779261\n",
       "4 -0.676642 -0.106739"
      ]
     },
     "execution_count": 18,
     "metadata": {},
     "output_type": "execute_result"
    }
   ],
   "source": [
    "df = pd.DataFrame(np.random.randn(1000, 2)) \n",
    "df.head()"
   ]
  },
  {
   "cell_type": "code",
   "execution_count": null,
   "metadata": {
    "collapsed": true
   },
   "outputs": [],
   "source": [
    "[plot.axes[len(df.columns) - 1][col].xaxis.set_visible(False) \n",
    " for col in range(len(df.columns))]"
   ]
  },
  {
   "cell_type": "code",
   "execution_count": null,
   "metadata": {
    "collapsed": true
   },
   "outputs": [],
   "source": [
    "from selenium import webdriver\n",
    "\n",
    "# use youtube to search and retrive results \n",
    "driver = webdriver.Chrome(r\"C:\\Users\\omar.hazim\\Desktop\\Dataquest.io\\chromedriver.exe\")\n",
    "driver.get(\"http://www.youtube.com/results?search_query=\" + \"guitar+lessons\")\n",
    "\n",
    "\n",
    "results = driver.find_elements_by_xpath(\"//div[@id='title-wrapper']//a\")\n",
    "#//div[@id='style-scope ytd-video-renderer']//a\n",
    "\n",
    "print(len(results))\n",
    "\n",
    "for result in results:\n",
    "    title = result.get_attribute('title')\n",
    "    #video = result.find_element_by_css_selector('div > h3 > a')\n",
    "    #video = result.find_element_by_xpath('//h3/a')\n",
    "    #title = video.get_attribute('title')\n",
    "    url = result.get_attribute('href')\n",
    "    print(\"{}({})\".format(title, url))\n",
    "\n",
    "\n",
    "driver.quit()"
   ]
  },
  {
   "cell_type": "code",
   "execution_count": null,
   "metadata": {
    "collapsed": true
   },
   "outputs": [],
   "source": [
    "# Scraping Fandango web for recent movies scores \n",
    "reponse = requests.get('https://www.fandango.com/movie-reviews')\n",
    "content = reponse.content\n",
    "parser = bs(content, \"html.parser\")\n",
    "\n",
    "movie_review = parser.find_all('div', class_=\"page moviereviews\")[0]\n",
    "movie_df  = [movie_review.select('.dark')[i].text for i in range(0,len(movie_review.select('.dark')))]\n",
    "movie_df = pd.DataFrame(movie_df, columns=['movies_name'])\n",
    "movie_df.head()\n",
    "\n"
   ]
  },
  {
   "cell_type": "code",
   "execution_count": null,
   "metadata": {
    "collapsed": true
   },
   "outputs": [],
   "source": [
    "# website scraping for data\n",
    "movie_names = []\n",
    "RT_scores = []\n",
    "for i in range(0,len(td_rt)):\n",
    "    if td_rt[i].find('span') != None:\n",
    "        movie_name_1 = td_movie_name[i].text.replace(\"Review\",\"\")\n",
    "        RT_score_1 = int(td_rt[i].findAll('span',{'class':'rottentomatoes--rating rottentomatoes--rating__xlarge'})[0].text.replace(\"%\",\"\"))\n",
    "        movie_names.append(movie_name_1)\n",
    "        RT_scores.append(RT_score_1)\n",
    "    else:\n",
    "        movie_name_1 = td_movie_name[i].text.replace(\"Review\",\"\")\n",
    "        RT_score_1 = np.nan\n",
    "        movie_names.append(movie_name_1)\n",
    "        RT_scores.append(RT_score_1)\n",
    "        \n",
    "movies2017_df = pd.DataFrame({'Movies':movie_names,'RT scores':RT_scores},index=[i+1 for i in range(0,len(movie_names))]) \n",
    "movies2017_df.head()"
   ]
  },
  {
   "cell_type": "code",
   "execution_count": null,
   "metadata": {
    "collapsed": true
   },
   "outputs": [],
   "source": [
    "# plloting the diff for variables (stairs diagram)\n",
    "sns.set()\n",
    "f,(ax1,ax2,ax3) = plt.subplots(3, 1, figsize=(8, 6), sharex=True, sharey=True,)\n",
    "\n",
    "x = [i for i in range(0,len(diff_movies_df[\"Metacritic_norm_round\"]))]\n",
    "g = sns.barplot(x, y=diff_movies_df[\"Fandango_Stars\"], palette=\"BuGn_d\", ax=ax3)\n",
    "\n",
    "ax3.set_ylabel(\"Fandango scores\")\n",
    "ax3.axes.get_xaxis().set_visible(False)\n",
    "sns.barplot(x, y=diff_movies_df[\"Metacritic_norm_round\"], palette=\"BuGn_d\", ax=ax2)\n",
    "ax2.set_ylabel(\"Metacritic scores\")\n",
    "sns.barplot(x, y=diff_movies_df[\"Fan_Meta_diff\"], palette=\"RdYlBu\", ax=ax1)\n",
    "ax1.set_ylabel(\"Diff scores\")\n",
    "ax1.set_title(\"Scores differences btw Fandango and Metacritic\")"
   ]
  },
  {
   "cell_type": "code",
   "execution_count": 3,
   "metadata": {},
   "outputs": [
    {
     "name": "stderr",
     "output_type": "stream",
     "text": [
      "UsageError: Cell magic `%%dot` not found.\n"
     ]
    }
   ],
   "source": [
    "%%dot\n",
    "digraph G {\n",
    "    rankdir=LR;\n",
    "    hello -> world;\n",
    "    goodbye -> cruel -> world;\n",
    "    world -> of -> fire;\n",
    "}"
   ]
  },
  {
   "cell_type": "code",
   "execution_count": null,
   "metadata": {
    "collapsed": true
   },
   "outputs": [],
   "source": []
  },
  {
   "cell_type": "code",
   "execution_count": null,
   "metadata": {
    "collapsed": true
   },
   "outputs": [],
   "source": []
  },
  {
   "cell_type": "code",
   "execution_count": null,
   "metadata": {
    "collapsed": true
   },
   "outputs": [],
   "source": []
  },
  {
   "cell_type": "code",
   "execution_count": null,
   "metadata": {
    "collapsed": true
   },
   "outputs": [],
   "source": []
  },
  {
   "cell_type": "code",
   "execution_count": null,
   "metadata": {
    "collapsed": true
   },
   "outputs": [],
   "source": []
  },
  {
   "cell_type": "code",
   "execution_count": null,
   "metadata": {
    "collapsed": true
   },
   "outputs": [],
   "source": []
  },
  {
   "cell_type": "code",
   "execution_count": null,
   "metadata": {
    "collapsed": true
   },
   "outputs": [],
   "source": []
  },
  {
   "cell_type": "code",
   "execution_count": null,
   "metadata": {
    "collapsed": true
   },
   "outputs": [],
   "source": []
  },
  {
   "cell_type": "code",
   "execution_count": null,
   "metadata": {
    "collapsed": true
   },
   "outputs": [],
   "source": []
  },
  {
   "cell_type": "code",
   "execution_count": null,
   "metadata": {
    "collapsed": true
   },
   "outputs": [],
   "source": []
  },
  {
   "cell_type": "code",
   "execution_count": null,
   "metadata": {
    "collapsed": true
   },
   "outputs": [],
   "source": []
  },
  {
   "cell_type": "code",
   "execution_count": null,
   "metadata": {
    "collapsed": true
   },
   "outputs": [],
   "source": []
  },
  {
   "cell_type": "code",
   "execution_count": null,
   "metadata": {
    "collapsed": true
   },
   "outputs": [],
   "source": []
  },
  {
   "cell_type": "code",
   "execution_count": null,
   "metadata": {
    "collapsed": true
   },
   "outputs": [],
   "source": []
  },
  {
   "cell_type": "code",
   "execution_count": null,
   "metadata": {
    "collapsed": true
   },
   "outputs": [],
   "source": []
  },
  {
   "cell_type": "code",
   "execution_count": null,
   "metadata": {
    "collapsed": true
   },
   "outputs": [],
   "source": [
    "\n"
   ]
  },
  {
   "cell_type": "code",
   "execution_count": null,
   "metadata": {
    "collapsed": true
   },
   "outputs": [],
   "source": []
  }
 ],
 "metadata": {
  "kernelspec": {
   "display_name": "Python 3",
   "language": "python",
   "name": "python3"
  },
  "language_info": {
   "codemirror_mode": {
    "name": "ipython",
    "version": 3
   },
   "file_extension": ".py",
   "mimetype": "text/x-python",
   "name": "python",
   "nbconvert_exporter": "python",
   "pygments_lexer": "ipython3",
   "version": "3.5.3"
  }
 },
 "nbformat": 4,
 "nbformat_minor": 2
}
